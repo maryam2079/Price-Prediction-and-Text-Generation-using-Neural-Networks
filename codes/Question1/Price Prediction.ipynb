{
  "nbformat": 4,
  "nbformat_minor": 0,
  "metadata": {
    "colab": {
      "name": "Q1-project 2.ipynb",
      "provenance": [],
      "collapsed_sections": []
    },
    "kernelspec": {
      "name": "python3",
      "display_name": "Python 3"
    },
    "language_info": {
      "name": "python"
    }
  },
  "cells": [
    {
      "cell_type": "code",
      "execution_count": 1,
      "metadata": {
        "colab": {
          "base_uri": "https://localhost:8080/"
        },
        "id": "WjwNg-JCeamH",
        "outputId": "f048d3c2-67d3-496a-b84b-017d58249e93"
      },
      "outputs": [
        {
          "output_type": "stream",
          "name": "stdout",
          "text": [
            "CPU times: user 4 µs, sys: 1 µs, total: 5 µs\n",
            "Wall time: 7.39 µs\n"
          ]
        }
      ],
      "source": [
        "%time"
      ]
    },
    {
      "cell_type": "code",
      "source": [
        "import matplotlib.pyplot as plt\n",
        "import numpy as np\n",
        "import pandas as pd\n",
        "import datetime\n",
        "import pandas_datareader.data as web\n",
        "import os.path\n",
        "import pandas as pd\n",
        "import datetime\n",
        "import pandas_datareader as pdr \n",
        "from pandas import Series, DataFrame "
      ],
      "metadata": {
        "id": "OMgtrnwwebOZ"
      },
      "execution_count": 2,
      "outputs": []
    },
    {
      "cell_type": "code",
      "source": [
        "def data_loader():\n",
        "    a = os.path.isfile('AAPL.csv')\n",
        "    if a is False:\n",
        "        df.to_csv(r'APPL.csv', sep='\\t', encoding='utf-8', header='true')\n",
        "        df = pd.read_csv('AAPL.csv', sep='\\t')\n",
        "    else:\n",
        "        df = pd.read_csv('AAPL.csv', sep='\\t')\n",
        "    return df"
      ],
      "metadata": {
        "id": "Bz1xX_oLelK-"
      },
      "execution_count": 8,
      "outputs": []
    },
    {
      "cell_type": "code",
      "source": [
        "df= data_loader()"
      ],
      "metadata": {
        "id": "CSWaxKPMenNN"
      },
      "execution_count": 9,
      "outputs": []
    },
    {
      "cell_type": "code",
      "source": [
        "def data_loader():\n",
        "    a = os.path.isfile('GOOG.csv')\n",
        "    if a is False:\n",
        "        df_google.to_csv(r'GOOG.csv', sep='\\t', encoding='utf-8', header='true')\n",
        "        df_google = pd.read_csv('GOOG.csv', sep='\\t')\n",
        "    else:\n",
        "        df_google = pd.read_csv('GOOG.csv', sep='\\t')\n",
        "    return df_google"
      ],
      "metadata": {
        "id": "rF7SCztweow4"
      },
      "execution_count": 10,
      "outputs": []
    },
    {
      "cell_type": "code",
      "source": [
        "df_google= data_loader()"
      ],
      "metadata": {
        "id": "lspizBpleqhw"
      },
      "execution_count": 11,
      "outputs": []
    },
    {
      "cell_type": "code",
      "source": [
        "merged = pd.merge(df, df_google, on ='Date')"
      ],
      "metadata": {
        "id": "m8v9OKLJfBja"
      },
      "execution_count": 12,
      "outputs": []
    },
    {
      "cell_type": "code",
      "source": [
        "merged"
      ],
      "metadata": {
        "colab": {
          "base_uri": "https://localhost:8080/",
          "height": 424
        },
        "id": "-0W3yq9Lf4g3",
        "outputId": "515a99a1-907f-4b67-ee17-79cb1c1c5d9b"
      },
      "execution_count": 13,
      "outputs": [
        {
          "output_type": "execute_result",
          "data": {
            "text/plain": [
              "            Date      High_x       Low_x      Open_x     Close_x     Volume_x  \\\n",
              "0     2010-01-04   30.642857   30.340000   30.490000   30.572857  123432400.0   \n",
              "1     2010-01-05   30.798571   30.464285   30.657143   30.625713  150476200.0   \n",
              "2     2010-01-06   30.747143   30.107143   30.625713   30.138571  138040000.0   \n",
              "3     2010-01-07   30.285715   29.864286   30.250000   30.082857  119282800.0   \n",
              "4     2010-01-08   30.285715   29.865715   30.042856   30.282858  111902700.0   \n",
              "...          ...         ...         ...         ...         ...          ...   \n",
              "2259  2018-12-24  151.550003  146.589996  148.149994  146.830002   37169200.0   \n",
              "2260  2018-12-26  157.229996  146.720001  148.300003  157.169998   58582500.0   \n",
              "2261  2018-12-27  156.770004  150.070007  155.839996  156.149994   53117100.0   \n",
              "2262  2018-12-28  158.520004  154.550003  157.500000  156.229996   42291400.0   \n",
              "2263  2018-12-31  159.360001  156.479996  158.529999  157.740005   35003500.0   \n",
              "\n",
              "      Adj Close_x       High_y        Low_y       Open_y      Close_y  \\\n",
              "0       26.601469   313.579620   310.954468   312.304413   312.204773   \n",
              "1       26.647457   312.747742   309.609497   312.418976   310.829926   \n",
              "2       26.223597   311.761444   302.047852   311.761444   302.994293   \n",
              "3       26.175119   303.861053   295.218445   303.562164   295.940735   \n",
              "4       26.349140   300.498657   293.455048   294.894653   299.885956   \n",
              "...           ...          ...          ...          ...          ...   \n",
              "2259   144.656540  1003.539978   970.109985   973.900024   976.219971   \n",
              "2260   154.843475  1040.000000   983.000000   989.010010  1039.459961   \n",
              "2261   153.838562  1043.890015   997.000000  1017.150024  1043.880005   \n",
              "2262   153.917389  1055.560059  1033.099976  1049.619995  1037.079956   \n",
              "2263   155.405045  1052.699951  1023.590027  1050.959961  1035.609985   \n",
              "\n",
              "        Volume_y  Adj Close_y  \n",
              "0      3927000.0   312.204773  \n",
              "1      6031900.0   310.829926  \n",
              "2      7987100.0   302.994293  \n",
              "3     12876600.0   295.940735  \n",
              "4      9483900.0   299.885956  \n",
              "...          ...          ...  \n",
              "2259   1590300.0   976.219971  \n",
              "2260   2373300.0  1039.459961  \n",
              "2261   2109800.0  1043.880005  \n",
              "2262   1414800.0  1037.079956  \n",
              "2263   1493300.0  1035.609985  \n",
              "\n",
              "[2264 rows x 13 columns]"
            ],
            "text/html": [
              "\n",
              "  <div id=\"df-8c19320a-bff7-420a-8633-e83e635bb86b\">\n",
              "    <div class=\"colab-df-container\">\n",
              "      <div>\n",
              "<style scoped>\n",
              "    .dataframe tbody tr th:only-of-type {\n",
              "        vertical-align: middle;\n",
              "    }\n",
              "\n",
              "    .dataframe tbody tr th {\n",
              "        vertical-align: top;\n",
              "    }\n",
              "\n",
              "    .dataframe thead th {\n",
              "        text-align: right;\n",
              "    }\n",
              "</style>\n",
              "<table border=\"1\" class=\"dataframe\">\n",
              "  <thead>\n",
              "    <tr style=\"text-align: right;\">\n",
              "      <th></th>\n",
              "      <th>Date</th>\n",
              "      <th>High_x</th>\n",
              "      <th>Low_x</th>\n",
              "      <th>Open_x</th>\n",
              "      <th>Close_x</th>\n",
              "      <th>Volume_x</th>\n",
              "      <th>Adj Close_x</th>\n",
              "      <th>High_y</th>\n",
              "      <th>Low_y</th>\n",
              "      <th>Open_y</th>\n",
              "      <th>Close_y</th>\n",
              "      <th>Volume_y</th>\n",
              "      <th>Adj Close_y</th>\n",
              "    </tr>\n",
              "  </thead>\n",
              "  <tbody>\n",
              "    <tr>\n",
              "      <th>0</th>\n",
              "      <td>2010-01-04</td>\n",
              "      <td>30.642857</td>\n",
              "      <td>30.340000</td>\n",
              "      <td>30.490000</td>\n",
              "      <td>30.572857</td>\n",
              "      <td>123432400.0</td>\n",
              "      <td>26.601469</td>\n",
              "      <td>313.579620</td>\n",
              "      <td>310.954468</td>\n",
              "      <td>312.304413</td>\n",
              "      <td>312.204773</td>\n",
              "      <td>3927000.0</td>\n",
              "      <td>312.204773</td>\n",
              "    </tr>\n",
              "    <tr>\n",
              "      <th>1</th>\n",
              "      <td>2010-01-05</td>\n",
              "      <td>30.798571</td>\n",
              "      <td>30.464285</td>\n",
              "      <td>30.657143</td>\n",
              "      <td>30.625713</td>\n",
              "      <td>150476200.0</td>\n",
              "      <td>26.647457</td>\n",
              "      <td>312.747742</td>\n",
              "      <td>309.609497</td>\n",
              "      <td>312.418976</td>\n",
              "      <td>310.829926</td>\n",
              "      <td>6031900.0</td>\n",
              "      <td>310.829926</td>\n",
              "    </tr>\n",
              "    <tr>\n",
              "      <th>2</th>\n",
              "      <td>2010-01-06</td>\n",
              "      <td>30.747143</td>\n",
              "      <td>30.107143</td>\n",
              "      <td>30.625713</td>\n",
              "      <td>30.138571</td>\n",
              "      <td>138040000.0</td>\n",
              "      <td>26.223597</td>\n",
              "      <td>311.761444</td>\n",
              "      <td>302.047852</td>\n",
              "      <td>311.761444</td>\n",
              "      <td>302.994293</td>\n",
              "      <td>7987100.0</td>\n",
              "      <td>302.994293</td>\n",
              "    </tr>\n",
              "    <tr>\n",
              "      <th>3</th>\n",
              "      <td>2010-01-07</td>\n",
              "      <td>30.285715</td>\n",
              "      <td>29.864286</td>\n",
              "      <td>30.250000</td>\n",
              "      <td>30.082857</td>\n",
              "      <td>119282800.0</td>\n",
              "      <td>26.175119</td>\n",
              "      <td>303.861053</td>\n",
              "      <td>295.218445</td>\n",
              "      <td>303.562164</td>\n",
              "      <td>295.940735</td>\n",
              "      <td>12876600.0</td>\n",
              "      <td>295.940735</td>\n",
              "    </tr>\n",
              "    <tr>\n",
              "      <th>4</th>\n",
              "      <td>2010-01-08</td>\n",
              "      <td>30.285715</td>\n",
              "      <td>29.865715</td>\n",
              "      <td>30.042856</td>\n",
              "      <td>30.282858</td>\n",
              "      <td>111902700.0</td>\n",
              "      <td>26.349140</td>\n",
              "      <td>300.498657</td>\n",
              "      <td>293.455048</td>\n",
              "      <td>294.894653</td>\n",
              "      <td>299.885956</td>\n",
              "      <td>9483900.0</td>\n",
              "      <td>299.885956</td>\n",
              "    </tr>\n",
              "    <tr>\n",
              "      <th>...</th>\n",
              "      <td>...</td>\n",
              "      <td>...</td>\n",
              "      <td>...</td>\n",
              "      <td>...</td>\n",
              "      <td>...</td>\n",
              "      <td>...</td>\n",
              "      <td>...</td>\n",
              "      <td>...</td>\n",
              "      <td>...</td>\n",
              "      <td>...</td>\n",
              "      <td>...</td>\n",
              "      <td>...</td>\n",
              "      <td>...</td>\n",
              "    </tr>\n",
              "    <tr>\n",
              "      <th>2259</th>\n",
              "      <td>2018-12-24</td>\n",
              "      <td>151.550003</td>\n",
              "      <td>146.589996</td>\n",
              "      <td>148.149994</td>\n",
              "      <td>146.830002</td>\n",
              "      <td>37169200.0</td>\n",
              "      <td>144.656540</td>\n",
              "      <td>1003.539978</td>\n",
              "      <td>970.109985</td>\n",
              "      <td>973.900024</td>\n",
              "      <td>976.219971</td>\n",
              "      <td>1590300.0</td>\n",
              "      <td>976.219971</td>\n",
              "    </tr>\n",
              "    <tr>\n",
              "      <th>2260</th>\n",
              "      <td>2018-12-26</td>\n",
              "      <td>157.229996</td>\n",
              "      <td>146.720001</td>\n",
              "      <td>148.300003</td>\n",
              "      <td>157.169998</td>\n",
              "      <td>58582500.0</td>\n",
              "      <td>154.843475</td>\n",
              "      <td>1040.000000</td>\n",
              "      <td>983.000000</td>\n",
              "      <td>989.010010</td>\n",
              "      <td>1039.459961</td>\n",
              "      <td>2373300.0</td>\n",
              "      <td>1039.459961</td>\n",
              "    </tr>\n",
              "    <tr>\n",
              "      <th>2261</th>\n",
              "      <td>2018-12-27</td>\n",
              "      <td>156.770004</td>\n",
              "      <td>150.070007</td>\n",
              "      <td>155.839996</td>\n",
              "      <td>156.149994</td>\n",
              "      <td>53117100.0</td>\n",
              "      <td>153.838562</td>\n",
              "      <td>1043.890015</td>\n",
              "      <td>997.000000</td>\n",
              "      <td>1017.150024</td>\n",
              "      <td>1043.880005</td>\n",
              "      <td>2109800.0</td>\n",
              "      <td>1043.880005</td>\n",
              "    </tr>\n",
              "    <tr>\n",
              "      <th>2262</th>\n",
              "      <td>2018-12-28</td>\n",
              "      <td>158.520004</td>\n",
              "      <td>154.550003</td>\n",
              "      <td>157.500000</td>\n",
              "      <td>156.229996</td>\n",
              "      <td>42291400.0</td>\n",
              "      <td>153.917389</td>\n",
              "      <td>1055.560059</td>\n",
              "      <td>1033.099976</td>\n",
              "      <td>1049.619995</td>\n",
              "      <td>1037.079956</td>\n",
              "      <td>1414800.0</td>\n",
              "      <td>1037.079956</td>\n",
              "    </tr>\n",
              "    <tr>\n",
              "      <th>2263</th>\n",
              "      <td>2018-12-31</td>\n",
              "      <td>159.360001</td>\n",
              "      <td>156.479996</td>\n",
              "      <td>158.529999</td>\n",
              "      <td>157.740005</td>\n",
              "      <td>35003500.0</td>\n",
              "      <td>155.405045</td>\n",
              "      <td>1052.699951</td>\n",
              "      <td>1023.590027</td>\n",
              "      <td>1050.959961</td>\n",
              "      <td>1035.609985</td>\n",
              "      <td>1493300.0</td>\n",
              "      <td>1035.609985</td>\n",
              "    </tr>\n",
              "  </tbody>\n",
              "</table>\n",
              "<p>2264 rows × 13 columns</p>\n",
              "</div>\n",
              "      <button class=\"colab-df-convert\" onclick=\"convertToInteractive('df-8c19320a-bff7-420a-8633-e83e635bb86b')\"\n",
              "              title=\"Convert this dataframe to an interactive table.\"\n",
              "              style=\"display:none;\">\n",
              "        \n",
              "  <svg xmlns=\"http://www.w3.org/2000/svg\" height=\"24px\"viewBox=\"0 0 24 24\"\n",
              "       width=\"24px\">\n",
              "    <path d=\"M0 0h24v24H0V0z\" fill=\"none\"/>\n",
              "    <path d=\"M18.56 5.44l.94 2.06.94-2.06 2.06-.94-2.06-.94-.94-2.06-.94 2.06-2.06.94zm-11 1L8.5 8.5l.94-2.06 2.06-.94-2.06-.94L8.5 2.5l-.94 2.06-2.06.94zm10 10l.94 2.06.94-2.06 2.06-.94-2.06-.94-.94-2.06-.94 2.06-2.06.94z\"/><path d=\"M17.41 7.96l-1.37-1.37c-.4-.4-.92-.59-1.43-.59-.52 0-1.04.2-1.43.59L10.3 9.45l-7.72 7.72c-.78.78-.78 2.05 0 2.83L4 21.41c.39.39.9.59 1.41.59.51 0 1.02-.2 1.41-.59l7.78-7.78 2.81-2.81c.8-.78.8-2.07 0-2.86zM5.41 20L4 18.59l7.72-7.72 1.47 1.35L5.41 20z\"/>\n",
              "  </svg>\n",
              "      </button>\n",
              "      \n",
              "  <style>\n",
              "    .colab-df-container {\n",
              "      display:flex;\n",
              "      flex-wrap:wrap;\n",
              "      gap: 12px;\n",
              "    }\n",
              "\n",
              "    .colab-df-convert {\n",
              "      background-color: #E8F0FE;\n",
              "      border: none;\n",
              "      border-radius: 50%;\n",
              "      cursor: pointer;\n",
              "      display: none;\n",
              "      fill: #1967D2;\n",
              "      height: 32px;\n",
              "      padding: 0 0 0 0;\n",
              "      width: 32px;\n",
              "    }\n",
              "\n",
              "    .colab-df-convert:hover {\n",
              "      background-color: #E2EBFA;\n",
              "      box-shadow: 0px 1px 2px rgba(60, 64, 67, 0.3), 0px 1px 3px 1px rgba(60, 64, 67, 0.15);\n",
              "      fill: #174EA6;\n",
              "    }\n",
              "\n",
              "    [theme=dark] .colab-df-convert {\n",
              "      background-color: #3B4455;\n",
              "      fill: #D2E3FC;\n",
              "    }\n",
              "\n",
              "    [theme=dark] .colab-df-convert:hover {\n",
              "      background-color: #434B5C;\n",
              "      box-shadow: 0px 1px 3px 1px rgba(0, 0, 0, 0.15);\n",
              "      filter: drop-shadow(0px 1px 2px rgba(0, 0, 0, 0.3));\n",
              "      fill: #FFFFFF;\n",
              "    }\n",
              "  </style>\n",
              "\n",
              "      <script>\n",
              "        const buttonEl =\n",
              "          document.querySelector('#df-8c19320a-bff7-420a-8633-e83e635bb86b button.colab-df-convert');\n",
              "        buttonEl.style.display =\n",
              "          google.colab.kernel.accessAllowed ? 'block' : 'none';\n",
              "\n",
              "        async function convertToInteractive(key) {\n",
              "          const element = document.querySelector('#df-8c19320a-bff7-420a-8633-e83e635bb86b');\n",
              "          const dataTable =\n",
              "            await google.colab.kernel.invokeFunction('convertToInteractive',\n",
              "                                                     [key], {});\n",
              "          if (!dataTable) return;\n",
              "\n",
              "          const docLinkHtml = 'Like what you see? Visit the ' +\n",
              "            '<a target=\"_blank\" href=https://colab.research.google.com/notebooks/data_table.ipynb>data table notebook</a>'\n",
              "            + ' to learn more about interactive tables.';\n",
              "          element.innerHTML = '';\n",
              "          dataTable['output_type'] = 'display_data';\n",
              "          await google.colab.output.renderOutput(dataTable, element);\n",
              "          const docLink = document.createElement('div');\n",
              "          docLink.innerHTML = docLinkHtml;\n",
              "          element.appendChild(docLink);\n",
              "        }\n",
              "      </script>\n",
              "    </div>\n",
              "  </div>\n",
              "  "
            ]
          },
          "metadata": {},
          "execution_count": 13
        }
      ]
    },
    {
      "cell_type": "code",
      "source": [
        "merged.isna().sum()"
      ],
      "metadata": {
        "colab": {
          "base_uri": "https://localhost:8080/"
        },
        "id": "DGGeBfkzf8eC",
        "outputId": "59418fb2-a373-4005-d2fb-2639969730b1"
      },
      "execution_count": 14,
      "outputs": [
        {
          "output_type": "execute_result",
          "data": {
            "text/plain": [
              "Date           0\n",
              "High_x         0\n",
              "Low_x          0\n",
              "Open_x         0\n",
              "Close_x        0\n",
              "Volume_x       0\n",
              "Adj Close_x    0\n",
              "High_y         0\n",
              "Low_y          0\n",
              "Open_y         0\n",
              "Close_y        0\n",
              "Volume_y       0\n",
              "Adj Close_y    0\n",
              "dtype: int64"
            ]
          },
          "metadata": {},
          "execution_count": 14
        }
      ]
    },
    {
      "cell_type": "code",
      "source": [
        "merged.shape"
      ],
      "metadata": {
        "colab": {
          "base_uri": "https://localhost:8080/"
        },
        "id": "lD3s6XR_gIQ-",
        "outputId": "de1c7491-9b61-4121-cbec-84a09d281799"
      },
      "execution_count": 15,
      "outputs": [
        {
          "output_type": "execute_result",
          "data": {
            "text/plain": [
              "(2264, 13)"
            ]
          },
          "metadata": {},
          "execution_count": 15
        }
      ]
    },
    {
      "cell_type": "code",
      "source": [
        "data_close = merged['Close_x'][0:].to_numpy().astype(np.float)\n",
        "plt.figure(figsize = (10,10))\n",
        "\n",
        "plt.plot(np.arange(merged[0:].shape[0]),data_close )\n",
        "plt.xlabel('Days')\n",
        "plt.ylabel('price (Close)')\n",
        "plt.show()"
      ],
      "metadata": {
        "colab": {
          "base_uri": "https://localhost:8080/",
          "height": 678
        },
        "id": "_Q6HC1aRgNJ6",
        "outputId": "5cc7b48c-cc04-4a8f-9381-e3c3c66d9f88"
      },
      "execution_count": 16,
      "outputs": [
        {
          "output_type": "stream",
          "name": "stderr",
          "text": [
            "/usr/local/lib/python3.7/dist-packages/ipykernel_launcher.py:1: DeprecationWarning: `np.float` is a deprecated alias for the builtin `float`. To silence this warning, use `float` by itself. Doing this will not modify any behavior and is safe. If you specifically wanted the numpy scalar type, use `np.float64` here.\n",
            "Deprecated in NumPy 1.20; for more details and guidance: https://numpy.org/devdocs/release/1.20.0-notes.html#deprecations\n",
            "  \"\"\"Entry point for launching an IPython kernel.\n"
          ]
        },
        {
          "output_type": "display_data",
          "data": {
            "text/plain": [
              "<Figure size 720x720 with 1 Axes>"
            ],
            "image/png": "[encoded data removed]"
          },
          "metadata": {
            "needs_background": "light"
          }
        }
      ]
    },
    {
      "cell_type": "code",
      "source": [
        "data_close = merged['Close_y'][0:].to_numpy().astype(np.float)\n",
        "plt.figure(figsize = (10,10))\n",
        "\n",
        "plt.plot(np.arange(merged[0:].shape[0]),data_close )\n",
        "plt.xlabel('Days')\n",
        "plt.ylabel('price (Close)')\n",
        "plt.show()"
      ],
      "metadata": {
        "colab": {
          "base_uri": "https://localhost:8080/",
          "height": 678
        },
        "id": "05xfV9a7gTFm",
        "outputId": "63c892e6-d3e6-4928-c044-12d5bf74a7a5"
      },
      "execution_count": 17,
      "outputs": [
        {
          "output_type": "stream",
          "name": "stderr",
          "text": [
            "/usr/local/lib/python3.7/dist-packages/ipykernel_launcher.py:1: DeprecationWarning: `np.float` is a deprecated alias for the builtin `float`. To silence this warning, use `float` by itself. Doing this will not modify any behavior and is safe. If you specifically wanted the numpy scalar type, use `np.float64` here.\n",
            "Deprecated in NumPy 1.20; for more details and guidance: https://numpy.org/devdocs/release/1.20.0-notes.html#deprecations\n",
            "  \"\"\"Entry point for launching an IPython kernel.\n"
          ]
        },
        {
          "output_type": "display_data",
          "data": {
            "text/plain": [
              "<Figure size 720x720 with 1 Axes>"
            ],
            "image/png": "[encoded data removed]"
          },
          "metadata": {
            "needs_background": "light"
          }
        }
      ]
    },
    {
      "cell_type": "code",
      "source": [
        "\n",
        "from sklearn import preprocessing\n",
        "\n",
        "scaler = preprocessing.MinMaxScaler(copy=True, feature_range=(0, 1))\n",
        "#select only numeric columns\n",
        "X = scaler.fit_transform(merged.select_dtypes(np.number))\n",
        "print (X)"
      ],
      "metadata": {
        "colab": {
          "base_uri": "https://localhost:8080/"
        },
        "id": "mV5RD5ixgcmp",
        "outputId": "f4453844-fdda-493f-d7e1-8cd2222c6bef"
      },
      "execution_count": 18,
      "outputs": [
        {
          "output_type": "stream",
          "name": "stdout",
          "text": [
            "[[0.01286249 0.01560418 0.01479878 ... 0.09036546 0.1317225  0.09036546]\n",
            " [0.01362034 0.01621762 0.01562094 ... 0.08905746 0.20246902 0.08905746]\n",
            " [0.01337004 0.01445484 0.01546634 ... 0.08160283 0.26818406 0.08160283]\n",
            " ...\n",
            " [0.62670951 0.60656747 0.63137959 ... 0.78646371 0.07064569 0.78646371]\n",
            " [0.63522657 0.62867983 0.63954494 ... 0.7799943  0.04728646 0.7799943 ]\n",
            " [0.63931474 0.63820589 0.64461137 ... 0.77859581 0.04992488 0.77859581]]\n"
          ]
        }
      ]
    },
    {
      "cell_type": "code",
      "source": [
        "X[29]"
      ],
      "metadata": {
        "colab": {
          "base_uri": "https://localhost:8080/"
        },
        "id": "mzxWun9lgx6H",
        "outputId": "caec31f3-3463-4669-bd67-7c3f2f0a442d"
      },
      "execution_count": 19,
      "outputs": [
        {
          "output_type": "execute_result",
          "data": {
            "text/plain": [
              "array([0.00534663, 0.00794664, 0.00672481, 0.00792354, 0.27128523,\n",
              "       0.00691678, 0.0481549 , 0.04854437, 0.04663976, 0.0498697 ,\n",
              "       0.2463037 , 0.0498697 ])"
            ]
          },
          "metadata": {},
          "execution_count": 19
        }
      ]
    },
    {
      "cell_type": "code",
      "source": [
        "def data_for_training(data_s1, period1):\n",
        "    a1 = np.arange(len(data_s1) - period1 + 1)\n",
        "    data_list1 = []\n",
        "    for i in range(len(a1)):\n",
        "        sample_list = []\n",
        "        for j in range(period1):\n",
        "            value1 = data_s1[i + j]\n",
        "            sample_list.append(value1)\n",
        "        data_list1.append(sample_list)\n",
        "    data_list1 = np.array(data_list1)\n",
        "    return data_list1"
      ],
      "metadata": {
        "id": "pCA3OwyQgzjp"
      },
      "execution_count": 20,
      "outputs": []
    },
    {
      "cell_type": "code",
      "source": [
        "period = 30 ##30 days\n",
        "data_list = data_for_training(X, period)\n",
        "print(data_list.shape)\n",
        "data_list[0].shape"
      ],
      "metadata": {
        "colab": {
          "base_uri": "https://localhost:8080/"
        },
        "id": "EnAxavFqg-kx",
        "outputId": "e48f321a-e7fc-4ad9-c32e-435c9dae63d7"
      },
      "execution_count": 21,
      "outputs": [
        {
          "output_type": "stream",
          "name": "stdout",
          "text": [
            "(2235, 30, 12)\n"
          ]
        },
        {
          "output_type": "execute_result",
          "data": {
            "text/plain": [
              "(30, 12)"
            ]
          },
          "metadata": {},
          "execution_count": 21
        }
      ]
    },
    {
      "cell_type": "code",
      "source": [
        "\n",
        "data_list[0]"
      ],
      "metadata": {
        "colab": {
          "base_uri": "https://localhost:8080/"
        },
        "id": "HpiZRnwIhDr3",
        "outputId": "226235c9-351f-431b-b526-9ecac8a46fce"
      },
      "execution_count": 22,
      "outputs": [
        {
          "output_type": "execute_result",
          "data": {
            "text/plain": [
              "array([[1.28624937e-02, 1.56041766e-02, 1.47987840e-02, 1.53304812e-02,\n",
              "        2.44034312e-01, 1.33826204e-02, 8.85227346e-02, 9.19145829e-02,\n",
              "        8.92667028e-02, 9.03654614e-02, 1.31722499e-01, 9.03654614e-02],\n",
              "       [1.36203369e-02, 1.62176212e-02, 1.56209386e-02, 1.55887783e-02,\n",
              "        3.02982342e-01, 1.36080876e-02, 8.77331581e-02, 9.06125968e-02,\n",
              "        8.93755343e-02, 8.90574646e-02, 2.02469020e-01, 8.90574646e-02],\n",
              "       [1.33700432e-02, 1.44548424e-02, 1.54663419e-02, 1.32082264e-02,\n",
              "        2.75874854e-01, 1.15300133e-02, 8.67970151e-02, 8.32926180e-02,\n",
              "        8.87508980e-02, 8.16028322e-02, 2.68184064e-01, 8.16028322e-02],\n",
              "       [1.11243252e-02, 1.32561491e-02, 1.36182554e-02, 1.29359668e-02,\n",
              "        2.34989328e-01, 1.12923428e-02, 7.92983704e-02, 7.66814759e-02,\n",
              "        8.09618175e-02, 7.48922462e-02, 4.32522090e-01, 7.48922462e-02],\n",
              "       [1.11243252e-02, 1.32632004e-02, 1.25993413e-02, 1.39133238e-02,\n",
              "        2.18902744e-01, 1.21455198e-02, 7.61069567e-02, 7.49744360e-02,\n",
              "        7.27279308e-02, 7.86456346e-02, 3.18492103e-01, 7.86456346e-02],\n",
              "       [1.18195926e-02, 1.28330803e-02, 1.43560846e-02, 1.26078571e-02,\n",
              "        2.26868983e-01, 1.10059431e-02, 7.66790586e-02, 7.73517600e-02,\n",
              "        7.86241715e-02, 7.82143682e-02, 4.86406276e-01, 7.82143682e-02],\n",
              "       [9.57386525e-03, 1.14016940e-02, 1.18193493e-02, 1.09393745e-02,\n",
              "        2.98925222e-01, 9.54944424e-03, 7.37003981e-02, 7.44391895e-02,\n",
              "        7.54015805e-02, 7.31767034e-02, 3.27197196e-01, 7.31767034e-02],\n",
              "       [1.03803784e-02, 9.76582923e-03, 1.08917972e-02, 1.29848356e-02,\n",
              "        3.05155092e-01, 1.13350124e-02, 6.90763980e-02, 6.76399814e-02,\n",
              "        6.53884110e-02, 7.15701242e-02, 4.38074528e-01, 7.15701242e-02],\n",
              "       [1.00536033e-02, 1.32349952e-02, 1.24658353e-02, 1.21331411e-02,\n",
              "        2.10883102e-01, 1.05915439e-02, 7.18280831e-02, 7.19365177e-02,\n",
              "        6.88949091e-02, 7.28781210e-02, 2.85822799e-01, 7.28781210e-02],\n",
              "       [1.08462108e-02, 1.10138817e-02, 1.30420407e-02, 9.68975789e-03,\n",
              "        2.98711609e-01, 8.45859671e-03, 7.15255073e-02, 6.96363581e-02,\n",
              "        7.33620471e-02, 6.82100841e-02, 3.66410443e-01, 6.82100841e-02],\n",
              "       [1.33422318e-02, 1.19798914e-02, 1.12150355e-02, 1.60495318e-02,\n",
              "        3.72789542e-01, 1.40103115e-02, 7.00408984e-02, 6.87924837e-02,\n",
              "        6.76172545e-02, 7.18212946e-02, 2.90992078e-01, 7.18212946e-02],\n",
              "       [1.35925254e-02, 1.35734483e-02, 1.58387794e-02, 1.37387924e-02,\n",
              "        3.08566796e-01, 1.19931698e-02, 6.79416661e-02, 6.83102655e-02,\n",
              "        6.98792055e-02, 6.84044066e-02, 2.19065833e-01, 6.84044066e-02],\n",
              "       [1.20351219e-02, 1.19587375e-02, 1.38501411e-02, 1.11837091e-02,\n",
              "        3.06387944e-01, 9.76271745e-03, 6.83388150e-02, 6.68443495e-02,\n",
              "        6.86772460e-02, 6.96223409e-02, 4.25329466e-01, 6.96223409e-02],\n",
              "       [7.99560319e-03, 4.87233766e-03, 1.01258595e-02, 3.97922200e-03,\n",
              "        4.55488284e-01, 3.47361247e-03, 6.06699678e-02, 4.88143890e-02,\n",
              "        5.97146169e-02, 5.39974827e-02, 4.58573508e-01, 5.39974827e-02],\n",
              "       [6.04884884e-03, 7.00883551e-03, 7.12534355e-03, 7.69316563e-03,\n",
              "        5.55718551e-01, 6.71567945e-03, 5.08735017e-02, 4.91278323e-02,\n",
              "        5.12393816e-02, 4.92536389e-02, 2.97952791e-01, 4.92536389e-02],\n",
              "       [1.23132363e-02, 8.69405936e-03, 9.54261768e-03, 9.69673914e-03,\n",
              "        9.92431997e-01, 8.46469370e-03, 5.07411284e-02, 4.95039642e-02,\n",
              "        4.71602858e-02, 5.04004987e-02, 2.93610328e-01, 5.04004987e-02],\n",
              "       [1.01370376e-02, 6.54345890e-03, 1.01750400e-02, 1.10510746e-02,\n",
              "        9.13666785e-01, 9.64695873e-03, 4.98191497e-02, 4.90314064e-02,\n",
              "        4.87219055e-02, 5.02488557e-02, 2.67219446e-01, 5.02488557e-02],\n",
              "       [6.60506835e-03, 5.95821014e-03, 8.82586986e-03, 5.05430726e-03,\n",
              "        6.14463648e-01, 4.41211932e-03, 4.95118234e-02, 4.67601686e-02,\n",
              "        5.02456342e-02, 4.65475828e-02, 2.17607142e-01, 4.65475828e-02],\n",
              "       [4.31067101e-03, 0.00000000e+00, 6.12048368e-03, 6.98125474e-06,\n",
              "        6.53943906e-01, 6.07829114e-06, 4.66702866e-02, 4.43539227e-02,\n",
              "        4.74063599e-02, 4.44860746e-02, 2.79100720e-01, 4.44860746e-02],\n",
              "       [0.00000000e+00, 7.40368026e-04, 0.00000000e+00, 1.87092967e-03,\n",
              "        3.83616668e-01, 1.63319007e-03, 4.42211773e-02, 4.66155002e-02,\n",
              "        4.55655876e-02, 4.59457143e-02, 1.51599687e-01, 4.59457143e-02],\n",
              "       [2.22482233e-04, 2.20700147e-03, 2.48754536e-03, 2.65979281e-03,\n",
              "        3.55534189e-01, 2.32183241e-03, 4.38193070e-02, 4.53183590e-02,\n",
              "        4.57359376e-02, 4.50452925e-02, 2.76112756e-01, 4.50452925e-02],\n",
              "       [2.92013617e-03, 2.94032761e-03, 1.96754762e-03, 5.01241974e-03,\n",
              "        3.10297062e-01, 4.37555606e-03, 4.71951164e-02, 4.56173266e-02,\n",
              "        4.27594208e-02, 4.96422258e-02, 2.02085861e-01, 4.96422258e-02],\n",
              "       [1.64779066e-03, 9.30753217e-04, 3.06376009e-03, 0.00000000e+00,\n",
              "        3.87853835e-01, 0.00000000e+00, 4.52566148e-02, 4.43298162e-02,\n",
              "        4.67012741e-02, 4.29885168e-02, 2.27633122e-01, 4.29885168e-02],\n",
              "       [0.00000000e+00, 4.23068788e-04, 1.82705206e-04, 2.38055194e-03,\n",
              "        4.38344316e-01, 2.07807423e-03, 4.31289960e-02, 4.28349784e-02,\n",
              "        4.26316582e-02, 4.51258610e-02, 2.12676497e-01, 4.51258610e-02],\n",
              "       [1.30710981e-03, 2.64417286e-03, 2.33295803e-03, 1.44508245e-03,\n",
              "        2.35610332e-01, 1.26146049e-03, 4.71478154e-02, 4.72086199e-02,\n",
              "        4.45718401e-02, 4.61589958e-02, 1.81523021e-01, 4.61589958e-02],\n",
              "       [1.04290113e-03, 3.17301120e-03, 2.84591927e-03, 2.89017422e-03,\n",
              "        3.19865398e-01, 2.52294903e-03, 4.69256194e-02, 4.89156598e-02,\n",
              "        4.79032336e-02, 4.75665201e-02, 1.89976036e-01, 4.75665201e-02],\n",
              "       [4.17162309e-04, 2.82750675e-03, 2.47349112e-03, 2.14319860e-03,\n",
              "        1.76807253e-01, 1.87087931e-03, 4.51573203e-02, 4.53569412e-02,\n",
              "        4.53147590e-02, 4.66234188e-02, 1.80188689e-01, 4.66234188e-02],\n",
              "       [2.60726675e-03, 2.68648068e-03, 1.76377042e-03, 4.62147879e-03,\n",
              "        2.74886131e-01, 4.03428339e-03, 4.64338974e-02, 4.62297375e-02,\n",
              "        4.49598533e-02, 4.75475611e-02, 1.62341569e-01, 4.75475611e-02],\n",
              "       [3.92132014e-03, 3.70184954e-03, 4.03347496e-03, 5.81524539e-03,\n",
              "        3.32171032e-01, 5.07640174e-03, 4.48547445e-02, 4.67119556e-02,\n",
              "        4.47942287e-02, 4.59931264e-02, 1.53549090e-01, 4.59931264e-02],\n",
              "       [5.34662856e-03, 7.94664003e-03, 6.72480690e-03, 7.92353772e-03,\n",
              "        2.71285227e-01, 6.91677737e-03, 4.81548954e-02, 4.85443728e-02,\n",
              "        4.66397555e-02, 4.98697048e-02, 2.46303697e-01, 4.98697048e-02]])"
            ]
          },
          "metadata": {},
          "execution_count": 22
        }
      ]
    },
    {
      "cell_type": "code",
      "source": [
        "target_list = np.zeros((len(data_list), 2))\n",
        "for i in range(len(data_list)):\n",
        "    value = data_list[i][29][4]\n",
        "    value2= data_list[i][29][10]\n",
        "             \n",
        "    target_list[i][0] = value\n",
        "    target_list[i][1] = value2\n",
        "\n",
        "data_list = data_list[:, :29, :]\n",
        "print(data_list.shape)\n",
        "print(target_list.shape)\n",
        "print(target_list)"
      ],
      "metadata": {
        "colab": {
          "base_uri": "https://localhost:8080/"
        },
        "id": "sTjIku5ihGxW",
        "outputId": "14310d45-0cc1-4b6f-dbfa-0bdb36f5eed9"
      },
      "execution_count": 23,
      "outputs": [
        {
          "output_type": "stream",
          "name": "stdout",
          "text": [
            "(2235, 29, 12)\n",
            "(2235, 2)\n",
            "[[0.27128523 0.2463037 ]\n",
            " [0.21279189 0.13668003]\n",
            " [0.2053963  0.15740756]\n",
            " ...\n",
            " [0.09076634 0.07064569]\n",
            " [0.0671693  0.04728646]\n",
            " [0.05128368 0.04992488]]\n"
          ]
        }
      ]
    },
    {
      "cell_type": "code",
      "source": [
        "#spilling the data for training and test\n",
        "my_test_size = 0.2\n",
        "ratio_train = int((1 - my_test_size) * len(data_list))\n",
        "x_train = data_list[:ratio_train]\n",
        "x_test = data_list[ratio_train:]\n",
        "y_train = target_list[:ratio_train]\n",
        "y_test = target_list[ratio_train:]"
      ],
      "metadata": {
        "id": "2F17JNEAh4h9"
      },
      "execution_count": 24,
      "outputs": []
    },
    {
      "cell_type": "code",
      "source": [
        "x_train.shape"
      ],
      "metadata": {
        "colab": {
          "base_uri": "https://localhost:8080/"
        },
        "id": "ZmWEnzRkkjv2",
        "outputId": "71e0e16a-2d4a-418c-cb02-205991c7776d"
      },
      "execution_count": 25,
      "outputs": [
        {
          "output_type": "execute_result",
          "data": {
            "text/plain": [
              "(1788, 29, 12)"
            ]
          },
          "metadata": {},
          "execution_count": 25
        }
      ]
    },
    {
      "cell_type": "code",
      "source": [
        "x_test.shape"
      ],
      "metadata": {
        "colab": {
          "base_uri": "https://localhost:8080/"
        },
        "id": "blAaWI4Fkmg9",
        "outputId": "5e386e1a-640c-427a-9ca2-02d9c139a295"
      },
      "execution_count": 26,
      "outputs": [
        {
          "output_type": "execute_result",
          "data": {
            "text/plain": [
              "(447, 29, 12)"
            ]
          },
          "metadata": {},
          "execution_count": 26
        }
      ]
    },
    {
      "cell_type": "code",
      "source": [
        "y_test.shape"
      ],
      "metadata": {
        "colab": {
          "base_uri": "https://localhost:8080/"
        },
        "id": "IVMU0vaFkolR",
        "outputId": "137cedc4-1128-4241-c924-057f8e838720"
      },
      "execution_count": 27,
      "outputs": [
        {
          "output_type": "execute_result",
          "data": {
            "text/plain": [
              "(447, 2)"
            ]
          },
          "metadata": {},
          "execution_count": 27
        }
      ]
    },
    {
      "cell_type": "code",
      "source": [
        "y_train.shape"
      ],
      "metadata": {
        "colab": {
          "base_uri": "https://localhost:8080/"
        },
        "id": "QIthjecHkqZk",
        "outputId": "f5e4b9be-9ada-4f83-e84a-594fe91d1d00"
      },
      "execution_count": 28,
      "outputs": [
        {
          "output_type": "execute_result",
          "data": {
            "text/plain": [
              "(1788, 2)"
            ]
          },
          "metadata": {},
          "execution_count": 28
        }
      ]
    },
    {
      "cell_type": "code",
      "source": [
        "from keras.models import Sequential\n",
        "from keras.layers import Dense\n",
        "from keras.layers import LSTM\n",
        "from keras.layers import Dropout"
      ],
      "metadata": {
        "id": "ytCmcsm5ksai"
      },
      "execution_count": 29,
      "outputs": []
    },
    {
      "cell_type": "code",
      "source": [
        "model = Sequential()\n",
        "model.add(LSTM(units=50, return_sequences=True, input_shape=(x_train.shape[1],12)))"
      ],
      "metadata": {
        "id": "RfOm3cJJxMg4"
      },
      "execution_count": null,
      "outputs": []
    },
    {
      "cell_type": "code",
      "source": [
        "model.add(Dropout(0.2))"
      ],
      "metadata": {
        "id": "J_tXnYQDxOFF"
      },
      "execution_count": null,
      "outputs": []
    },
    {
      "cell_type": "code",
      "source": [
        ""
      ],
      "metadata": {
        "id": "qEQA5L7C6qFQ"
      },
      "execution_count": null,
      "outputs": []
    },
    {
      "cell_type": "code",
      "source": [
        "model.add(LSTM(units = 50,return_sequences = True))\n",
        "model.add(Dropout(0.2))"
      ],
      "metadata": {
        "id": "4fFPq7Yzzz8f"
      },
      "execution_count": null,
      "outputs": []
    },
    {
      "cell_type": "code",
      "source": [
        "model.add(LSTM(units = 50,return_sequences = True))\n",
        "model.add(Dropout(0.2))"
      ],
      "metadata": {
        "id": "L1ASkqa3z1hg"
      },
      "execution_count": null,
      "outputs": []
    },
    {
      "cell_type": "code",
      "source": [
        "model.add(LSTM(units = 50))\n",
        "model.add(Dropout(0.2))"
      ],
      "metadata": {
        "id": "otrpEUvOz658"
      },
      "execution_count": null,
      "outputs": []
    },
    {
      "cell_type": "code",
      "source": [
        "model.add(Dense(units = 2))"
      ],
      "metadata": {
        "id": "0UwSwvQbz7Ur"
      },
      "execution_count": null,
      "outputs": []
    },
    {
      "cell_type": "code",
      "source": [
        "\n",
        "model.compile(optimizer = 'adam',loss = 'mean_squared_error',metrics = [\"accuracy\"])"
      ],
      "metadata": {
        "id": "x3URvjv5z86s"
      },
      "execution_count": null,
      "outputs": []
    },
    {
      "cell_type": "code",
      "source": [
        "%time\n",
        "model.fit(x_train,y_train,epochs = 50, batch_size = 32)"
      ],
      "metadata": {
        "colab": {
          "base_uri": "https://localhost:8080/"
        },
        "id": "-tmdTJFLz_oD",
        "outputId": "3a363e6e-8c27-4980-8b1b-b8ae4fce5324"
      },
      "execution_count": null,
      "outputs": [
        {
          "output_type": "stream",
          "name": "stdout",
          "text": [
            "CPU times: user 5 µs, sys: 1e+03 ns, total: 6 µs\n",
            "Wall time: 10 µs\n",
            "Epoch 1/50\n",
            "56/56 [==============================] - 5s 85ms/step - loss: 0.0054 - accuracy: 0.7170\n",
            "Epoch 2/50\n",
            "56/56 [==============================] - 3s 59ms/step - loss: 0.0054 - accuracy: 0.7170\n",
            "Epoch 3/50\n",
            "56/56 [==============================] - 3s 59ms/step - loss: 0.0053 - accuracy: 0.7069\n",
            "Epoch 4/50\n",
            "56/56 [==============================] - 3s 60ms/step - loss: 0.0054 - accuracy: 0.7170\n",
            "Epoch 5/50\n",
            "56/56 [==============================] - 3s 59ms/step - loss: 0.0053 - accuracy: 0.7226\n",
            "Epoch 6/50\n",
            "56/56 [==============================] - 3s 59ms/step - loss: 0.0054 - accuracy: 0.7125\n",
            "Epoch 7/50\n",
            "56/56 [==============================] - 3s 59ms/step - loss: 0.0053 - accuracy: 0.7254\n",
            "Epoch 8/50\n",
            "56/56 [==============================] - 3s 58ms/step - loss: 0.0054 - accuracy: 0.7204\n",
            "Epoch 9/50\n",
            "56/56 [==============================] - 3s 59ms/step - loss: 0.0053 - accuracy: 0.7030\n",
            "Epoch 10/50\n",
            "56/56 [==============================] - 3s 60ms/step - loss: 0.0052 - accuracy: 0.7192\n",
            "Epoch 11/50\n",
            "56/56 [==============================] - 3s 59ms/step - loss: 0.0053 - accuracy: 0.7086\n",
            "Epoch 12/50\n",
            "56/56 [==============================] - 3s 59ms/step - loss: 0.0053 - accuracy: 0.7192\n",
            "Epoch 13/50\n",
            "56/56 [==============================] - 3s 58ms/step - loss: 0.0053 - accuracy: 0.7271\n",
            "Epoch 14/50\n",
            "56/56 [==============================] - 3s 58ms/step - loss: 0.0054 - accuracy: 0.7237\n",
            "Epoch 15/50\n",
            "56/56 [==============================] - 3s 58ms/step - loss: 0.0053 - accuracy: 0.7075\n",
            "Epoch 16/50\n",
            "56/56 [==============================] - 3s 57ms/step - loss: 0.0053 - accuracy: 0.7170\n",
            "Epoch 17/50\n",
            "56/56 [==============================] - 3s 58ms/step - loss: 0.0053 - accuracy: 0.7176\n",
            "Epoch 18/50\n",
            "56/56 [==============================] - 3s 59ms/step - loss: 0.0052 - accuracy: 0.7299\n",
            "Epoch 19/50\n",
            "56/56 [==============================] - 3s 59ms/step - loss: 0.0053 - accuracy: 0.7254\n",
            "Epoch 20/50\n",
            "56/56 [==============================] - 3s 59ms/step - loss: 0.0052 - accuracy: 0.7243\n",
            "Epoch 21/50\n",
            "56/56 [==============================] - 3s 58ms/step - loss: 0.0054 - accuracy: 0.7164\n",
            "Epoch 22/50\n",
            "56/56 [==============================] - 3s 58ms/step - loss: 0.0051 - accuracy: 0.7287\n",
            "Epoch 23/50\n",
            "56/56 [==============================] - 3s 59ms/step - loss: 0.0053 - accuracy: 0.7142\n",
            "Epoch 24/50\n",
            "56/56 [==============================] - 3s 59ms/step - loss: 0.0051 - accuracy: 0.7176\n",
            "Epoch 25/50\n",
            "56/56 [==============================] - 3s 58ms/step - loss: 0.0053 - accuracy: 0.7131\n",
            "Epoch 26/50\n",
            "56/56 [==============================] - 3s 59ms/step - loss: 0.0052 - accuracy: 0.7198\n",
            "Epoch 27/50\n",
            "56/56 [==============================] - 3s 59ms/step - loss: 0.0053 - accuracy: 0.7081\n",
            "Epoch 28/50\n",
            "56/56 [==============================] - 3s 60ms/step - loss: 0.0052 - accuracy: 0.7243\n",
            "Epoch 29/50\n",
            "56/56 [==============================] - 3s 59ms/step - loss: 0.0051 - accuracy: 0.7276\n",
            "Epoch 30/50\n",
            "56/56 [==============================] - 3s 59ms/step - loss: 0.0052 - accuracy: 0.7276\n",
            "Epoch 31/50\n",
            "56/56 [==============================] - 3s 59ms/step - loss: 0.0051 - accuracy: 0.7321\n",
            "Epoch 32/50\n",
            "56/56 [==============================] - 3s 59ms/step - loss: 0.0052 - accuracy: 0.7226\n",
            "Epoch 33/50\n",
            "56/56 [==============================] - 3s 59ms/step - loss: 0.0051 - accuracy: 0.7293\n",
            "Epoch 34/50\n",
            "56/56 [==============================] - 3s 59ms/step - loss: 0.0051 - accuracy: 0.7215\n",
            "Epoch 35/50\n",
            "56/56 [==============================] - 3s 58ms/step - loss: 0.0051 - accuracy: 0.7215\n",
            "Epoch 36/50\n",
            "56/56 [==============================] - 3s 59ms/step - loss: 0.0051 - accuracy: 0.7097\n",
            "Epoch 37/50\n",
            "56/56 [==============================] - 3s 58ms/step - loss: 0.0050 - accuracy: 0.7343\n",
            "Epoch 38/50\n",
            "56/56 [==============================] - 3s 58ms/step - loss: 0.0052 - accuracy: 0.7092\n",
            "Epoch 39/50\n",
            "56/56 [==============================] - 3s 59ms/step - loss: 0.0050 - accuracy: 0.7276\n",
            "Epoch 40/50\n",
            "56/56 [==============================] - 3s 58ms/step - loss: 0.0050 - accuracy: 0.7176\n",
            "Epoch 41/50\n",
            "56/56 [==============================] - 3s 59ms/step - loss: 0.0051 - accuracy: 0.7181\n",
            "Epoch 42/50\n",
            "56/56 [==============================] - 3s 59ms/step - loss: 0.0050 - accuracy: 0.7103\n",
            "Epoch 43/50\n",
            "56/56 [==============================] - 3s 58ms/step - loss: 0.0050 - accuracy: 0.7254\n",
            "Epoch 44/50\n",
            "56/56 [==============================] - 3s 58ms/step - loss: 0.0050 - accuracy: 0.7220\n",
            "Epoch 45/50\n",
            "56/56 [==============================] - 3s 58ms/step - loss: 0.0050 - accuracy: 0.7282\n",
            "Epoch 46/50\n",
            "56/56 [==============================] - 3s 60ms/step - loss: 0.0050 - accuracy: 0.7265\n",
            "Epoch 47/50\n",
            "56/56 [==============================] - 3s 59ms/step - loss: 0.0050 - accuracy: 0.7248\n",
            "Epoch 48/50\n",
            "56/56 [==============================] - 3s 58ms/step - loss: 0.0051 - accuracy: 0.7142\n",
            "Epoch 49/50\n",
            "56/56 [==============================] - 3s 58ms/step - loss: 0.0051 - accuracy: 0.7232\n",
            "Epoch 50/50\n",
            "56/56 [==============================] - 3s 58ms/step - loss: 0.0051 - accuracy: 0.7299\n"
          ]
        },
        {
          "output_type": "execute_result",
          "data": {
            "text/plain": [
              "<keras.callbacks.History at 0x7fb80313d550>"
            ]
          },
          "metadata": {},
          "execution_count": 47
        }
      ]
    },
    {
      "cell_type": "code",
      "source": [
        "predicted_price = model.predict(x_test)\n"
      ],
      "metadata": {
        "id": "TGg0K11v1lsh"
      },
      "execution_count": null,
      "outputs": []
    },
    {
      "cell_type": "code",
      "source": [
        "predicted_price"
      ],
      "metadata": {
        "colab": {
          "base_uri": "https://localhost:8080/"
        },
        "id": "n0MMocE13j-m",
        "outputId": "75512707-7e6b-4751-e489-fe59df8f74ac"
      },
      "execution_count": null,
      "outputs": [
        {
          "output_type": "execute_result",
          "data": {
            "text/plain": [
              "array([[ 3.91085967e-02,  3.98758873e-02],\n",
              "       [ 5.41609228e-02,  5.12355268e-02],\n",
              "       [ 4.13631946e-02,  4.17726487e-02],\n",
              "       [ 4.50556427e-02,  4.51807603e-02],\n",
              "       [ 4.28672433e-02,  4.38932478e-02],\n",
              "       [ 4.30532098e-02,  4.42556515e-02],\n",
              "       [ 3.35730985e-02,  3.74697819e-02],\n",
              "       [ 3.39352638e-02,  3.81921157e-02],\n",
              "       [ 3.39260995e-02,  3.83780003e-02],\n",
              "       [ 3.04271653e-02,  3.58683467e-02],\n",
              "       [ 3.71022373e-02,  4.07522097e-02],\n",
              "       [ 3.18959132e-02,  3.65779847e-02],\n",
              "       [ 2.90341377e-02,  3.44832987e-02],\n",
              "       [ 2.73668021e-02,  3.33552584e-02],\n",
              "       [ 3.43292207e-02,  3.83580625e-02],\n",
              "       [ 2.90379971e-02,  3.40221822e-02],\n",
              "       [ 3.00584882e-02,  3.46676409e-02],\n",
              "       [ 2.66445279e-02,  3.20949703e-02],\n",
              "       [ 2.58170664e-02,  3.16225737e-02],\n",
              "       [ 2.70995796e-02,  3.26871499e-02],\n",
              "       [ 2.99490541e-02,  3.47291827e-02],\n",
              "       [ 2.97308415e-02,  3.44250724e-02],\n",
              "       [ 3.05686146e-02,  3.50330472e-02],\n",
              "       [ 3.38144451e-02,  3.74632478e-02],\n",
              "       [ 3.27165425e-02,  3.66898552e-02],\n",
              "       [ 3.56584042e-02,  3.90921161e-02],\n",
              "       [ 5.07577658e-02,  5.03239855e-02],\n",
              "       [ 4.97607291e-02,  4.92522046e-02],\n",
              "       [ 5.43473661e-02,  5.25808223e-02],\n",
              "       [ 5.30464351e-02,  5.14600389e-02],\n",
              "       [ 4.25592586e-02,  4.39729244e-02],\n",
              "       [ 4.52499762e-02,  4.66779098e-02],\n",
              "       [ 4.68528792e-02,  4.80650738e-02],\n",
              "       [ 4.38860580e-02,  4.58217636e-02],\n",
              "       [ 3.50291878e-02,  3.94239426e-02],\n",
              "       [ 3.12952995e-02,  3.70742977e-02],\n",
              "       [ 3.13996524e-02,  3.73455286e-02],\n",
              "       [ 2.86360532e-02,  3.52471471e-02],\n",
              "       [ 2.58773640e-02,  3.31933647e-02],\n",
              "       [ 5.37137389e-02,  5.32015115e-02],\n",
              "       [ 4.04206365e-02,  4.19282764e-02],\n",
              "       [ 4.20559645e-02,  4.29273769e-02],\n",
              "       [ 3.11515257e-02,  3.50129157e-02],\n",
              "       [ 3.20760831e-02,  3.63766775e-02],\n",
              "       [ 2.71839201e-02,  3.33166122e-02],\n",
              "       [ 3.28221098e-02,  3.80460769e-02],\n",
              "       [ 3.05025429e-02,  3.65551412e-02],\n",
              "       [ 3.28439027e-02,  3.85994017e-02],\n",
              "       [ 4.07774895e-02,  4.45966870e-02],\n",
              "       [ 3.14613581e-02,  3.77460271e-02],\n",
              "       [ 3.94790918e-02,  4.41362001e-02],\n",
              "       [ 3.22052538e-02,  3.88399661e-02],\n",
              "       [ 3.95204127e-02,  4.45716307e-02],\n",
              "       [ 3.08863223e-02,  3.82095799e-02],\n",
              "       [ 3.36366892e-02,  4.06594872e-02],\n",
              "       [ 6.94120824e-02,  6.65715262e-02],\n",
              "       [ 8.14031065e-02,  7.30888247e-02],\n",
              "       [ 6.08768910e-02,  5.65738752e-02],\n",
              "       [ 5.47568947e-02,  5.27386591e-02],\n",
              "       [ 5.15643358e-02,  5.14033698e-02],\n",
              "       [ 6.88880756e-02,  6.47850037e-02],\n",
              "       [ 5.03143072e-02,  5.09286113e-02],\n",
              "       [ 4.56764400e-02,  4.84937057e-02],\n",
              "       [ 3.64088416e-02,  4.26163301e-02],\n",
              "       [ 3.31194550e-02,  4.11738455e-02],\n",
              "       [ 4.20960486e-02,  4.82374914e-02],\n",
              "       [ 3.89783978e-02,  4.56427038e-02],\n",
              "       [ 4.74886447e-02,  5.17543480e-02],\n",
              "       [ 4.55064625e-02,  4.98886853e-02],\n",
              "       [ 5.80980480e-02,  5.90076596e-02],\n",
              "       [ 4.52126488e-02,  4.90907095e-02],\n",
              "       [ 3.91392857e-02,  4.52462360e-02],\n",
              "       [ 3.75462025e-02,  4.47933190e-02],\n",
              "       [ 3.65674347e-02,  4.44644392e-02],\n",
              "       [ 3.52959633e-02,  4.36631218e-02],\n",
              "       [ 3.31468135e-02,  4.20674533e-02],\n",
              "       [ 3.11036557e-02,  4.04958725e-02],\n",
              "       [ 3.61301675e-02,  4.40304875e-02],\n",
              "       [ 3.49023044e-02,  4.26319316e-02],\n",
              "       [ 3.12070400e-02,  3.96101028e-02],\n",
              "       [ 3.17934155e-02,  3.99425179e-02],\n",
              "       [ 2.80882344e-02,  3.70966643e-02],\n",
              "       [ 3.02103758e-02,  3.86864841e-02],\n",
              "       [ 3.02575603e-02,  3.86435464e-02],\n",
              "       [ 3.69507894e-02,  4.34651524e-02],\n",
              "       [ 4.55843210e-02,  4.94833440e-02],\n",
              "       [ 5.51768541e-02,  5.61561026e-02],\n",
              "       [ 3.91467437e-02,  4.41955179e-02],\n",
              "       [ 5.71786091e-02,  5.82593456e-02],\n",
              "       [ 3.63434553e-02,  4.28542569e-02],\n",
              "       [ 4.30418625e-02,  4.88237962e-02],\n",
              "       [ 3.72532308e-02,  4.47661728e-02],\n",
              "       [ 5.65632284e-02,  5.86696193e-02],\n",
              "       [ 3.20188552e-02,  3.92888486e-02],\n",
              "       [ 3.13372985e-02,  3.89395505e-02],\n",
              "       [ 2.16887742e-02,  3.17977816e-02],\n",
              "       [ 3.04777175e-02,  3.81811708e-02],\n",
              "       [ 2.32270285e-02,  3.21034417e-02],\n",
              "       [ 4.11933810e-02,  4.46285307e-02],\n",
              "       [ 2.79516876e-02,  3.36150229e-02],\n",
              "       [ 2.86984295e-02,  3.39130387e-02],\n",
              "       [ 2.40594447e-02,  3.03006098e-02],\n",
              "       [ 2.57880837e-02,  3.15096229e-02],\n",
              "       [ 2.76656896e-02,  3.26652974e-02],\n",
              "       [ 2.93919593e-02,  3.36380601e-02],\n",
              "       [ 2.73055062e-02,  3.18507254e-02],\n",
              "       [ 2.50921994e-02,  3.02189738e-02],\n",
              "       [ 2.26370245e-02,  2.85964608e-02],\n",
              "       [ 2.36009806e-02,  2.95785666e-02],\n",
              "       [ 2.41018534e-02,  3.00756097e-02],\n",
              "       [ 2.38016248e-02,  2.98705995e-02],\n",
              "       [ 2.54461989e-02,  3.09944600e-02],\n",
              "       [ 2.48695388e-02,  3.03808600e-02],\n",
              "       [ 2.81440094e-02,  3.26356590e-02],\n",
              "       [ 1.89860910e-02,  2.58410275e-02],\n",
              "       [ 2.91681811e-02,  3.35808098e-02],\n",
              "       [ 2.40452737e-02,  2.96528041e-02],\n",
              "       [ 2.63369605e-02,  3.15126628e-02],\n",
              "       [ 2.68710256e-02,  3.19650471e-02],\n",
              "       [ 3.04883420e-02,  3.45823094e-02],\n",
              "       [ 5.02664521e-02,  4.83779460e-02],\n",
              "       [ 3.97434011e-02,  3.92508283e-02],\n",
              "       [ 3.58054191e-02,  3.61175388e-02],\n",
              "       [ 5.14398515e-02,  4.74914759e-02],\n",
              "       [ 3.38511467e-02,  3.41998339e-02],\n",
              "       [ 3.03325281e-02,  3.24150845e-02],\n",
              "       [ 4.79476154e-02,  4.57685366e-02],\n",
              "       [ 4.10455093e-02,  4.02618647e-02],\n",
              "       [ 5.04792631e-02,  4.70896587e-02],\n",
              "       [ 5.08146808e-02,  4.69280593e-02],\n",
              "       [ 4.79428321e-02,  4.47492898e-02],\n",
              "       [ 4.46892083e-02,  4.27949727e-02],\n",
              "       [ 3.47798765e-02,  3.63582224e-02],\n",
              "       [ 3.97402719e-02,  4.11178842e-02],\n",
              "       [ 3.10155451e-02,  3.54432762e-02],\n",
              "       [ 2.72248685e-02,  3.36666554e-02],\n",
              "       [ 2.64254063e-02,  3.39141339e-02],\n",
              "       [ 2.73142606e-02,  3.50645781e-02],\n",
              "       [ 2.56367624e-02,  3.40835005e-02],\n",
              "       [ 2.34464556e-02,  3.27148736e-02],\n",
              "       [ 2.19218433e-02,  3.18571925e-02],\n",
              "       [ 2.67527029e-02,  3.56126726e-02],\n",
              "       [ 2.46820003e-02,  3.40416282e-02],\n",
              "       [ 2.53187194e-02,  3.46235037e-02],\n",
              "       [ 2.41307244e-02,  3.37845981e-02],\n",
              "       [ 2.36101300e-02,  3.34498957e-02],\n",
              "       [ 2.03516334e-02,  3.11103836e-02],\n",
              "       [ 3.75617146e-02,  4.36353721e-02],\n",
              "       [ 2.77314782e-02,  3.55037451e-02],\n",
              "       [ 3.33365947e-02,  3.95458639e-02],\n",
              "       [ 2.34798640e-02,  3.21604609e-02],\n",
              "       [ 2.76796296e-02,  3.56332511e-02],\n",
              "       [ 2.81637311e-02,  3.61041203e-02],\n",
              "       [ 7.14346543e-02,  6.75282329e-02],\n",
              "       [ 4.70757335e-02,  4.75956388e-02],\n",
              "       [ 4.72051203e-02,  4.79403548e-02],\n",
              "       [ 3.30785513e-02,  3.79865021e-02],\n",
              "       [ 3.84396613e-02,  4.27213535e-02],\n",
              "       [ 3.81644815e-02,  4.24544662e-02],\n",
              "       [ 3.04241404e-02,  3.65504622e-02],\n",
              "       [ 2.30960399e-02,  3.13215032e-02],\n",
              "       [ 2.04572678e-02,  2.97238678e-02],\n",
              "       [ 2.26839781e-02,  3.15221995e-02],\n",
              "       [ 1.68060064e-02,  2.70998031e-02],\n",
              "       [ 1.50040388e-02,  2.59039402e-02],\n",
              "       [ 1.76215470e-02,  2.78844237e-02],\n",
              "       [ 2.14278251e-02,  3.04501653e-02],\n",
              "       [ 2.07641423e-02,  2.96097547e-02],\n",
              "       [ 2.32739151e-02,  3.12986970e-02],\n",
              "       [ 1.64625123e-02,  2.62428075e-02],\n",
              "       [ 2.12712884e-02,  3.00682932e-02],\n",
              "       [ 1.57314166e-02,  2.59874165e-02],\n",
              "       [ 1.00974441e-02,  2.21319124e-02],\n",
              "       [ 1.66806877e-02,  2.73490548e-02],\n",
              "       [ 2.12666914e-02,  3.06120589e-02],\n",
              "       [ 4.11630571e-02,  4.47564274e-02],\n",
              "       [ 3.58303562e-02,  3.96966040e-02],\n",
              "       [ 4.18921411e-02,  4.37524840e-02],\n",
              "       [ 3.33256945e-02,  3.71914655e-02],\n",
              "       [ 3.54579091e-02,  3.91528457e-02],\n",
              "       [ 2.86433250e-02,  3.44771445e-02],\n",
              "       [ 2.98234820e-02,  3.59254181e-02],\n",
              "       [ 2.55368799e-02,  3.31887528e-02],\n",
              "       [ 3.11093330e-02,  3.76405716e-02],\n",
              "       [ 2.12226212e-02,  3.04165632e-02],\n",
              "       [ 2.52056867e-02,  3.38063464e-02],\n",
              "       [ 2.18809694e-02,  3.15172970e-02],\n",
              "       [ 4.78136092e-02,  5.05741313e-02],\n",
              "       [ 2.87006870e-02,  3.54933888e-02],\n",
              "       [ 3.55056599e-02,  4.08842862e-02],\n",
              "       [ 2.24491805e-02,  3.14354151e-02],\n",
              "       [ 2.29414031e-02,  3.25551927e-02],\n",
              "       [ 1.25479773e-02,  2.54103988e-02],\n",
              "       [ 2.49009430e-02,  3.50209177e-02],\n",
              "       [ 1.90048665e-02,  3.03300321e-02],\n",
              "       [ 1.79583728e-02,  2.95833945e-02],\n",
              "       [ 1.94724426e-02,  3.06894928e-02],\n",
              "       [ 2.21881568e-02,  3.25245261e-02],\n",
              "       [ 2.61119008e-02,  3.51218283e-02],\n",
              "       [ 2.24891305e-02,  3.21644023e-02],\n",
              "       [ 2.51240507e-02,  3.41641754e-02],\n",
              "       [ 2.04845518e-02,  3.08125764e-02],\n",
              "       [ 2.14755833e-02,  3.18946913e-02],\n",
              "       [ 2.08266377e-02,  3.16504911e-02],\n",
              "       [ 1.80131122e-02,  2.98279822e-02],\n",
              "       [ 2.51430795e-02,  3.53610516e-02],\n",
              "       [ 2.69668102e-02,  3.65805477e-02],\n",
              "       [ 2.97506452e-02,  3.84695083e-02],\n",
              "       [ 2.60342658e-02,  3.55701521e-02],\n",
              "       [ 3.26410085e-02,  4.05168012e-02],\n",
              "       [ 2.91321874e-02,  3.78053337e-02],\n",
              "       [ 3.41815427e-02,  4.17070165e-02],\n",
              "       [ 4.40525860e-02,  4.88317013e-02],\n",
              "       [ 4.31918800e-02,  4.77556735e-02],\n",
              "       [ 4.92285639e-02,  5.21751307e-02],\n",
              "       [ 5.11634499e-02,  5.34900352e-02],\n",
              "       [ 5.30463457e-02,  5.49300760e-02],\n",
              "       [ 4.42946255e-02,  4.87742200e-02],\n",
              "       [ 5.82259819e-02,  5.97642213e-02],\n",
              "       [ 9.36139673e-02,  8.52425545e-02],\n",
              "       [ 8.53468999e-02,  7.72055387e-02],\n",
              "       [ 8.79077241e-02,  7.87244439e-02],\n",
              "       [ 6.61028177e-02,  6.28278479e-02],\n",
              "       [ 7.39648044e-02,  6.98970929e-02],\n",
              "       [ 7.91397914e-02,  7.38968849e-02],\n",
              "       [ 6.78178221e-02,  6.53737113e-02],\n",
              "       [ 4.64785844e-02,  5.02505079e-02],\n",
              "       [ 4.67575267e-02,  5.16431108e-02],\n",
              "       [ 4.54636365e-02,  5.10044396e-02],\n",
              "       [ 4.20952439e-02,  4.84516397e-02],\n",
              "       [ 3.74059156e-02,  4.49083373e-02],\n",
              "       [ 4.04920131e-02,  4.71332818e-02],\n",
              "       [ 3.39864492e-02,  4.20818999e-02],\n",
              "       [ 3.45497280e-02,  4.25469577e-02],\n",
              "       [ 3.48269045e-02,  4.26332578e-02],\n",
              "       [ 3.74088883e-02,  4.43388075e-02],\n",
              "       [ 3.63677144e-02,  4.32800949e-02],\n",
              "       [ 4.87877354e-02,  5.21197133e-02],\n",
              "       [ 3.94133404e-02,  4.44774590e-02],\n",
              "       [ 3.18300128e-02,  3.90188545e-02],\n",
              "       [ 2.70534009e-02,  3.60198542e-02],\n",
              "       [ 2.93477327e-02,  3.81826907e-02],\n",
              "       [ 2.57442147e-02,  3.56876552e-02],\n",
              "       [ 3.66664976e-02,  4.39013019e-02],\n",
              "       [ 3.53347361e-02,  4.25741002e-02],\n",
              "       [ 3.77959311e-02,  4.43832204e-02],\n",
              "       [ 3.01610380e-02,  3.88413072e-02],\n",
              "       [ 2.84618214e-02,  3.81641537e-02],\n",
              "       [ 4.57470566e-02,  5.12607321e-02],\n",
              "       [ 4.06840593e-02,  4.70258147e-02],\n",
              "       [ 3.22286934e-02,  4.10100892e-02],\n",
              "       [ 3.88152748e-02,  4.64289039e-02],\n",
              "       [ 4.47304621e-02,  5.07065132e-02],\n",
              "       [ 4.49813381e-02,  5.04775979e-02],\n",
              "       [ 4.49586213e-02,  5.01606017e-02],\n",
              "       [ 5.03976569e-02,  5.39282858e-02],\n",
              "       [ 5.26476502e-02,  5.51379584e-02],\n",
              "       [ 4.94275689e-02,  5.24458364e-02],\n",
              "       [ 5.06321117e-02,  5.33157215e-02],\n",
              "       [ 4.14429754e-02,  4.65781614e-02],\n",
              "       [ 4.45723534e-02,  4.92570475e-02],\n",
              "       [ 2.85575092e-02,  3.75632420e-02],\n",
              "       [ 3.81887853e-02,  4.51872796e-02],\n",
              "       [ 2.90315598e-02,  3.81596684e-02],\n",
              "       [ 3.39480489e-02,  4.18156907e-02],\n",
              "       [ 2.36248076e-02,  3.39552611e-02],\n",
              "       [ 2.46202573e-02,  3.48814130e-02],\n",
              "       [ 2.03021839e-02,  3.16504240e-02],\n",
              "       [ 1.92222968e-02,  3.08685750e-02],\n",
              "       [ 2.81196013e-02,  3.72737646e-02],\n",
              "       [ 2.05635056e-02,  3.12305689e-02],\n",
              "       [ 3.67305130e-02,  4.30174395e-02],\n",
              "       [ 5.39134741e-02,  5.45500219e-02],\n",
              "       [ 4.96253371e-02,  5.00729382e-02],\n",
              "       [ 6.87998459e-02,  6.38379082e-02],\n",
              "       [ 4.60672900e-02,  4.67091948e-02],\n",
              "       [ 4.86908704e-02,  4.99577075e-02],\n",
              "       [ 4.07101884e-02,  4.50571626e-02],\n",
              "       [ 4.55648080e-02,  4.95244861e-02],\n",
              "       [ 4.24043238e-02,  4.72727828e-02],\n",
              "       [ 4.85058278e-02,  5.14504090e-02],\n",
              "       [ 3.12284827e-02,  3.80970091e-02],\n",
              "       [ 4.51048091e-02,  4.81841266e-02],\n",
              "       [ 2.66695321e-02,  3.37594822e-02],\n",
              "       [ 2.64908969e-02,  3.37407440e-02],\n",
              "       [ 2.04068795e-02,  2.93372571e-02],\n",
              "       [ 2.23220363e-02,  3.09695750e-02],\n",
              "       [ 1.76801085e-02,  2.76119113e-02],\n",
              "       [ 1.88058615e-02,  2.86912471e-02],\n",
              "       [ 1.79077387e-02,  2.81747282e-02],\n",
              "       [ 1.25487670e-02,  2.44243741e-02],\n",
              "       [ 9.74191725e-03,  2.27545053e-02],\n",
              "       [ 1.10008791e-02,  2.40280181e-02],\n",
              "       [ 7.61299580e-03,  2.16641128e-02],\n",
              "       [ 7.21508265e-03,  2.15684175e-02],\n",
              "       [ 7.18358159e-03,  2.16038674e-02],\n",
              "       [ 6.95987791e-03,  2.13576108e-02],\n",
              "       [ 4.64506447e-03,  1.95307285e-02],\n",
              "       [ 1.33649185e-02,  2.58352160e-02],\n",
              "       [ 6.34646416e-03,  2.02267766e-02],\n",
              "       [ 3.05515304e-02,  3.78853008e-02],\n",
              "       [ 2.09967345e-02,  2.98980623e-02],\n",
              "       [ 2.86487788e-02,  3.55756432e-02],\n",
              "       [ 1.71941221e-02,  2.72036195e-02],\n",
              "       [ 2.08625421e-02,  3.06735933e-02],\n",
              "       [ 1.26278698e-02,  2.51304358e-02],\n",
              "       [ 1.75818801e-02,  2.94635445e-02],\n",
              "       [ 8.15521181e-03,  2.27641612e-02],\n",
              "       [ 9.28910822e-03,  2.41450444e-02],\n",
              "       [ 1.16636455e-02,  2.61212662e-02],\n",
              "       [ 1.34833902e-02,  2.74398178e-02],\n",
              "       [ 4.22881544e-02,  4.81156670e-02],\n",
              "       [ 1.76104903e-02,  2.84336060e-02],\n",
              "       [ 4.03783619e-02,  4.54139411e-02],\n",
              "       [ 1.94476545e-02,  2.94451192e-02],\n",
              "       [ 3.07039022e-02,  3.85549814e-02],\n",
              "       [ 1.86628103e-02,  2.99054831e-02],\n",
              "       [ 3.51010710e-02,  4.26998287e-02],\n",
              "       [ 1.94096714e-02,  3.09296921e-02],\n",
              "       [ 2.43210942e-02,  3.51965278e-02],\n",
              "       [ 9.62466002e-03,  2.45792642e-02],\n",
              "       [ 1.92041472e-02,  3.23064327e-02],\n",
              "       [ 8.24925303e-03,  2.41063088e-02],\n",
              "       [ 9.66275483e-03,  2.55062208e-02],\n",
              "       [ 6.72633201e-03,  2.33781338e-02],\n",
              "       [ 9.17363912e-03,  2.52176523e-02],\n",
              "       [ 7.23603368e-03,  2.35638767e-02],\n",
              "       [ 6.23080134e-03,  2.27250829e-02],\n",
              "       [ 9.60961729e-03,  2.51206011e-02],\n",
              "       [ 1.00220069e-02,  2.52224058e-02],\n",
              "       [ 9.58803296e-03,  2.48357505e-02],\n",
              "       [ 9.22505558e-03,  2.46699452e-02],\n",
              "       [ 1.28731057e-02,  2.75416821e-02],\n",
              "       [ 1.27006024e-02,  2.74866223e-02],\n",
              "       [ 1.48107857e-02,  2.91894823e-02],\n",
              "       [ 1.32705271e-02,  2.81199664e-02],\n",
              "       [ 2.15162113e-02,  3.44077647e-02],\n",
              "       [ 3.10438797e-02,  4.13396657e-02],\n",
              "       [ 2.49840021e-02,  3.67078036e-02],\n",
              "       [ 3.02007347e-02,  4.10785377e-02],\n",
              "       [ 2.83644646e-02,  4.01047170e-02],\n",
              "       [ 2.61914134e-02,  3.90465185e-02],\n",
              "       [ 3.09772044e-02,  4.30297703e-02],\n",
              "       [ 3.77503335e-02,  4.77621816e-02],\n",
              "       [ 3.29193622e-02,  4.33667898e-02],\n",
              "       [ 1.74219757e-02,  3.15313265e-02],\n",
              "       [ 1.09140724e-02,  2.70872563e-02],\n",
              "       [ 1.05338693e-02,  2.71438807e-02],\n",
              "       [ 1.02420077e-02,  2.69808769e-02],\n",
              "       [ 6.36723638e-03,  2.40453035e-02],\n",
              "       [ 8.16509873e-03,  2.53791660e-02],\n",
              "       [ 5.29164076e-03,  2.30700374e-02],\n",
              "       [ 5.76485693e-03,  2.33559012e-02],\n",
              "       [ 1.09483749e-02,  2.70066261e-02],\n",
              "       [ 5.57295978e-03,  2.26257294e-02],\n",
              "       [ 8.34227353e-03,  2.44983733e-02],\n",
              "       [-1.37503445e-03,  1.69868246e-02],\n",
              "       [ 3.49526107e-03,  2.06310898e-02],\n",
              "       [-6.82407618e-03,  1.27558187e-02],\n",
              "       [-1.93959475e-03,  1.65393353e-02],\n",
              "       [-8.64243507e-03,  1.14323050e-02],\n",
              "       [-1.27181411e-03,  1.69818550e-02],\n",
              "       [-4.41834331e-03,  1.43719316e-02],\n",
              "       [ 1.55133009e-03,  1.86988264e-02],\n",
              "       [ 7.28248805e-03,  2.24441141e-02],\n",
              "       [ 8.37805867e-03,  2.26215869e-02],\n",
              "       [ 8.61436129e-05,  1.61302462e-02],\n",
              "       [ 4.43023443e-03,  1.94950253e-02],\n",
              "       [ 2.18488276e-03,  1.77460611e-02],\n",
              "       [ 4.83825058e-03,  1.96623057e-02],\n",
              "       [ 4.60727513e-03,  1.92086399e-02],\n",
              "       [ 3.60102952e-03,  1.82058662e-02],\n",
              "       [ 9.40266252e-03,  2.21394598e-02],\n",
              "       [ 4.24255431e-03,  1.78043917e-02],\n",
              "       [-4.03374434e-05,  1.45287290e-02],\n",
              "       [ 5.31107187e-03,  1.85124055e-02],\n",
              "       [ 1.05768442e-03,  1.52018517e-02],\n",
              "       [ 2.29828060e-03,  1.62137002e-02],\n",
              "       [-1.57168508e-03,  1.34813040e-02],\n",
              "       [ 6.94967061e-02,  6.48176149e-02],\n",
              "       [ 9.03996080e-03,  1.68701932e-02],\n",
              "       [ 3.11353058e-02,  3.38724852e-02],\n",
              "       [-5.78288734e-03,  6.84478879e-03],\n",
              "       [ 1.56095475e-02,  2.43000239e-02],\n",
              "       [-1.06027871e-02,  5.32579422e-03],\n",
              "       [ 5.25411963e-03,  1.84264183e-02],\n",
              "       [-1.01842731e-02,  7.23390281e-03],\n",
              "       [-2.04473734e-04,  1.54835209e-02],\n",
              "       [-2.85555422e-03,  1.34679452e-02],\n",
              "       [ 5.87448478e-04,  1.62236169e-02],\n",
              "       [ 5.23939729e-04,  1.59435868e-02],\n",
              "       [-4.61138785e-03,  1.21924132e-02],\n",
              "       [ 1.42124891e-02,  2.59298086e-02],\n",
              "       [ 2.09311470e-02,  2.98780650e-02],\n",
              "       [ 1.48407668e-02,  2.44534910e-02],\n",
              "       [ 5.82028925e-03,  1.77369788e-02],\n",
              "       [ 5.95742464e-03,  1.82255059e-02],\n",
              "       [-3.49269807e-03,  1.16620362e-02],\n",
              "       [ 1.07740909e-02,  2.26547420e-02],\n",
              "       [-2.50197947e-03,  1.25880688e-02],\n",
              "       [ 3.67391109e-03,  1.74221098e-02],\n",
              "       [ 2.84220278e-03,  1.65666342e-02],\n",
              "       [ 1.11376941e-02,  2.24196836e-02],\n",
              "       [ 7.21925497e-03,  1.89794675e-02],\n",
              "       [ 3.53996754e-02,  3.92777622e-02],\n",
              "       [ 3.06770504e-02,  3.44379097e-02],\n",
              "       [ 2.95332596e-02,  3.33555043e-02],\n",
              "       [ 1.99322104e-02,  2.64826715e-02],\n",
              "       [ 2.32847184e-02,  2.94695348e-02],\n",
              "       [ 4.75786030e-02,  4.66774106e-02],\n",
              "       [ 4.22482789e-02,  4.10888493e-02],\n",
              "       [ 2.26465166e-02,  2.62037739e-02],\n",
              "       [ 2.43596137e-02,  2.82325894e-02],\n",
              "       [ 8.82337987e-03,  1.76125392e-02],\n",
              "       [ 1.74929202e-02,  2.51186118e-02],\n",
              "       [ 2.39833295e-02,  3.00545618e-02],\n",
              "       [ 2.88957059e-02,  3.33124846e-02],\n",
              "       [ 4.01910767e-02,  4.09009531e-02],\n",
              "       [ 3.53050083e-02,  3.64728272e-02],\n",
              "       [ 3.08858603e-02,  3.31418067e-02],\n",
              "       [ 3.40508670e-02,  3.57676521e-02],\n",
              "       [ 5.57776839e-02,  5.14701530e-02],\n",
              "       [ 3.37626114e-02,  3.45987082e-02],\n",
              "       [ 3.15720513e-02,  3.39077488e-02],\n",
              "       [ 4.11220938e-02,  4.16735485e-02],\n",
              "       [ 4.07412052e-02,  4.15492058e-02],\n",
              "       [ 4.75265235e-02,  4.66950573e-02],\n",
              "       [ 3.73102650e-02,  3.92799452e-02],\n",
              "       [ 4.84782904e-02,  4.80962992e-02],\n",
              "       [ 3.87619585e-02,  4.11149636e-02],\n",
              "       [ 4.82639745e-02,  4.87427562e-02],\n",
              "       [ 4.71305102e-02,  4.80103716e-02],\n",
              "       [ 4.91734594e-02,  4.97586206e-02],\n",
              "       [ 5.67050502e-02,  5.52317128e-02],\n",
              "       [ 4.53701913e-02,  4.65949029e-02],\n",
              "       [ 4.34608385e-02,  4.56357971e-02],\n",
              "       [ 3.43342274e-02,  3.94402444e-02],\n",
              "       [ 4.33394015e-02,  4.66912165e-02],\n",
              "       [ 4.71308529e-02,  4.93592620e-02],\n",
              "       [ 4.40789461e-02,  4.69265506e-02],\n",
              "       [ 5.70058376e-02,  5.63815907e-02],\n",
              "       [ 6.71817213e-02,  6.30718172e-02],\n",
              "       [ 1.08517200e-01,  9.17836577e-02],\n",
              "       [ 6.23898879e-02,  5.55677265e-02],\n",
              "       [ 8.63853246e-02,  7.41526559e-02],\n",
              "       [ 5.95965311e-02,  5.44314384e-02],\n",
              "       [ 6.15300909e-02,  5.73593602e-02]], dtype=float32)"
            ]
          },
          "metadata": {},
          "execution_count": 44
        }
      ]
    },
    {
      "cell_type": "code",
      "source": [
        "y_test"
      ],
      "metadata": {
        "colab": {
          "base_uri": "https://localhost:8080/"
        },
        "id": "dYIQUzOB5ZGL",
        "outputId": "7c71e3af-f7cb-4dcf-fc42-d64343e25766"
      },
      "execution_count": null,
      "outputs": [
        {
          "output_type": "execute_result",
          "data": {
            "text/plain": [
              "array([[0.01933503, 0.11693729],\n",
              "       [0.02380194, 0.06631667],\n",
              "       [0.02637292, 0.06340265],\n",
              "       [0.04773357, 0.05420012],\n",
              "       [0.03861186, 0.05977273],\n",
              "       [0.02121177, 0.03520353],\n",
              "       [0.01784279, 0.04685289],\n",
              "       [0.01854902, 0.05591425],\n",
              "       [0.01834347, 0.03487078],\n",
              "       [0.03540308, 0.05200873],\n",
              "       [0.02108469, 0.04189536],\n",
              "       [0.0113265 , 0.03527075],\n",
              "       [0.01625529, 0.03263569],\n",
              "       [0.04120442, 0.03602362],\n",
              "       [0.01934309, 0.03000064],\n",
              "       [0.01383471, 0.03745879],\n",
              "       [0.01113011, 0.02981578],\n",
              "       [0.0070222 , 0.0278563 ],\n",
              "       [0.01275684, 0.03180552],\n",
              "       [0.025816  , 0.03196685],\n",
              "       [0.01274049, 0.0442212 ],\n",
              "       [0.01233375, 0.04586475],\n",
              "       [0.01612037, 0.05593106],\n",
              "       [0.01866999, 0.04131726],\n",
              "       [0.00603871, 0.06785603],\n",
              "       [0.02045562, 0.10985222],\n",
              "       [0.04823076, 0.07085407],\n",
              "       [0.073841  , 0.0530809 ],\n",
              "       [0.07459257, 0.05013327],\n",
              "       [0.02593   , 0.04753182],\n",
              "       [0.03455255, 0.06397403],\n",
              "       [0.0812525 , 0.04442958],\n",
              "       [0.06027919, 0.0528994 ],\n",
              "       [0.03123501, 0.03918972],\n",
              "       [0.03439431, 0.02779916],\n",
              "       [0.0458856 , 0.03504556],\n",
              "       [0.03167968, 0.03697816],\n",
              "       [0.01868591, 0.03231976],\n",
              "       [0.08564529, 0.07912559],\n",
              "       [0.04815512, 0.05340692],\n",
              "       [0.03375281, 0.04655376],\n",
              "       [0.02504612, 0.03739156],\n",
              "       [0.01840341, 0.04244657],\n",
              "       [0.01678846, 0.03417841],\n",
              "       [0.01691401, 0.05554454],\n",
              "       [0.02278183, 0.04181469],\n",
              "       [0.0188568 , 0.04903084],\n",
              "       [0.02828258, 0.08201609],\n",
              "       [0.01074212, 0.04714194],\n",
              "       [0.03551817, 0.05858628],\n",
              "       [0.03020183, 0.04181805],\n",
              "       [0.03302064, 0.0607239 ],\n",
              "       [0.02091162, 0.04860063],\n",
              "       [0.02130659, 0.04954172],\n",
              "       [0.1164121 , 0.11096472],\n",
              "       [0.13259569, 0.1262272 ],\n",
              "       [0.04945686, 0.06740229],\n",
              "       [0.04371503, 0.04980388],\n",
              "       [0.04509741, 0.07142881],\n",
              "       [0.08475902, 0.10374857],\n",
              "       [0.04591698, 0.0512693 ],\n",
              "       [0.02926106, 0.03757978],\n",
              "       [0.02133928, 0.04014089],\n",
              "       [0.01663217, 0.0313753 ],\n",
              "       [0.05223383, 0.0510878 ],\n",
              "       [0.03098805, 0.05345733],\n",
              "       [0.02895982, 0.08644594],\n",
              "       [0.02311925, 0.09120181],\n",
              "       [0.04364571, 0.11062189],\n",
              "       [0.02517189, 0.06998693],\n",
              "       [0.00610737, 0.05720153],\n",
              "       [0.02200148, 0.06070037],\n",
              "       [0.02757983, 0.04761249],\n",
              "       [0.01684011, 0.05478158],\n",
              "       [0.0209574 , 0.03982496],\n",
              "       [0.01810457, 0.03714957],\n",
              "       [0.02922705, 0.05122896],\n",
              "       [0.02991345, 0.04324986],\n",
              "       [0.01886813, 0.03515311],\n",
              "       [0.02684897, 0.03890739],\n",
              "       [0.01393476, 0.03852087],\n",
              "       [0.02059207, 0.04089041],\n",
              "       [0.01257221, 0.05433456],\n",
              "       [0.03220913, 0.05724186],\n",
              "       [0.02183495, 0.10891112],\n",
              "       [0.01608201, 0.15639253],\n",
              "       [0.00938393, 0.06992307],\n",
              "       [0.04577508, 0.10772468],\n",
              "       [0.01250682, 0.06179271],\n",
              "       [0.01824429, 0.06595032],\n",
              "       [0.0520795 , 0.04267848],\n",
              "       [0.12742865, 0.06105328],\n",
              "       [0.03405035, 0.04015098],\n",
              "       [0.01980062, 0.03611101],\n",
              "       [0.02265693, 0.03442713],\n",
              "       [0.05390458, 0.03541527],\n",
              "       [0.03194517, 0.03980143],\n",
              "       [0.06392783, 0.06103984],\n",
              "       [0.03221894, 0.0402955 ],\n",
              "       [0.02320709, 0.03551274],\n",
              "       [0.03921237, 0.0294259 ],\n",
              "       [0.03530216, 0.03357006],\n",
              "       [0.03588851, 0.04266167],\n",
              "       [0.0347714 , 0.04486316],\n",
              "       [0.03246176, 0.03144252],\n",
              "       [0.02207777, 0.03894773],\n",
              "       [0.01727039, 0.03637653],\n",
              "       [0.01818544, 0.04242976],\n",
              "       [0.0305253 , 0.03513967],\n",
              "       [0.03158442, 0.03625217],\n",
              "       [0.03932441, 0.03958296],\n",
              "       [0.03442591, 0.04346832],\n",
              "       [0.03336984, 0.05292629],\n",
              "       [0.01114973, 0.03157697],\n",
              "       [0.03921891, 0.04431531],\n",
              "       [0.02218044, 0.05108108],\n",
              "       [0.02278379, 0.0404938 ],\n",
              "       [0.03735089, 0.03373139],\n",
              "       [0.04382314, 0.04231885],\n",
              "       [0.13130246, 0.03786211],\n",
              "       [0.07287146, 0.0367933 ],\n",
              "       [0.02677748, 0.04670837],\n",
              "       [0.08204199, 0.08394196],\n",
              "       [0.0366052 , 0.0436599 ],\n",
              "       [0.02034707, 0.03121733],\n",
              "       [0.09040516, 0.05585712],\n",
              "       [0.05675087, 0.04311205],\n",
              "       [0.07665982, 0.03511614],\n",
              "       [0.07173778, 0.06214226],\n",
              "       [0.0548944 , 0.05575965],\n",
              "       [0.03057783, 0.0750016 ],\n",
              "       [0.02295163, 0.03402716],\n",
              "       [0.03231202, 0.05287251],\n",
              "       [0.01574393, 0.04287006],\n",
              "       [0.01036328, 0.02959059],\n",
              "       [0.01893723, 0.03174502],\n",
              "       [0.02137852, 0.04053078],\n",
              "       [0.01292947, 0.03918972],\n",
              "       [0.01043434, 0.02969478],\n",
              "       [0.00902646, 0.03228278],\n",
              "       [0.01183525, 0.05664696],\n",
              "       [0.01013397, 0.04216424],\n",
              "       [0.01072054, 0.03905192],\n",
              "       [0.02756392, 0.03033674],\n",
              "       [0.01639458, 0.04309861],\n",
              "       [0.01067694, 0.03528083],\n",
              "       [0.06780752, 0.04388509],\n",
              "       [0.02724263, 0.0395023 ],\n",
              "       [0.02290542, 0.04942409],\n",
              "       [0.0136915 , 0.040477  ],\n",
              "       [0.02121133, 0.04044675],\n",
              "       [0.01204211, 0.06837027],\n",
              "       [0.0718836 , 0.17342292],\n",
              "       [0.07242112, 0.06981551],\n",
              "       [0.05355779, 0.04445983],\n",
              "       [0.04830683, 0.04589499],\n",
              "       [0.0652119 , 0.03499178],\n",
              "       [0.10445828, 0.03591271],\n",
              "       [0.05133338, 0.03755289],\n",
              "       [0.02808706, 0.03711932],\n",
              "       [0.02819168, 0.03632611],\n",
              "       [0.03924964, 0.04158614],\n",
              "       [0.02979596, 0.02393396],\n",
              "       [0.012002  , 0.02950657],\n",
              "       [0.02900472, 0.03197357],\n",
              "       [0.03854232, 0.02843776],\n",
              "       [0.02650894, 0.03770414],\n",
              "       [0.02272058, 0.04669156],\n",
              "       [0.01043325, 0.03178199],\n",
              "       [0.02976501, 0.03660508],\n",
              "       [0.03076245, 0.02481792],\n",
              "       [0.00556004, 0.01778326],\n",
              "       [0.02014262, 0.04369351],\n",
              "       [0.0325932 , 0.04760912],\n",
              "       [0.06580697, 0.08239588],\n",
              "       [0.06550355, 0.0576788 ],\n",
              "       [0.06165002, 0.06391689],\n",
              "       [0.04591916, 0.06380933],\n",
              "       [0.0346016 , 0.06921725],\n",
              "       [0.03723863, 0.0424869 ],\n",
              "       [0.03094642, 0.04874516],\n",
              "       [0.0258936 , 0.04311878],\n",
              "       [0.05187286, 0.03982496],\n",
              "       [0.01729241, 0.04273898],\n",
              "       [0.02690325, 0.04284653],\n",
              "       [0.01961883, 0.052123  ],\n",
              "       [0.0625437 , 0.10983877],\n",
              "       [0.03911559, 0.0519852 ],\n",
              "       [0.03478949, 0.04472871],\n",
              "       [0.02615604, 0.04237263],\n",
              "       [0.02065071, 0.03320035],\n",
              "       [0.01062289, 0.02511369],\n",
              "       [0.04732094, 0.02529854],\n",
              "       [0.02184585, 0.04248354],\n",
              "       [0.01090799, 0.02786974],\n",
              "       [0.03165832, 0.0295637 ],\n",
              "       [0.03069052, 0.0413307 ],\n",
              "       [0.03932659, 0.04780406],\n",
              "       [0.02388695, 0.03349948],\n",
              "       [0.02655798, 0.04272553],\n",
              "       [0.01981784, 0.03494473],\n",
              "       [0.02203287, 0.03006786],\n",
              "       [0.02721168, 0.0347834 ],\n",
              "       [0.01567614, 0.03261553],\n",
              "       [0.03039015, 0.05756116],\n",
              "       [0.03943121, 0.05268093],\n",
              "       [0.04993945, 0.04015434],\n",
              "       [0.04297872, 0.04000645],\n",
              "       [0.04566348, 0.05950048],\n",
              "       [0.03407498, 0.0541161 ],\n",
              "       [0.04623893, 0.0445405 ],\n",
              "       [0.08638073, 0.04734696],\n",
              "       [0.06550747, 0.04949467],\n",
              "       [0.06030665, 0.06758714],\n",
              "       [0.08536782, 0.04607985],\n",
              "       [0.07535809, 0.05204234],\n",
              "       [0.04578075, 0.05145079],\n",
              "       [0.07793583, 0.08080611],\n",
              "       [0.16373632, 0.16301042],\n",
              "       [0.13353558, 0.12739684],\n",
              "       [0.12373838, 0.11562312],\n",
              "       [0.08747822, 0.07936423],\n",
              "       [0.093542  , 0.09582996],\n",
              "       [0.12903249, 0.11756916],\n",
              "       [0.10755545, 0.06889459],\n",
              "       [0.04593399, 0.04225499],\n",
              "       [0.06358038, 0.05202553],\n",
              "       [0.0864725 , 0.06169188],\n",
              "       [0.06255853, 0.05618314],\n",
              "       [0.04894484, 0.04756543],\n",
              "       [0.05666346, 0.05058364],\n",
              "       [0.0425395 , 0.04400609],\n",
              "       [0.04868741, 0.04211719],\n",
              "       [0.05816878, 0.05213644],\n",
              "       [0.05983823, 0.05936268],\n",
              "       [0.05734027, 0.06300941],\n",
              "       [0.08136061, 0.08429487],\n",
              "       [0.05880482, 0.07608385],\n",
              "       [0.03689292, 0.04014089],\n",
              "       [0.02683807, 0.05125249],\n",
              "       [0.04409059, 0.04317591],\n",
              "       [0.02680669, 0.04527992],\n",
              "       [0.04514057, 0.0712574 ],\n",
              "       [0.0451883 , 0.07274634],\n",
              "       [0.0440688 , 0.06383622],\n",
              "       [0.03900072, 0.04313894],\n",
              "       [0.02456092, 0.04663442],\n",
              "       [0.06087709, 0.10365782],\n",
              "       [0.04789051, 0.09404189],\n",
              "       [0.01781598, 0.06130536],\n",
              "       [0.05575517, 0.06288505],\n",
              "       [0.06542421, 0.0893734 ],\n",
              "       [0.06441718, 0.07222202],\n",
              "       [0.05681517, 0.08930954],\n",
              "       [0.06418569, 0.10376873],\n",
              "       [0.06581155, 0.11297798],\n",
              "       [0.05868385, 0.0913833 ],\n",
              "       [0.05691457, 0.08982378],\n",
              "       [0.0409834 , 0.07620149],\n",
              "       [0.05041615, 0.08324623],\n",
              "       [0.03369265, 0.04554545],\n",
              "       [0.05128761, 0.05843167],\n",
              "       [0.03823629, 0.05860645],\n",
              "       [0.03690862, 0.0660982 ],\n",
              "       [0.02388041, 0.04960894],\n",
              "       [0.02487807, 0.04534378],\n",
              "       [0.02974975, 0.04083999],\n",
              "       [0.02202067, 0.04044339],\n",
              "       [0.03297814, 0.07772068],\n",
              "       [0.02022479, 0.04491021],\n",
              "       [0.05085929, 0.05847537],\n",
              "       [0.11773825, 0.06324804],\n",
              "       [0.05457943, 0.0784265 ],\n",
              "       [0.04842497, 0.15973004],\n",
              "       [0.03685086, 0.08010029],\n",
              "       [0.03593733, 0.06962729],\n",
              "       [0.05270552, 0.0541766 ],\n",
              "       [0.06746574, 0.05590753],\n",
              "       [0.09175223, 0.04772676],\n",
              "       [0.12002325, 0.0536153 ],\n",
              "       [0.04924499, 0.06074071],\n",
              "       [0.09748904, 0.06489495],\n",
              "       [0.06751805, 0.04901068],\n",
              "       [0.03689598, 0.04066186],\n",
              "       [0.02557972, 0.06805769],\n",
              "       [0.03599466, 0.04823428],\n",
              "       [0.03212107, 0.04187183],\n",
              "       [0.02027776, 0.05075842],\n",
              "       [0.02663471, 0.04997866],\n",
              "       [0.01679957, 0.03661516],\n",
              "       [0.01268185, 0.03481701],\n",
              "       [0.01486964, 0.05234147],\n",
              "       [0.01509437, 0.03412463],\n",
              "       [0.00820623, 0.03636981],\n",
              "       [0.01870748, 0.03538502],\n",
              "       [0.02562942, 0.02550693],\n",
              "       [0.01304587, 0.02996367],\n",
              "       [0.02406023, 0.06242123],\n",
              "       [0.01572584, 0.03799991],\n",
              "       [0.03489063, 0.10353346],\n",
              "       [0.02608389, 0.08112541],\n",
              "       [0.03223878, 0.06324468],\n",
              "       [0.02199364, 0.05613272],\n",
              "       [0.02061518, 0.05681165],\n",
              "       [0.02151671, 0.05082228],\n",
              "       [0.03309018, 0.04311878],\n",
              "       [0.01489318, 0.03601018],\n",
              "       [0.01184724, 0.03038716],\n",
              "       [0.02215145, 0.05036518],\n",
              "       [0.02208976, 0.04488668],\n",
              "       [0.10951655, 0.07107254],\n",
              "       [0.01527769, 0.04724949],\n",
              "       [0.04817758, 0.05421693],\n",
              "       [0.01995058, 0.05514121],\n",
              "       [0.03103056, 0.04134751],\n",
              "       [0.03427508, 0.04379771],\n",
              "       [0.04400253, 0.07224218],\n",
              "       [0.02853979, 0.05227425],\n",
              "       [0.03010069, 0.04322297],\n",
              "       [0.01283705, 0.03577827],\n",
              "       [0.02454762, 0.04393551],\n",
              "       [0.01363505, 0.04064841],\n",
              "       [0.00540332, 0.02255594],\n",
              "       [0.01117828, 0.03558669],\n",
              "       [0.01309862, 0.03321379],\n",
              "       [0.01804964, 0.03028633],\n",
              "       [0.00972855, 0.02656902],\n",
              "       [0.01603318, 0.03737812],\n",
              "       [0.01431033, 0.04181133],\n",
              "       [0.00226255, 0.04080302],\n",
              "       [0.00777551, 0.03521697],\n",
              "       [0.00884663, 0.05386066],\n",
              "       [0.01071879, 0.04657392],\n",
              "       [0.01920533, 0.04264487],\n",
              "       [0.02005412, 0.04166008],\n",
              "       [0.00983819, 0.08776682],\n",
              "       [0.01574197, 0.11126049],\n",
              "       [0.01140868, 0.07125068],\n",
              "       [0.01656612, 0.08058764],\n",
              "       [0.0273514 , 0.07134479],\n",
              "       [0.02082421, 0.06191035],\n",
              "       [0.06080799, 0.05501349],\n",
              "       [0.1230668 , 0.05240869],\n",
              "       [0.11100922, 0.05120208],\n",
              "       [0.04789181, 0.03635636],\n",
              "       [0.03040607, 0.03609084],\n",
              "       [0.03075918, 0.04994841],\n",
              "       [0.02408508, 0.0457908 ],\n",
              "       [0.02619309, 0.02825626],\n",
              "       [0.02863133, 0.03699832],\n",
              "       [0.03142073, 0.03325412],\n",
              "       [0.02021062, 0.04504465],\n",
              "       [0.03777833, 0.06120117],\n",
              "       [0.03710872, 0.04487996],\n",
              "       [0.0522068 , 0.04643948],\n",
              "       [0.04100454, 0.02900241],\n",
              "       [0.03200685, 0.04025517],\n",
              "       [0.01643992, 0.02956034],\n",
              "       [0.01614587, 0.03309616],\n",
              "       [0.01525916, 0.03155008],\n",
              "       [0.01972476, 0.03859818],\n",
              "       [0.02463285, 0.04356243],\n",
              "       [0.03439365, 0.04339102],\n",
              "       [0.08134274, 0.04448336],\n",
              "       [0.06945517, 0.0607844 ],\n",
              "       [0.03468857, 0.06127511],\n",
              "       [0.04764245, 0.06901559],\n",
              "       [0.04972845, 0.06320771],\n",
              "       [0.0569865 , 0.04683272],\n",
              "       [0.06112078, 0.03722351],\n",
              "       [0.05290867, 0.04037953],\n",
              "       [0.08239968, 0.04327674],\n",
              "       [0.06589416, 0.04783768],\n",
              "       [0.04473536, 0.03146269],\n",
              "       [0.05606077, 0.04364646],\n",
              "       [0.04380331, 0.04018795],\n",
              "       [0.03410811, 0.0397779 ],\n",
              "       [0.03298555, 0.04092066],\n",
              "       [0.18477698, 0.14780843],\n",
              "       [0.03534968, 0.04245329],\n",
              "       [0.02850753, 0.03259536],\n",
              "       [0.02726574, 0.04888296],\n",
              "       [0.0407724 , 0.04211046],\n",
              "       [0.02496547, 0.04613699],\n",
              "       [0.02642894, 0.04536395],\n",
              "       [0.02901714, 0.05646546],\n",
              "       [0.03744527, 0.04195586],\n",
              "       [0.04482843, 0.07399665],\n",
              "       [0.04818194, 0.03953927],\n",
              "       [0.03964483, 0.06468321],\n",
              "       [0.03360067, 0.0437204 ],\n",
              "       [0.06651364, 0.08966581],\n",
              "       [0.09078225, 0.09885153],\n",
              "       [0.06291121, 0.07036   ],\n",
              "       [0.04210159, 0.04586138],\n",
              "       [0.03859878, 0.06455212],\n",
              "       [0.02486957, 0.04904765],\n",
              "       [0.04600395, 0.07013145],\n",
              "       [0.04708815, 0.04233901],\n",
              "       [0.03774454, 0.05062734],\n",
              "       [0.05948882, 0.06187002],\n",
              "       [0.06419201, 0.06636372],\n",
              "       [0.04006312, 0.08529982],\n",
              "       [0.07799599, 0.14048137],\n",
              "       [0.07511243, 0.13016634],\n",
              "       [0.0548944 , 0.10771459],\n",
              "       [0.05859753, 0.08476206],\n",
              "       [0.1021142 , 0.04954508],\n",
              "       [0.17405709, 0.06154399],\n",
              "       [0.11920433, 0.0817909 ],\n",
              "       [0.04448164, 0.04118618],\n",
              "       [0.04784168, 0.06891811],\n",
              "       [0.03026918, 0.04975347],\n",
              "       [0.04989367, 0.04487996],\n",
              "       [0.086447  , 0.04920226],\n",
              "       [0.0771775 , 0.05061053],\n",
              "       [0.10751512, 0.052365  ],\n",
              "       [0.07629667, 0.06144652],\n",
              "       [0.05547922, 0.05546387],\n",
              "       [0.0663713 , 0.06220276],\n",
              "       [0.12282594, 0.0820497 ],\n",
              "       [0.04282788, 0.05130291],\n",
              "       [0.02647951, 0.02297607],\n",
              "       [0.07307003, 0.06503275],\n",
              "       [0.06519883, 0.06034074],\n",
              "       [0.07538926, 0.08293365],\n",
              "       [0.06603279, 0.04910479],\n",
              "       [0.06115348, 0.08645602],\n",
              "       [0.0639239 , 0.0666595 ],\n",
              "       [0.06510488, 0.07855758],\n",
              "       [0.06892833, 0.09280838],\n",
              "       [0.06714794, 0.07035664],\n",
              "       [0.11018529, 0.06049199],\n",
              "       [0.07804678, 0.0466109 ],\n",
              "       [0.05264427, 0.05095   ],\n",
              "       [0.04451586, 0.04442958],\n",
              "       [0.06370855, 0.05642177],\n",
              "       [0.07152112, 0.07990871],\n",
              "       [0.04875084, 0.07342527],\n",
              "       [0.0818953 , 0.08306473],\n",
              "       [0.11617299, 0.08959187],\n",
              "       [0.18368254, 0.15420785],\n",
              "       [0.05600431, 0.05318509],\n",
              "       [0.1026794 , 0.07950203],\n",
              "       [0.09076634, 0.07064569],\n",
              "       [0.0671693 , 0.04728646],\n",
              "       [0.05128368, 0.04992488]])"
            ]
          },
          "metadata": {},
          "execution_count": 45
        }
      ]
    },
    {
      "cell_type": "code",
      "source": [
        "\n",
        "plt.plot(y_test,color = 'red', label = 'Real Price')\n",
        "plt.plot(predicted_price, color = 'blue', label = 'Predicted Price')\n",
        "plt.title('Google/apple Stock Price Prediction')\n",
        "plt.xlabel('Time')\n",
        "plt.ylabel('Google/apple Stock Price')\n",
        "plt.legend()\n",
        "plt.show()"
      ],
      "metadata": {
        "colab": {
          "base_uri": "https://localhost:8080/",
          "height": 295
        },
        "id": "OZIT22mb3A7m",
        "outputId": "aa9da12d-b562-438d-f62b-b0463c48b6ed"
      },
      "execution_count": null,
      "outputs": [
        {
          "output_type": "display_data",
          "data": {
            "text/plain": [
              "<Figure size 432x288 with 1 Axes>"
            ],
            "image/png": "[encoded data removed]"
          },
          "metadata": {
            "needs_background": "light"
          }
        }
      ]
    },
    {
      "cell_type": "code",
      "source": [
        ""
      ],
      "metadata": {
        "id": "ZJCDgSEXKKL5"
      },
      "execution_count": null,
      "outputs": []
    },
    {
      "cell_type": "markdown",
      "source": [
        "GRU\n"
      ],
      "metadata": {
        "id": "4y4Y53XbTozF"
      }
    },
    {
      "cell_type": "code",
      "source": [
        "\n",
        "from keras.layers import GRU\n",
        "%time\n",
        "model = Sequential()\n",
        "model.add(GRU(50, batch_input_shape=(None, 29,12 ), recurrent_dropout=0))\n",
        "model.add(Dense(2, activation='relu'))\n",
        "model.compile(loss='mse', optimizer='adam', metrics=['mae'])\n",
        "model.summary()"
      ],
      "metadata": {
        "colab": {
          "base_uri": "https://localhost:8080/"
        },
        "id": "bP_lBwARTpt7",
        "outputId": "78c0b449-81a4-4f3b-9769-066fd0edf95a"
      },
      "execution_count": null,
      "outputs": [
        {
          "output_type": "stream",
          "name": "stdout",
          "text": [
            "CPU times: user 5 µs, sys: 0 ns, total: 5 µs\n",
            "Wall time: 9.06 µs\n",
            "Model: \"sequential_10\"\n",
            "_________________________________________________________________\n",
            " Layer (type)                Output Shape              Param #   \n",
            "=================================================================\n",
            " gru_8 (GRU)                 (None, 50)                9600      \n",
            "                                                                 \n",
            " dense_8 (Dense)             (None, 2)                 102       \n",
            "                                                                 \n",
            "=================================================================\n",
            "Total params: 9,702\n",
            "Trainable params: 9,702\n",
            "Non-trainable params: 0\n",
            "_________________________________________________________________\n"
          ]
        }
      ]
    },
    {
      "cell_type": "code",
      "source": [
        "model.compile(optimizer = 'adam',loss = 'mean_squared_error',metrics = [\"accuracy\"])"
      ],
      "metadata": {
        "id": "ZvGd9hJiUZFC"
      },
      "execution_count": null,
      "outputs": []
    },
    {
      "cell_type": "code",
      "source": [
        "%time\n",
        "history = model.fit(x_train, y_train, epochs=50, validation_split=0.2, verbose=1, batch_size=12)"
      ],
      "metadata": {
        "colab": {
          "base_uri": "https://localhost:8080/"
        },
        "id": "12rw2_SoT-gq",
        "outputId": "c0732bb4-740d-43bf-b166-68575ef9785f"
      },
      "execution_count": null,
      "outputs": [
        {
          "output_type": "stream",
          "name": "stdout",
          "text": [
            "CPU times: user 5 µs, sys: 0 ns, total: 5 µs\n",
            "Wall time: 9.54 µs\n",
            "Epoch 1/50\n",
            "120/120 [==============================] - 5s 19ms/step - loss: 0.0101 - accuracy: 0.7189 - val_loss: 0.0014 - val_accuracy: 0.6508\n",
            "Epoch 2/50\n",
            "120/120 [==============================] - 2s 15ms/step - loss: 0.0066 - accuracy: 0.7497 - val_loss: 0.0016 - val_accuracy: 0.3492\n",
            "Epoch 3/50\n",
            "120/120 [==============================] - 2s 14ms/step - loss: 0.0063 - accuracy: 0.7622 - val_loss: 0.0013 - val_accuracy: 0.6732\n",
            "Epoch 4/50\n",
            "120/120 [==============================] - 2s 15ms/step - loss: 0.0061 - accuracy: 0.7678 - val_loss: 0.0012 - val_accuracy: 0.6648\n",
            "Epoch 5/50\n",
            "120/120 [==============================] - 2s 15ms/step - loss: 0.0060 - accuracy: 0.7531 - val_loss: 0.0025 - val_accuracy: 0.3492\n",
            "Epoch 6/50\n",
            "120/120 [==============================] - 2s 15ms/step - loss: 0.0060 - accuracy: 0.7657 - val_loss: 0.0011 - val_accuracy: 0.6732\n",
            "Epoch 7/50\n",
            "120/120 [==============================] - 2s 15ms/step - loss: 0.0060 - accuracy: 0.7706 - val_loss: 0.0013 - val_accuracy: 0.7207\n",
            "Epoch 8/50\n",
            "120/120 [==============================] - 2s 15ms/step - loss: 0.0060 - accuracy: 0.7699 - val_loss: 0.0017 - val_accuracy: 0.6034\n",
            "Epoch 9/50\n",
            "120/120 [==============================] - 2s 15ms/step - loss: 0.0059 - accuracy: 0.7867 - val_loss: 0.0022 - val_accuracy: 0.3520\n",
            "Epoch 10/50\n",
            "120/120 [==============================] - 2s 15ms/step - loss: 0.0057 - accuracy: 0.7958 - val_loss: 0.0013 - val_accuracy: 0.4804\n",
            "Epoch 11/50\n",
            "120/120 [==============================] - 2s 16ms/step - loss: 0.0057 - accuracy: 0.7734 - val_loss: 0.0016 - val_accuracy: 0.3547\n",
            "Epoch 12/50\n",
            "120/120 [==============================] - 2s 16ms/step - loss: 0.0057 - accuracy: 0.7839 - val_loss: 9.0655e-04 - val_accuracy: 0.4078\n",
            "Epoch 13/50\n",
            "120/120 [==============================] - 2s 15ms/step - loss: 0.0057 - accuracy: 0.7664 - val_loss: 9.2087e-04 - val_accuracy: 0.4078\n",
            "Epoch 14/50\n",
            "120/120 [==============================] - 2s 15ms/step - loss: 0.0057 - accuracy: 0.7825 - val_loss: 0.0011 - val_accuracy: 0.3603\n",
            "Epoch 15/50\n",
            "120/120 [==============================] - 2s 15ms/step - loss: 0.0058 - accuracy: 0.7804 - val_loss: 0.0011 - val_accuracy: 0.7179\n",
            "Epoch 16/50\n",
            "120/120 [==============================] - 2s 15ms/step - loss: 0.0057 - accuracy: 0.7783 - val_loss: 0.0012 - val_accuracy: 0.4553\n",
            "Epoch 17/50\n",
            "120/120 [==============================] - 2s 15ms/step - loss: 0.0057 - accuracy: 0.7888 - val_loss: 0.0016 - val_accuracy: 0.5615\n",
            "Epoch 18/50\n",
            "120/120 [==============================] - 2s 15ms/step - loss: 0.0057 - accuracy: 0.7790 - val_loss: 0.0010 - val_accuracy: 0.4274\n",
            "Epoch 19/50\n",
            "120/120 [==============================] - 2s 15ms/step - loss: 0.0057 - accuracy: 0.7867 - val_loss: 0.0011 - val_accuracy: 0.3855\n",
            "Epoch 20/50\n",
            "120/120 [==============================] - 2s 15ms/step - loss: 0.0057 - accuracy: 0.7706 - val_loss: 0.0014 - val_accuracy: 0.5279\n",
            "Epoch 21/50\n",
            "120/120 [==============================] - 2s 16ms/step - loss: 0.0056 - accuracy: 0.7895 - val_loss: 0.0010 - val_accuracy: 0.6676\n",
            "Epoch 22/50\n",
            "120/120 [==============================] - 2s 14ms/step - loss: 0.0057 - accuracy: 0.7839 - val_loss: 8.4612e-04 - val_accuracy: 0.4413\n",
            "Epoch 23/50\n",
            "120/120 [==============================] - 2s 15ms/step - loss: 0.0056 - accuracy: 0.7804 - val_loss: 9.4575e-04 - val_accuracy: 0.4162\n",
            "Epoch 24/50\n",
            "120/120 [==============================] - 2s 15ms/step - loss: 0.0056 - accuracy: 0.7776 - val_loss: 0.0014 - val_accuracy: 0.3575\n",
            "Epoch 25/50\n",
            "120/120 [==============================] - 2s 15ms/step - loss: 0.0056 - accuracy: 0.7909 - val_loss: 0.0013 - val_accuracy: 0.3631\n",
            "Epoch 26/50\n",
            "120/120 [==============================] - 2s 15ms/step - loss: 0.0056 - accuracy: 0.7979 - val_loss: 8.1330e-04 - val_accuracy: 0.7235\n",
            "Epoch 27/50\n",
            "120/120 [==============================] - 2s 15ms/step - loss: 0.0055 - accuracy: 0.7860 - val_loss: 0.0016 - val_accuracy: 0.6816\n",
            "Epoch 28/50\n",
            "120/120 [==============================] - 2s 15ms/step - loss: 0.0056 - accuracy: 0.7881 - val_loss: 0.0020 - val_accuracy: 0.3827\n",
            "Epoch 29/50\n",
            "120/120 [==============================] - 2s 15ms/step - loss: 0.0056 - accuracy: 0.7937 - val_loss: 9.0316e-04 - val_accuracy: 0.4050\n",
            "Epoch 30/50\n",
            "120/120 [==============================] - 2s 15ms/step - loss: 0.0056 - accuracy: 0.7748 - val_loss: 0.0012 - val_accuracy: 0.7039\n",
            "Epoch 31/50\n",
            "120/120 [==============================] - 2s 15ms/step - loss: 0.0056 - accuracy: 0.7783 - val_loss: 0.0011 - val_accuracy: 0.6844\n",
            "Epoch 32/50\n",
            "120/120 [==============================] - 2s 15ms/step - loss: 0.0056 - accuracy: 0.7839 - val_loss: 0.0011 - val_accuracy: 0.5894\n",
            "Epoch 33/50\n",
            "120/120 [==============================] - 2s 15ms/step - loss: 0.0056 - accuracy: 0.7804 - val_loss: 0.0024 - val_accuracy: 0.4693\n",
            "Epoch 34/50\n",
            "120/120 [==============================] - 2s 14ms/step - loss: 0.0056 - accuracy: 0.7867 - val_loss: 0.0012 - val_accuracy: 0.3939\n",
            "Epoch 35/50\n",
            "120/120 [==============================] - 2s 15ms/step - loss: 0.0056 - accuracy: 0.7881 - val_loss: 8.4951e-04 - val_accuracy: 0.7067\n",
            "Epoch 36/50\n",
            "120/120 [==============================] - 2s 15ms/step - loss: 0.0055 - accuracy: 0.7930 - val_loss: 9.1347e-04 - val_accuracy: 0.4106\n",
            "Epoch 37/50\n",
            "120/120 [==============================] - 2s 15ms/step - loss: 0.0055 - accuracy: 0.7923 - val_loss: 0.0012 - val_accuracy: 0.7123\n",
            "Epoch 38/50\n",
            "120/120 [==============================] - 2s 15ms/step - loss: 0.0055 - accuracy: 0.7958 - val_loss: 7.5884e-04 - val_accuracy: 0.5279\n",
            "Epoch 39/50\n",
            "120/120 [==============================] - 2s 15ms/step - loss: 0.0055 - accuracy: 0.7923 - val_loss: 0.0014 - val_accuracy: 0.4860\n",
            "Epoch 40/50\n",
            "120/120 [==============================] - 2s 15ms/step - loss: 0.0054 - accuracy: 0.7839 - val_loss: 7.6929e-04 - val_accuracy: 0.5670\n",
            "Epoch 41/50\n",
            "120/120 [==============================] - 2s 15ms/step - loss: 0.0055 - accuracy: 0.7874 - val_loss: 0.0011 - val_accuracy: 0.6508\n",
            "Epoch 42/50\n",
            "120/120 [==============================] - 2s 15ms/step - loss: 0.0055 - accuracy: 0.7825 - val_loss: 0.0010 - val_accuracy: 0.4358\n",
            "Epoch 43/50\n",
            "120/120 [==============================] - 2s 15ms/step - loss: 0.0055 - accuracy: 0.7867 - val_loss: 9.6443e-04 - val_accuracy: 0.7095\n",
            "Epoch 44/50\n",
            "120/120 [==============================] - 2s 15ms/step - loss: 0.0055 - accuracy: 0.7692 - val_loss: 7.7792e-04 - val_accuracy: 0.5000\n",
            "Epoch 45/50\n",
            "120/120 [==============================] - 2s 16ms/step - loss: 0.0055 - accuracy: 0.7804 - val_loss: 0.0020 - val_accuracy: 0.3603\n",
            "Epoch 46/50\n",
            "120/120 [==============================] - 2s 15ms/step - loss: 0.0054 - accuracy: 0.7965 - val_loss: 8.1060e-04 - val_accuracy: 0.7263\n",
            "Epoch 47/50\n",
            "120/120 [==============================] - 2s 15ms/step - loss: 0.0055 - accuracy: 0.7825 - val_loss: 0.0019 - val_accuracy: 0.3659\n",
            "Epoch 48/50\n",
            "120/120 [==============================] - 2s 15ms/step - loss: 0.0055 - accuracy: 0.7825 - val_loss: 0.0014 - val_accuracy: 0.3659\n",
            "Epoch 49/50\n",
            "120/120 [==============================] - 2s 15ms/step - loss: 0.0054 - accuracy: 0.7797 - val_loss: 0.0020 - val_accuracy: 0.4385\n",
            "Epoch 50/50\n",
            "120/120 [==============================] - 2s 15ms/step - loss: 0.0054 - accuracy: 0.7832 - val_loss: 7.3981e-04 - val_accuracy: 0.7123\n"
          ]
        }
      ]
    },
    {
      "cell_type": "code",
      "source": [
        "''' Results '''\n",
        "results_train = model.evaluate(x_train, y_train)\n",
        "results_test = model.evaluate(x_test, y_test)\n",
        "\n",
        "print('train loss: {}, train acc: {}'.format(results_train[0], results_train[1]))\n",
        "print('test loss: {}, test acc: {}'.format(results_test[0], results_test[1]))\n",
        "\n",
        "plt.plot(history.history['loss'])\n",
        "plt.title('Loss plot')\n",
        "plt.xlabel('Epochs')\n",
        "plt.ylabel('Loss')\n",
        "plt.show()"
      ],
      "metadata": {
        "colab": {
          "base_uri": "https://localhost:8080/",
          "height": 364
        },
        "id": "cpekU-hjUK0G",
        "outputId": "c6a65683-b19b-45c0-cb13-0588dd2f100d"
      },
      "execution_count": null,
      "outputs": [
        {
          "output_type": "stream",
          "name": "stdout",
          "text": [
            "56/56 [==============================] - 0s 5ms/step - loss: 0.0044 - accuracy: 0.7573\n",
            "14/14 [==============================] - 0s 5ms/step - loss: 0.0018 - accuracy: 0.5638\n",
            "train loss: 0.004389999900013208, train acc: 0.7572706937789917\n",
            "test loss: 0.0017542581772431731, test acc: 0.563758373260498\n"
          ]
        },
        {
          "output_type": "display_data",
          "data": {
            "text/plain": [
              "<Figure size 432x288 with 1 Axes>"
            ],
            "image/png": "[encoded data removed]"
          },
          "metadata": {
            "needs_background": "light"
          }
        }
      ]
    },
    {
      "cell_type": "code",
      "source": [
        "plt.plot(y_test,color = 'red', label = 'Real Price')\n",
        "plt.plot(results_test, color = 'blue', label = 'Predicted Price')\n",
        "plt.title('Google/apple Stock Price Prediction  WITH GRU')\n",
        "plt.xlabel('Time')\n",
        "plt.ylabel('Google/apple Stock Price WITH GRU')\n",
        "plt.legend()\n",
        "plt.show()"
      ],
      "metadata": {
        "colab": {
          "base_uri": "https://localhost:8080/",
          "height": 295
        },
        "id": "JmWbA48aXlQM",
        "outputId": "9b34e479-5935-4b14-ec47-2656fbc20648"
      },
      "execution_count": null,
      "outputs": [
        {
          "output_type": "display_data",
          "data": {
            "text/plain": [
              "<Figure size 432x288 with 1 Axes>"
            ],
            "image/png": "[encoded data removed]"
          },
          "metadata": {
            "needs_background": "light"
          }
        }
      ]
    },
    {
      "cell_type": "code",
      "source": [
        ""
      ],
      "metadata": {
        "id": "XKYEs8OvaMCa"
      },
      "execution_count": null,
      "outputs": []
    },
    {
      "cell_type": "markdown",
      "source": [
        "RNN"
      ],
      "metadata": {
        "id": "8f6F_Gmwb0C0"
      }
    },
    {
      "cell_type": "code",
      "source": [
        "\n",
        "from keras.layers import SimpleRNN"
      ],
      "metadata": {
        "id": "f4xilBBub1mT"
      },
      "execution_count": 40,
      "outputs": []
    },
    {
      "cell_type": "code",
      "source": [
        "%time\n",
        "model = Sequential()\n",
        "model.add(SimpleRNN(units=50, input_shape=x_train.shape[1:], activation=\"relu\", recurrent_dropout=0.0))\n",
        "model.add(Dense(2, activation='relu'))\n",
        "model.compile(loss='mse', optimizer='adam', metrics=['mae'])\n",
        "model.summary()"
      ],
      "metadata": {
        "colab": {
          "base_uri": "https://localhost:8080/"
        },
        "id": "tL_bIipnciyR",
        "outputId": "78ea0ae6-69b0-4649-b364-06d2679be699"
      },
      "execution_count": null,
      "outputs": [
        {
          "output_type": "stream",
          "name": "stdout",
          "text": [
            "CPU times: user 5 µs, sys: 0 ns, total: 5 µs\n",
            "Wall time: 10.7 µs\n",
            "Model: \"sequential_12\"\n",
            "_________________________________________________________________\n",
            " Layer (type)                Output Shape              Param #   \n",
            "=================================================================\n",
            " simple_rnn_1 (SimpleRNN)    (None, 50)                3150      \n",
            "                                                                 \n",
            " dense_10 (Dense)            (None, 2)                 102       \n",
            "                                                                 \n",
            "=================================================================\n",
            "Total params: 3,252\n",
            "Trainable params: 3,252\n",
            "Non-trainable params: 0\n",
            "_________________________________________________________________\n"
          ]
        }
      ]
    },
    {
      "cell_type": "code",
      "source": [
        "model.compile(optimizer = 'adam',loss = 'mean_squared_error',metrics = [\"accuracy\"])"
      ],
      "metadata": {
        "id": "CX_5SrhVeNhj"
      },
      "execution_count": null,
      "outputs": []
    },
    {
      "cell_type": "code",
      "source": [
        "%time\n",
        "\n",
        "history = model.fit(x_train, y_train, epochs=50, validation_split=0.2, verbose=1, batch_size=12 )"
      ],
      "metadata": {
        "colab": {
          "base_uri": "https://localhost:8080/"
        },
        "id": "yECN6Z-Hd-Xk",
        "outputId": "3ecd6659-a47d-4a52-b9ff-c1dd98e5bf6e"
      },
      "execution_count": null,
      "outputs": [
        {
          "output_type": "stream",
          "name": "stdout",
          "text": [
            "CPU times: user 4 µs, sys: 0 ns, total: 4 µs\n",
            "Wall time: 9.3 µs\n",
            "Epoch 1/50\n",
            "120/120 [==============================] - 2s 9ms/step - loss: 0.0223 - accuracy: 0.7622 - val_loss: 0.0028 - val_accuracy: 0.3492\n",
            "Epoch 2/50\n",
            "120/120 [==============================] - 1s 7ms/step - loss: 0.0193 - accuracy: 0.7622 - val_loss: 0.0029 - val_accuracy: 0.3492\n",
            "Epoch 3/50\n",
            "120/120 [==============================] - 1s 7ms/step - loss: 0.0192 - accuracy: 0.7622 - val_loss: 0.0047 - val_accuracy: 0.3492\n",
            "Epoch 4/50\n",
            "120/120 [==============================] - 1s 7ms/step - loss: 0.0191 - accuracy: 0.7622 - val_loss: 0.0027 - val_accuracy: 0.4022\n",
            "Epoch 5/50\n",
            "120/120 [==============================] - 1s 7ms/step - loss: 0.0072 - accuracy: 0.7350 - val_loss: 0.0012 - val_accuracy: 0.6788\n",
            "Epoch 6/50\n",
            "120/120 [==============================] - 1s 7ms/step - loss: 0.0060 - accuracy: 0.7685 - val_loss: 0.0023 - val_accuracy: 0.3883\n",
            "Epoch 7/50\n",
            "120/120 [==============================] - 1s 7ms/step - loss: 0.0057 - accuracy: 0.7622 - val_loss: 0.0014 - val_accuracy: 0.3659\n",
            "Epoch 8/50\n",
            "120/120 [==============================] - 1s 7ms/step - loss: 0.0055 - accuracy: 0.7986 - val_loss: 0.0017 - val_accuracy: 0.3659\n",
            "Epoch 9/50\n",
            "120/120 [==============================] - 1s 8ms/step - loss: 0.0056 - accuracy: 0.7615 - val_loss: 0.0027 - val_accuracy: 0.3603\n",
            "Epoch 10/50\n",
            "120/120 [==============================] - 1s 7ms/step - loss: 0.0056 - accuracy: 0.7860 - val_loss: 0.0011 - val_accuracy: 0.3659\n",
            "Epoch 11/50\n",
            "120/120 [==============================] - 1s 9ms/step - loss: 0.0055 - accuracy: 0.7867 - val_loss: 9.1135e-04 - val_accuracy: 0.4888\n",
            "Epoch 12/50\n",
            "120/120 [==============================] - 1s 7ms/step - loss: 0.0054 - accuracy: 0.7755 - val_loss: 0.0011 - val_accuracy: 0.3799\n",
            "Epoch 13/50\n",
            "120/120 [==============================] - 1s 7ms/step - loss: 0.0054 - accuracy: 0.7853 - val_loss: 8.6163e-04 - val_accuracy: 0.6089\n",
            "Epoch 14/50\n",
            "120/120 [==============================] - 1s 7ms/step - loss: 0.0054 - accuracy: 0.7909 - val_loss: 0.0015 - val_accuracy: 0.3715\n",
            "Epoch 15/50\n",
            "120/120 [==============================] - 1s 7ms/step - loss: 0.0054 - accuracy: 0.7909 - val_loss: 0.0019 - val_accuracy: 0.3771\n",
            "Epoch 16/50\n",
            "120/120 [==============================] - 1s 7ms/step - loss: 0.0054 - accuracy: 0.7804 - val_loss: 9.1811e-04 - val_accuracy: 0.5084\n",
            "Epoch 17/50\n",
            "120/120 [==============================] - 1s 7ms/step - loss: 0.0053 - accuracy: 0.7853 - val_loss: 0.0014 - val_accuracy: 0.5810\n",
            "Epoch 18/50\n",
            "120/120 [==============================] - 1s 7ms/step - loss: 0.0053 - accuracy: 0.7930 - val_loss: 0.0015 - val_accuracy: 0.3687\n",
            "Epoch 19/50\n",
            "120/120 [==============================] - 1s 7ms/step - loss: 0.0052 - accuracy: 0.7825 - val_loss: 0.0023 - val_accuracy: 0.3603\n",
            "Epoch 20/50\n",
            "120/120 [==============================] - 1s 8ms/step - loss: 0.0052 - accuracy: 0.7804 - val_loss: 0.0016 - val_accuracy: 0.3799\n",
            "Epoch 21/50\n",
            "120/120 [==============================] - 1s 7ms/step - loss: 0.0053 - accuracy: 0.7832 - val_loss: 0.0014 - val_accuracy: 0.4385\n",
            "Epoch 22/50\n",
            "120/120 [==============================] - 1s 7ms/step - loss: 0.0052 - accuracy: 0.7860 - val_loss: 8.4919e-04 - val_accuracy: 0.6369\n",
            "Epoch 23/50\n",
            "120/120 [==============================] - 1s 7ms/step - loss: 0.0052 - accuracy: 0.7748 - val_loss: 0.0022 - val_accuracy: 0.3687\n",
            "Epoch 24/50\n",
            "120/120 [==============================] - 1s 7ms/step - loss: 0.0053 - accuracy: 0.7783 - val_loss: 0.0012 - val_accuracy: 0.3771\n",
            "Epoch 25/50\n",
            "120/120 [==============================] - 1s 7ms/step - loss: 0.0052 - accuracy: 0.7888 - val_loss: 8.0599e-04 - val_accuracy: 0.6872\n",
            "Epoch 26/50\n",
            "120/120 [==============================] - 1s 8ms/step - loss: 0.0051 - accuracy: 0.7818 - val_loss: 0.0014 - val_accuracy: 0.3799\n",
            "Epoch 27/50\n",
            "120/120 [==============================] - 1s 7ms/step - loss: 0.0050 - accuracy: 0.7909 - val_loss: 9.7456e-04 - val_accuracy: 0.4218\n",
            "Epoch 28/50\n",
            "120/120 [==============================] - 1s 7ms/step - loss: 0.0050 - accuracy: 0.7769 - val_loss: 9.7833e-04 - val_accuracy: 0.5922\n",
            "Epoch 29/50\n",
            "120/120 [==============================] - 1s 7ms/step - loss: 0.0051 - accuracy: 0.7895 - val_loss: 9.8718e-04 - val_accuracy: 0.6006\n",
            "Epoch 30/50\n",
            "120/120 [==============================] - 1s 7ms/step - loss: 0.0051 - accuracy: 0.7713 - val_loss: 0.0013 - val_accuracy: 0.3659\n",
            "Epoch 31/50\n",
            "120/120 [==============================] - 1s 7ms/step - loss: 0.0050 - accuracy: 0.7916 - val_loss: 0.0018 - val_accuracy: 0.3603\n",
            "Epoch 32/50\n",
            "120/120 [==============================] - 1s 7ms/step - loss: 0.0050 - accuracy: 0.7881 - val_loss: 0.0022 - val_accuracy: 0.3631\n",
            "Epoch 33/50\n",
            "120/120 [==============================] - 1s 7ms/step - loss: 0.0049 - accuracy: 0.7853 - val_loss: 0.0020 - val_accuracy: 0.3547\n",
            "Epoch 34/50\n",
            "120/120 [==============================] - 1s 8ms/step - loss: 0.0050 - accuracy: 0.7790 - val_loss: 9.0666e-04 - val_accuracy: 0.5754\n",
            "Epoch 35/50\n",
            "120/120 [==============================] - 1s 7ms/step - loss: 0.0049 - accuracy: 0.7790 - val_loss: 0.0018 - val_accuracy: 0.3603\n",
            "Epoch 36/50\n",
            "120/120 [==============================] - 1s 7ms/step - loss: 0.0049 - accuracy: 0.7874 - val_loss: 0.0020 - val_accuracy: 0.3687\n",
            "Epoch 37/50\n",
            "120/120 [==============================] - 1s 7ms/step - loss: 0.0049 - accuracy: 0.7755 - val_loss: 0.0016 - val_accuracy: 0.3575\n",
            "Epoch 38/50\n",
            "120/120 [==============================] - 1s 7ms/step - loss: 0.0050 - accuracy: 0.7825 - val_loss: 9.2594e-04 - val_accuracy: 0.5698\n",
            "Epoch 39/50\n",
            "120/120 [==============================] - 1s 7ms/step - loss: 0.0049 - accuracy: 0.7888 - val_loss: 0.0012 - val_accuracy: 0.3911\n",
            "Epoch 40/50\n",
            "120/120 [==============================] - 1s 7ms/step - loss: 0.0048 - accuracy: 0.7888 - val_loss: 8.9350e-04 - val_accuracy: 0.6732\n",
            "Epoch 41/50\n",
            "120/120 [==============================] - 1s 7ms/step - loss: 0.0048 - accuracy: 0.7832 - val_loss: 0.0011 - val_accuracy: 0.3939\n",
            "Epoch 42/50\n",
            "120/120 [==============================] - 1s 7ms/step - loss: 0.0048 - accuracy: 0.7853 - val_loss: 0.0013 - val_accuracy: 0.4469\n",
            "Epoch 43/50\n",
            "120/120 [==============================] - 1s 7ms/step - loss: 0.0047 - accuracy: 0.7797 - val_loss: 0.0015 - val_accuracy: 0.3603\n",
            "Epoch 44/50\n",
            "120/120 [==============================] - 1s 7ms/step - loss: 0.0048 - accuracy: 0.7825 - val_loss: 0.0020 - val_accuracy: 0.3575\n",
            "Epoch 45/50\n",
            "120/120 [==============================] - 1s 7ms/step - loss: 0.0048 - accuracy: 0.7853 - val_loss: 0.0022 - val_accuracy: 0.3659\n",
            "Epoch 46/50\n",
            "120/120 [==============================] - 1s 7ms/step - loss: 0.0047 - accuracy: 0.7783 - val_loss: 0.0020 - val_accuracy: 0.4162\n",
            "Epoch 47/50\n",
            "120/120 [==============================] - 1s 7ms/step - loss: 0.0047 - accuracy: 0.7923 - val_loss: 0.0019 - val_accuracy: 0.3520\n",
            "Epoch 48/50\n",
            "120/120 [==============================] - 1s 7ms/step - loss: 0.0047 - accuracy: 0.7846 - val_loss: 0.0013 - val_accuracy: 0.3575\n",
            "Epoch 49/50\n",
            "120/120 [==============================] - 1s 7ms/step - loss: 0.0046 - accuracy: 0.7909 - val_loss: 0.0013 - val_accuracy: 0.3911\n",
            "Epoch 50/50\n",
            "120/120 [==============================] - 1s 7ms/step - loss: 0.0046 - accuracy: 0.7818 - val_loss: 0.0024 - val_accuracy: 0.3492\n"
          ]
        }
      ]
    },
    {
      "cell_type": "code",
      "source": [
        "''' Results '''\n",
        "results_train = model.evaluate(x_train, y_train)\n",
        "results_test = model.evaluate(x_test, y_test)\n",
        "\n",
        "print('train loss: {}, train acc: {}'.format(results_train[0], results_train[1]))\n",
        "print('test loss: {}, test acc: {}'.format(results_test[0], results_test[1]))\n",
        "\n",
        "plt.plot(history.history['loss'])\n",
        "plt.title('Loss plot')\n",
        "plt.xlabel('Epochs')\n",
        "plt.ylabel('Loss')\n",
        "plt.show()"
      ],
      "metadata": {
        "colab": {
          "base_uri": "https://localhost:8080/",
          "height": 364
        },
        "id": "QJ0QTRkWeFXK",
        "outputId": "f57a7f27-9b15-4553-bf61-cfb066ddc80e"
      },
      "execution_count": null,
      "outputs": [
        {
          "output_type": "stream",
          "name": "stdout",
          "text": [
            "56/56 [==============================] - 0s 3ms/step - loss: 0.0041 - accuracy: 0.6997\n",
            "14/14 [==============================] - 0s 3ms/step - loss: 0.0042 - accuracy: 0.2640\n",
            "train loss: 0.004051964730024338, train acc: 0.6996644139289856\n",
            "test loss: 0.004241194110363722, test acc: 0.2639821171760559\n"
          ]
        },
        {
          "output_type": "display_data",
          "data": {
            "text/plain": [
              "<Figure size 432x288 with 1 Axes>"
            ],
            "image/png": "[encoded data removed]"
          },
          "metadata": {
            "needs_background": "light"
          }
        }
      ]
    },
    {
      "cell_type": "code",
      "source": [
        ""
      ],
      "metadata": {
        "id": "PyOlu1blfOzl"
      },
      "execution_count": null,
      "outputs": []
    },
    {
      "cell_type": "markdown",
      "source": [
        "Part 2 "
      ],
      "metadata": {
        "id": "JsYL8VN03nzb"
      }
    },
    {
      "cell_type": "code",
      "source": [
        ""
      ],
      "metadata": {
        "id": "goA3jUPRgHn-"
      },
      "execution_count": null,
      "outputs": []
    },
    {
      "cell_type": "markdown",
      "source": [
        "for LSTM"
      ],
      "metadata": {
        "id": "L3URqFZU3uiS"
      }
    },
    {
      "cell_type": "code",
      "source": [
        "model = Sequential()\n",
        "model.add(LSTM(units=50, return_sequences=True, input_shape=(x_train.shape[1],12)))\n",
        "model.add(Dropout(0.2))\n",
        "model.add(LSTM(units = 50,return_sequences = True))\n",
        "model.add(Dropout(0.2))\n",
        "model.add(LSTM(units = 50,return_sequences = True))\n",
        "model.add(Dropout(0.2))\n",
        "model.add(LSTM(units = 50))\n",
        "model.add(Dropout(0.2))\n",
        "model.add(Dense(units = 2))\n",
        "model.compile(optimizer = 'adam',loss = 'mape',metrics = [\"accuracy\"])"
      ],
      "metadata": {
        "id": "3RmONoGe3xKU"
      },
      "execution_count": null,
      "outputs": []
    },
    {
      "cell_type": "code",
      "source": [
        "%time\n",
        "model.fit(x_train,y_train,epochs = 50, batch_size = 32)"
      ],
      "metadata": {
        "colab": {
          "base_uri": "https://localhost:8080/"
        },
        "id": "p0KYUGk56222",
        "outputId": "f6f0da93-db91-4079-9ad8-81f98f0b2628"
      },
      "execution_count": null,
      "outputs": [
        {
          "output_type": "stream",
          "name": "stdout",
          "text": [
            "CPU times: user 3 µs, sys: 0 ns, total: 3 µs\n",
            "Wall time: 8.58 µs\n",
            "Epoch 1/50\n",
            "56/56 [==============================] - 13s 61ms/step - loss: 53499.4570 - accuracy: 0.6152\n",
            "Epoch 2/50\n",
            "56/56 [==============================] - 3s 60ms/step - loss: 190736.7656 - accuracy: 0.4581\n",
            "Epoch 3/50\n",
            "56/56 [==============================] - 4s 81ms/step - loss: 72052.4219 - accuracy: 0.3563\n",
            "Epoch 4/50\n",
            "56/56 [==============================] - 6s 110ms/step - loss: 101786.8906 - accuracy: 0.4877\n",
            "Epoch 5/50\n",
            "56/56 [==============================] - 7s 119ms/step - loss: 32820.0859 - accuracy: 0.4301\n",
            "Epoch 6/50\n",
            "56/56 [==============================] - 4s 78ms/step - loss: 72462.7031 - accuracy: 0.3781\n",
            "Epoch 7/50\n",
            "56/56 [==============================] - 4s 67ms/step - loss: 34033.0234 - accuracy: 0.4379\n",
            "Epoch 8/50\n",
            "56/56 [==============================] - 4s 69ms/step - loss: 21474.8340 - accuracy: 0.3210\n",
            "Epoch 9/50\n",
            "56/56 [==============================] - 3s 60ms/step - loss: 16918.5801 - accuracy: 0.5235\n",
            "Epoch 10/50\n",
            "56/56 [==============================] - 3s 60ms/step - loss: 32472.9531 - accuracy: 0.3775\n",
            "Epoch 11/50\n",
            "56/56 [==============================] - 3s 59ms/step - loss: 41439.5039 - accuracy: 0.6214\n",
            "Epoch 12/50\n",
            "56/56 [==============================] - 3s 62ms/step - loss: 23798.7363 - accuracy: 0.6734\n",
            "Epoch 13/50\n",
            "56/56 [==============================] - 3s 60ms/step - loss: 27723.4961 - accuracy: 0.6700\n",
            "Epoch 14/50\n",
            "56/56 [==============================] - 3s 60ms/step - loss: 15694.0742 - accuracy: 0.6342\n",
            "Epoch 15/50\n",
            "56/56 [==============================] - 3s 60ms/step - loss: 23335.4785 - accuracy: 0.3977\n",
            "Epoch 16/50\n",
            "56/56 [==============================] - 3s 59ms/step - loss: 24193.7852 - accuracy: 0.6555\n",
            "Epoch 17/50\n",
            "56/56 [==============================] - 3s 60ms/step - loss: 20582.3047 - accuracy: 0.3960\n",
            "Epoch 18/50\n",
            "56/56 [==============================] - 3s 60ms/step - loss: 35321.2695 - accuracy: 0.3702\n",
            "Epoch 19/50\n",
            "56/56 [==============================] - 3s 60ms/step - loss: 41723.1680 - accuracy: 0.4760\n",
            "Epoch 20/50\n",
            "56/56 [==============================] - 3s 59ms/step - loss: 37135.7305 - accuracy: 0.5257\n",
            "Epoch 21/50\n",
            "56/56 [==============================] - 3s 60ms/step - loss: 10645.3389 - accuracy: 0.6695\n",
            "Epoch 22/50\n",
            "56/56 [==============================] - 3s 60ms/step - loss: 22695.4805 - accuracy: 0.3943\n",
            "Epoch 23/50\n",
            "56/56 [==============================] - 3s 59ms/step - loss: 16798.7109 - accuracy: 0.5861\n",
            "Epoch 24/50\n",
            "56/56 [==============================] - 3s 59ms/step - loss: 20290.8555 - accuracy: 0.4760\n",
            "Epoch 25/50\n",
            "56/56 [==============================] - 3s 60ms/step - loss: 16379.5518 - accuracy: 0.5028\n",
            "Epoch 26/50\n",
            "56/56 [==============================] - 3s 60ms/step - loss: 16917.8555 - accuracy: 0.6437\n",
            "Epoch 27/50\n",
            "56/56 [==============================] - 4s 65ms/step - loss: 16312.5098 - accuracy: 0.4446\n",
            "Epoch 28/50\n",
            "56/56 [==============================] - 4s 64ms/step - loss: 16459.3262 - accuracy: 0.5442\n",
            "Epoch 29/50\n",
            "56/56 [==============================] - 3s 61ms/step - loss: 23812.4121 - accuracy: 0.5034\n",
            "Epoch 30/50\n",
            "56/56 [==============================] - 3s 61ms/step - loss: 12914.9434 - accuracy: 0.4418\n",
            "Epoch 31/50\n",
            "56/56 [==============================] - 4s 71ms/step - loss: 19996.7188 - accuracy: 0.6795\n",
            "Epoch 32/50\n",
            "56/56 [==============================] - 3s 60ms/step - loss: 4250.1475 - accuracy: 0.4815\n",
            "Epoch 33/50\n",
            "56/56 [==============================] - 3s 60ms/step - loss: 24110.5059 - accuracy: 0.3881\n",
            "Epoch 34/50\n",
            "56/56 [==============================] - 3s 60ms/step - loss: 7080.2993 - accuracy: 0.4838\n",
            "Epoch 35/50\n",
            "56/56 [==============================] - 5s 90ms/step - loss: 30999.0703 - accuracy: 0.6572\n",
            "Epoch 36/50\n",
            "56/56 [==============================] - 5s 86ms/step - loss: 8431.1738 - accuracy: 0.4172\n",
            "Epoch 37/50\n",
            "56/56 [==============================] - 5s 98ms/step - loss: 16819.6426 - accuracy: 0.6018\n",
            "Epoch 38/50\n",
            "56/56 [==============================] - 3s 60ms/step - loss: 9455.7461 - accuracy: 0.3798\n",
            "Epoch 39/50\n",
            "56/56 [==============================] - 3s 62ms/step - loss: 19885.7598 - accuracy: 0.6734\n",
            "Epoch 40/50\n",
            "56/56 [==============================] - 4s 80ms/step - loss: 12775.6709 - accuracy: 0.4698\n",
            "Epoch 41/50\n",
            "56/56 [==============================] - 4s 70ms/step - loss: 11304.0215 - accuracy: 0.6773\n",
            "Epoch 42/50\n",
            "56/56 [==============================] - 4s 71ms/step - loss: 39902.9180 - accuracy: 0.6762\n",
            "Epoch 43/50\n",
            "56/56 [==============================] - 3s 60ms/step - loss: 12955.2217 - accuracy: 0.6734\n",
            "Epoch 44/50\n",
            "56/56 [==============================] - 3s 59ms/step - loss: 11077.9619 - accuracy: 0.6035\n",
            "Epoch 45/50\n",
            "56/56 [==============================] - 4s 68ms/step - loss: 7283.3955 - accuracy: 0.5570\n",
            "Epoch 46/50\n",
            "56/56 [==============================] - 4s 79ms/step - loss: 30602.4414 - accuracy: 0.4463\n",
            "Epoch 47/50\n",
            "56/56 [==============================] - 3s 62ms/step - loss: 14887.1260 - accuracy: 0.6622\n",
            "Epoch 48/50\n",
            "56/56 [==============================] - 3s 61ms/step - loss: 4504.8799 - accuracy: 0.3742\n",
            "Epoch 49/50\n",
            "56/56 [==============================] - 3s 61ms/step - loss: 39302.5547 - accuracy: 0.4385\n",
            "Epoch 50/50\n",
            "56/56 [==============================] - 3s 61ms/step - loss: 11772.7461 - accuracy: 0.4469\n"
          ]
        },
        {
          "output_type": "execute_result",
          "data": {
            "text/plain": [
              "<keras.callbacks.History at 0x7fb7fc65a650>"
            ]
          },
          "metadata": {},
          "execution_count": 163
        }
      ]
    },
    {
      "cell_type": "code",
      "source": [
        ""
      ],
      "metadata": {
        "id": "B4qAPS3y7nu5"
      },
      "execution_count": null,
      "outputs": []
    },
    {
      "cell_type": "markdown",
      "source": [
        "for GRU"
      ],
      "metadata": {
        "id": "sW9BMhXs7oEZ"
      }
    },
    {
      "cell_type": "code",
      "source": [
        "from keras.layers import GRU\n",
        "%time\n",
        "model = Sequential()\n",
        "model.add(GRU(50, batch_input_shape=(None, 29,12 ), recurrent_dropout=0))\n",
        "model.add(Dropout(0.2))\n",
        "model.add(Dense(2, activation='relu'))\n",
        "model.add(Dropout(0.2))\n",
        "model.compile(loss='mape', optimizer='adam', metrics=['mae'])\n",
        "model.summary()"
      ],
      "metadata": {
        "colab": {
          "base_uri": "https://localhost:8080/"
        },
        "id": "sReWFt6H7prq",
        "outputId": "d01dd768-bbf3-46f8-d473-1c2ae75c9546"
      },
      "execution_count": null,
      "outputs": [
        {
          "output_type": "stream",
          "name": "stdout",
          "text": [
            "CPU times: user 4 µs, sys: 0 ns, total: 4 µs\n",
            "Wall time: 9.3 µs\n",
            "Model: \"sequential_18\"\n",
            "_________________________________________________________________\n",
            " Layer (type)                Output Shape              Param #   \n",
            "=================================================================\n",
            " gru_12 (GRU)                (None, 50)                9600      \n",
            "                                                                 \n",
            " dropout_19 (Dropout)        (None, 50)                0         \n",
            "                                                                 \n",
            " dense_16 (Dense)            (None, 2)                 102       \n",
            "                                                                 \n",
            " dropout_20 (Dropout)        (None, 2)                 0         \n",
            "                                                                 \n",
            "=================================================================\n",
            "Total params: 9,702\n",
            "Trainable params: 9,702\n",
            "Non-trainable params: 0\n",
            "_________________________________________________________________\n"
          ]
        }
      ]
    },
    {
      "cell_type": "code",
      "source": [
        "\n",
        "model.compile(optimizer = 'adam',loss = 'mape',metrics = [\"accuracy\"])"
      ],
      "metadata": {
        "id": "1MXHGV4C9X3A"
      },
      "execution_count": null,
      "outputs": []
    },
    {
      "cell_type": "code",
      "source": [
        "%time\n",
        "\n",
        "history = model.fit(x_train, y_train, epochs=50, validation_split=0.2, verbose=1, batch_size=12)"
      ],
      "metadata": {
        "colab": {
          "base_uri": "https://localhost:8080/"
        },
        "id": "U-TGQQ3R75Gu",
        "outputId": "33544097-8265-4380-d7fb-5b336e3ed247"
      },
      "execution_count": null,
      "outputs": [
        {
          "output_type": "stream",
          "name": "stdout",
          "text": [
            "CPU times: user 4 µs, sys: 0 ns, total: 4 µs\n",
            "Wall time: 9.54 µs\n",
            "Epoch 1/50\n",
            "120/120 [==============================] - 4s 19ms/step - loss: 122.6080 - accuracy: 0.6685 - val_loss: 91.8234 - val_accuracy: 0.3492\n",
            "Epoch 2/50\n",
            "120/120 [==============================] - 2s 15ms/step - loss: 66.4935 - accuracy: 0.6741 - val_loss: 96.5633 - val_accuracy: 0.3492\n",
            "Epoch 3/50\n",
            "120/120 [==============================] - 2s 15ms/step - loss: 64.0386 - accuracy: 0.6762 - val_loss: 60882.4922 - val_accuracy: 0.3492\n",
            "Epoch 4/50\n",
            "120/120 [==============================] - 2s 18ms/step - loss: 93.8917 - accuracy: 0.6930 - val_loss: 97.3268 - val_accuracy: 0.3492\n",
            "Epoch 5/50\n",
            "120/120 [==============================] - 3s 26ms/step - loss: 77.1943 - accuracy: 0.7622 - val_loss: 96.2149 - val_accuracy: 0.3492\n",
            "Epoch 6/50\n",
            "120/120 [==============================] - 2s 15ms/step - loss: 76.0988 - accuracy: 0.7622 - val_loss: 93.0440 - val_accuracy: 0.3492\n",
            "Epoch 7/50\n",
            "120/120 [==============================] - 2s 15ms/step - loss: 75.9783 - accuracy: 0.7615 - val_loss: 38205.6641 - val_accuracy: 0.3492\n",
            "Epoch 8/50\n",
            "120/120 [==============================] - 2s 14ms/step - loss: 74.6459 - accuracy: 0.7601 - val_loss: 24744.8633 - val_accuracy: 0.3492\n",
            "Epoch 9/50\n",
            "120/120 [==============================] - 2s 15ms/step - loss: 75.0792 - accuracy: 0.7608 - val_loss: 92.7633 - val_accuracy: 0.3492\n",
            "Epoch 10/50\n",
            "120/120 [==============================] - 2s 14ms/step - loss: 70.8332 - accuracy: 0.7455 - val_loss: 37537.5664 - val_accuracy: 0.3492\n",
            "Epoch 11/50\n",
            "120/120 [==============================] - 2s 14ms/step - loss: 60.1004 - accuracy: 0.6825 - val_loss: 49965.4453 - val_accuracy: 0.3492\n",
            "Epoch 12/50\n",
            "120/120 [==============================] - 2s 14ms/step - loss: 57.3661 - accuracy: 0.6867 - val_loss: 42443.9453 - val_accuracy: 0.3492\n",
            "Epoch 13/50\n",
            "120/120 [==============================] - 2s 15ms/step - loss: 56.6368 - accuracy: 0.6734 - val_loss: 4185.5010 - val_accuracy: 0.3492\n",
            "Epoch 14/50\n",
            "120/120 [==============================] - 2s 15ms/step - loss: 53.9092 - accuracy: 0.6734 - val_loss: 37827.6133 - val_accuracy: 0.3492\n",
            "Epoch 15/50\n",
            "120/120 [==============================] - 2s 15ms/step - loss: 73.4422 - accuracy: 0.7524 - val_loss: 91.9565 - val_accuracy: 0.3492\n",
            "Epoch 16/50\n",
            "120/120 [==============================] - 2s 14ms/step - loss: 75.3176 - accuracy: 0.7622 - val_loss: 52303.7305 - val_accuracy: 0.3492\n",
            "Epoch 17/50\n",
            "120/120 [==============================] - 2s 14ms/step - loss: 72.8128 - accuracy: 0.7622 - val_loss: 31215.1562 - val_accuracy: 0.3492\n",
            "Epoch 18/50\n",
            "120/120 [==============================] - 2s 14ms/step - loss: 71.6987 - accuracy: 0.7622 - val_loss: 26583.8066 - val_accuracy: 0.3492\n",
            "Epoch 19/50\n",
            "120/120 [==============================] - 2s 15ms/step - loss: 71.9894 - accuracy: 0.7622 - val_loss: 18082.2168 - val_accuracy: 0.3492\n",
            "Epoch 20/50\n",
            "120/120 [==============================] - 2s 15ms/step - loss: 72.4981 - accuracy: 0.7622 - val_loss: 53157.7109 - val_accuracy: 0.3492\n",
            "Epoch 21/50\n",
            "120/120 [==============================] - 2s 14ms/step - loss: 71.0548 - accuracy: 0.7622 - val_loss: 18861.4590 - val_accuracy: 0.3492\n",
            "Epoch 22/50\n",
            "120/120 [==============================] - 2s 14ms/step - loss: 71.6204 - accuracy: 0.7622 - val_loss: 42696.5117 - val_accuracy: 0.3492\n",
            "Epoch 23/50\n",
            "120/120 [==============================] - 2s 15ms/step - loss: 70.6856 - accuracy: 0.7622 - val_loss: 93.4049 - val_accuracy: 0.3492\n",
            "Epoch 24/50\n",
            "120/120 [==============================] - 2s 15ms/step - loss: 70.5658 - accuracy: 0.7622 - val_loss: 51129.0039 - val_accuracy: 0.3492\n",
            "Epoch 25/50\n",
            "120/120 [==============================] - 2s 14ms/step - loss: 71.0614 - accuracy: 0.7622 - val_loss: 35293.4492 - val_accuracy: 0.3492\n",
            "Epoch 26/50\n",
            "120/120 [==============================] - 2s 14ms/step - loss: 70.9047 - accuracy: 0.7622 - val_loss: 38797.7188 - val_accuracy: 0.3492\n",
            "Epoch 27/50\n",
            "120/120 [==============================] - 2s 14ms/step - loss: 70.6712 - accuracy: 0.7615 - val_loss: 32517.1504 - val_accuracy: 0.3492\n",
            "Epoch 28/50\n",
            "120/120 [==============================] - 2s 15ms/step - loss: 70.3827 - accuracy: 0.7622 - val_loss: 23578.2656 - val_accuracy: 0.3492\n",
            "Epoch 29/50\n",
            "120/120 [==============================] - 2s 15ms/step - loss: 70.6526 - accuracy: 0.7622 - val_loss: 17784.9824 - val_accuracy: 0.3492\n",
            "Epoch 30/50\n",
            "120/120 [==============================] - 2s 14ms/step - loss: 71.5889 - accuracy: 0.7622 - val_loss: 42565.5352 - val_accuracy: 0.3492\n",
            "Epoch 31/50\n",
            "120/120 [==============================] - 2s 15ms/step - loss: 70.7465 - accuracy: 0.7622 - val_loss: 4822.5054 - val_accuracy: 0.3492\n",
            "Epoch 32/50\n",
            "120/120 [==============================] - 2s 14ms/step - loss: 71.3034 - accuracy: 0.7622 - val_loss: 18751.3105 - val_accuracy: 0.3492\n",
            "Epoch 33/50\n",
            "120/120 [==============================] - 2s 14ms/step - loss: 70.8621 - accuracy: 0.7622 - val_loss: 29562.5332 - val_accuracy: 0.3492\n",
            "Epoch 34/50\n",
            "120/120 [==============================] - 2s 15ms/step - loss: 70.5873 - accuracy: 0.7615 - val_loss: 37012.9336 - val_accuracy: 0.3492\n",
            "Epoch 35/50\n",
            "120/120 [==============================] - 2s 14ms/step - loss: 71.4432 - accuracy: 0.7622 - val_loss: 21498.4961 - val_accuracy: 0.3492\n",
            "Epoch 36/50\n",
            "120/120 [==============================] - 2s 15ms/step - loss: 71.8550 - accuracy: 0.7622 - val_loss: 69271.1250 - val_accuracy: 0.3492\n",
            "Epoch 37/50\n",
            "120/120 [==============================] - 2s 16ms/step - loss: 70.9838 - accuracy: 0.7615 - val_loss: 48902.1289 - val_accuracy: 0.3492\n",
            "Epoch 38/50\n",
            "120/120 [==============================] - 2s 15ms/step - loss: 69.0007 - accuracy: 0.7538 - val_loss: 28651.6484 - val_accuracy: 0.3492\n",
            "Epoch 39/50\n",
            "120/120 [==============================] - 2s 15ms/step - loss: 59.6607 - accuracy: 0.6762 - val_loss: 22641.5664 - val_accuracy: 0.3492\n",
            "Epoch 40/50\n",
            "120/120 [==============================] - 2s 15ms/step - loss: 55.9359 - accuracy: 0.6643 - val_loss: 53418.7305 - val_accuracy: 0.3492\n",
            "Epoch 41/50\n",
            "120/120 [==============================] - 2s 15ms/step - loss: 31940.2773 - accuracy: 0.7196 - val_loss: 34319.6211 - val_accuracy: 0.3492\n",
            "Epoch 42/50\n",
            "120/120 [==============================] - 2s 15ms/step - loss: 73.4969 - accuracy: 0.7622 - val_loss: 86146.5859 - val_accuracy: 0.3492\n",
            "Epoch 43/50\n",
            "120/120 [==============================] - 2s 15ms/step - loss: 73.4705 - accuracy: 0.7622 - val_loss: 40980.7461 - val_accuracy: 0.3492\n",
            "Epoch 44/50\n",
            "120/120 [==============================] - 2s 15ms/step - loss: 72.9556 - accuracy: 0.7622 - val_loss: 74107.2656 - val_accuracy: 0.3492\n",
            "Epoch 45/50\n",
            "120/120 [==============================] - 2s 15ms/step - loss: 72.5240 - accuracy: 0.7622 - val_loss: 38270.8008 - val_accuracy: 0.3492\n",
            "Epoch 46/50\n",
            "120/120 [==============================] - 2s 14ms/step - loss: 72.4069 - accuracy: 0.7622 - val_loss: 59701.9844 - val_accuracy: 0.3492\n",
            "Epoch 47/50\n",
            "120/120 [==============================] - 2s 14ms/step - loss: 72.7511 - accuracy: 0.7622 - val_loss: 46927.7930 - val_accuracy: 0.3492\n",
            "Epoch 48/50\n",
            "120/120 [==============================] - 3s 25ms/step - loss: 71.5703 - accuracy: 0.7622 - val_loss: 45236.8359 - val_accuracy: 0.3492\n",
            "Epoch 49/50\n",
            "120/120 [==============================] - 2s 19ms/step - loss: 71.9350 - accuracy: 0.7622 - val_loss: 30645.9785 - val_accuracy: 0.3492\n",
            "Epoch 50/50\n",
            "120/120 [==============================] - 2s 15ms/step - loss: 71.2178 - accuracy: 0.7622 - val_loss: 54151.1992 - val_accuracy: 0.3492\n"
          ]
        }
      ]
    },
    {
      "cell_type": "markdown",
      "source": [
        "for RNN"
      ],
      "metadata": {
        "id": "6ezSVuG48Cw-"
      }
    },
    {
      "cell_type": "code",
      "source": [
        "%time\n",
        "model = Sequential()\n",
        "model.add(SimpleRNN(units=50, input_shape=x_train.shape[1:], activation=\"relu\", recurrent_dropout=0.0))\n",
        "model.add(Dense(2, activation='relu'))\n",
        "model.compile(optimizer = 'adam',loss = 'mape',metrics = [\"accuracy\"])\n",
        "model.summary()"
      ],
      "metadata": {
        "colab": {
          "base_uri": "https://localhost:8080/"
        },
        "id": "6lDSSbvH8Dze",
        "outputId": "5fca21af-ce79-4214-960c-668c7dd4d4ec"
      },
      "execution_count": null,
      "outputs": [
        {
          "output_type": "stream",
          "name": "stdout",
          "text": [
            "CPU times: user 6 µs, sys: 0 ns, total: 6 µs\n",
            "Wall time: 12.4 µs\n",
            "Model: \"sequential_20\"\n",
            "_________________________________________________________________\n",
            " Layer (type)                Output Shape              Param #   \n",
            "=================================================================\n",
            " simple_rnn_3 (SimpleRNN)    (None, 50)                3150      \n",
            "                                                                 \n",
            " dense_18 (Dense)            (None, 2)                 102       \n",
            "                                                                 \n",
            "=================================================================\n",
            "Total params: 3,252\n",
            "Trainable params: 3,252\n",
            "Non-trainable params: 0\n",
            "_________________________________________________________________\n"
          ]
        }
      ]
    },
    {
      "cell_type": "code",
      "source": [
        ""
      ],
      "metadata": {
        "id": "rx3PUPvA_ibX"
      },
      "execution_count": null,
      "outputs": []
    },
    {
      "cell_type": "code",
      "source": [
        "%time\n",
        "\n",
        "history = model.fit(x_train, y_train, epochs=50, validation_split=0.2, verbose=1, batch_size=12 )"
      ],
      "metadata": {
        "colab": {
          "base_uri": "https://localhost:8080/"
        },
        "id": "gF4_fKib8IRz",
        "outputId": "592f296a-77c9-4f78-b446-e4df31bc7e38"
      },
      "execution_count": null,
      "outputs": [
        {
          "output_type": "stream",
          "name": "stdout",
          "text": [
            "CPU times: user 4 µs, sys: 1e+03 ns, total: 5 µs\n",
            "Wall time: 10 µs\n",
            "Epoch 1/50\n",
            "120/120 [==============================] - 2s 8ms/step - loss: 69.2215 - accuracy: 0.7622 - val_loss: 60328.7930 - val_accuracy: 0.3492\n",
            "Epoch 2/50\n",
            "120/120 [==============================] - 1s 7ms/step - loss: 64.0261 - accuracy: 0.7622 - val_loss: 91719.5156 - val_accuracy: 0.3492\n",
            "Epoch 3/50\n",
            "120/120 [==============================] - 1s 7ms/step - loss: 64.0496 - accuracy: 0.7622 - val_loss: 55797.5938 - val_accuracy: 0.3492\n",
            "Epoch 4/50\n",
            "120/120 [==============================] - 1s 8ms/step - loss: 64.9109 - accuracy: 0.7622 - val_loss: 73980.6875 - val_accuracy: 0.3492\n",
            "Epoch 5/50\n",
            "120/120 [==============================] - 1s 7ms/step - loss: 64.1842 - accuracy: 0.7622 - val_loss: 66141.0625 - val_accuracy: 0.3492\n",
            "Epoch 6/50\n",
            "120/120 [==============================] - 1s 7ms/step - loss: 63.2844 - accuracy: 0.7622 - val_loss: 94736.0234 - val_accuracy: 0.3492\n",
            "Epoch 7/50\n",
            "120/120 [==============================] - 1s 7ms/step - loss: 63.1197 - accuracy: 0.7622 - val_loss: 71383.2969 - val_accuracy: 0.3492\n",
            "Epoch 8/50\n",
            "120/120 [==============================] - 1s 7ms/step - loss: 63.6817 - accuracy: 0.7622 - val_loss: 76427.2500 - val_accuracy: 0.3492\n",
            "Epoch 9/50\n",
            "120/120 [==============================] - 1s 7ms/step - loss: 63.2927 - accuracy: 0.7622 - val_loss: 89439.2578 - val_accuracy: 0.3492\n",
            "Epoch 10/50\n",
            "120/120 [==============================] - 1s 7ms/step - loss: 52.6757 - accuracy: 0.7469 - val_loss: 87954.8750 - val_accuracy: 0.3492\n",
            "Epoch 11/50\n",
            "120/120 [==============================] - 1s 7ms/step - loss: 91.1221 - accuracy: 0.7273 - val_loss: 84671.7422 - val_accuracy: 0.3492\n",
            "Epoch 12/50\n",
            "120/120 [==============================] - 1s 7ms/step - loss: 86.2198 - accuracy: 0.7336 - val_loss: 109155.3047 - val_accuracy: 0.3492\n",
            "Epoch 13/50\n",
            "120/120 [==============================] - 1s 7ms/step - loss: 64.0249 - accuracy: 0.7622 - val_loss: 86436.9688 - val_accuracy: 0.3492\n",
            "Epoch 14/50\n",
            "120/120 [==============================] - 1s 7ms/step - loss: 64.0444 - accuracy: 0.7622 - val_loss: 89141.4453 - val_accuracy: 0.3492\n",
            "Epoch 15/50\n",
            "120/120 [==============================] - 1s 7ms/step - loss: 63.8327 - accuracy: 0.7622 - val_loss: 129750.5938 - val_accuracy: 0.3492\n",
            "Epoch 16/50\n",
            "120/120 [==============================] - 1s 7ms/step - loss: 63.2493 - accuracy: 0.7622 - val_loss: 62851.4570 - val_accuracy: 0.3492\n",
            "Epoch 17/50\n",
            "120/120 [==============================] - 1s 7ms/step - loss: 57.9313 - accuracy: 0.7413 - val_loss: 66704.2109 - val_accuracy: 0.3492\n",
            "Epoch 18/50\n",
            "120/120 [==============================] - 1s 7ms/step - loss: 92.0763 - accuracy: 0.7531 - val_loss: 111177.5391 - val_accuracy: 0.3492\n",
            "Epoch 19/50\n",
            "120/120 [==============================] - 1s 7ms/step - loss: 64.1239 - accuracy: 0.7622 - val_loss: 68036.6406 - val_accuracy: 0.3492\n",
            "Epoch 20/50\n",
            "120/120 [==============================] - 1s 7ms/step - loss: 62.6809 - accuracy: 0.7615 - val_loss: 131236.5625 - val_accuracy: 0.3492\n",
            "Epoch 21/50\n",
            "120/120 [==============================] - 1s 7ms/step - loss: 59.0579 - accuracy: 0.7357 - val_loss: 107050.7734 - val_accuracy: 0.3492\n",
            "Epoch 22/50\n",
            "120/120 [==============================] - 1s 7ms/step - loss: 53.4911 - accuracy: 0.7196 - val_loss: 71220.3359 - val_accuracy: 0.3492\n",
            "Epoch 23/50\n",
            "120/120 [==============================] - 1s 7ms/step - loss: 43.8353 - accuracy: 0.7252 - val_loss: 71858.2344 - val_accuracy: 0.3492\n",
            "Epoch 24/50\n",
            "120/120 [==============================] - 1s 8ms/step - loss: 39.5813 - accuracy: 0.7587 - val_loss: 87199.0703 - val_accuracy: 0.3492\n",
            "Epoch 25/50\n",
            "120/120 [==============================] - 1s 7ms/step - loss: 40.0097 - accuracy: 0.7573 - val_loss: 107411.9453 - val_accuracy: 0.3492\n",
            "Epoch 26/50\n",
            "120/120 [==============================] - 1s 7ms/step - loss: 42.7542 - accuracy: 0.7678 - val_loss: 54179.8398 - val_accuracy: 0.3492\n",
            "Epoch 27/50\n",
            "120/120 [==============================] - 1s 7ms/step - loss: 41.4489 - accuracy: 0.7797 - val_loss: 63714.0117 - val_accuracy: 0.3492\n",
            "Epoch 28/50\n",
            "120/120 [==============================] - 1s 7ms/step - loss: 41.7811 - accuracy: 0.7622 - val_loss: 88255.4609 - val_accuracy: 0.3492\n",
            "Epoch 29/50\n",
            "120/120 [==============================] - 1s 7ms/step - loss: 40.9838 - accuracy: 0.7727 - val_loss: 112690.2344 - val_accuracy: 0.3492\n",
            "Epoch 30/50\n",
            "120/120 [==============================] - 1s 7ms/step - loss: 41.2996 - accuracy: 0.7734 - val_loss: 145436.1406 - val_accuracy: 0.3492\n",
            "Epoch 31/50\n",
            "120/120 [==============================] - 1s 7ms/step - loss: 40.1195 - accuracy: 0.7783 - val_loss: 122482.9609 - val_accuracy: 0.3492\n",
            "Epoch 32/50\n",
            "120/120 [==============================] - 1s 7ms/step - loss: 76.0932 - accuracy: 0.7622 - val_loss: 130332.7500 - val_accuracy: 0.3492\n",
            "Epoch 33/50\n",
            "120/120 [==============================] - 1s 6ms/step - loss: 63.9452 - accuracy: 0.7622 - val_loss: 29067.0117 - val_accuracy: 0.3492\n",
            "Epoch 34/50\n",
            "120/120 [==============================] - 1s 7ms/step - loss: 64.3472 - accuracy: 0.7622 - val_loss: 60571.0898 - val_accuracy: 0.3492\n",
            "Epoch 35/50\n",
            "120/120 [==============================] - 1s 7ms/step - loss: 63.3738 - accuracy: 0.7622 - val_loss: 67507.7188 - val_accuracy: 0.3492\n",
            "Epoch 36/50\n",
            "120/120 [==============================] - 1s 7ms/step - loss: 63.8406 - accuracy: 0.7622 - val_loss: 111054.9062 - val_accuracy: 0.3492\n",
            "Epoch 37/50\n",
            "120/120 [==============================] - 1s 7ms/step - loss: 64.0168 - accuracy: 0.7622 - val_loss: 88426.7969 - val_accuracy: 0.3492\n",
            "Epoch 38/50\n",
            "120/120 [==============================] - 1s 7ms/step - loss: 63.5362 - accuracy: 0.7622 - val_loss: 73673.3984 - val_accuracy: 0.3492\n",
            "Epoch 39/50\n",
            "120/120 [==============================] - 1s 7ms/step - loss: 63.1869 - accuracy: 0.7622 - val_loss: 68535.7969 - val_accuracy: 0.3492\n",
            "Epoch 40/50\n",
            "120/120 [==============================] - 1s 7ms/step - loss: 63.3828 - accuracy: 0.7622 - val_loss: 114025.0625 - val_accuracy: 0.3492\n",
            "Epoch 41/50\n",
            "120/120 [==============================] - 1s 7ms/step - loss: 63.3036 - accuracy: 0.7622 - val_loss: 68514.4609 - val_accuracy: 0.3492\n",
            "Epoch 42/50\n",
            "120/120 [==============================] - 1s 7ms/step - loss: 63.5411 - accuracy: 0.7622 - val_loss: 128659.3828 - val_accuracy: 0.3492\n",
            "Epoch 43/50\n",
            "120/120 [==============================] - 1s 8ms/step - loss: 63.8135 - accuracy: 0.7622 - val_loss: 86877.6562 - val_accuracy: 0.3492\n",
            "Epoch 44/50\n",
            "120/120 [==============================] - 1s 8ms/step - loss: 63.3714 - accuracy: 0.7622 - val_loss: 76318.7344 - val_accuracy: 0.3492\n",
            "Epoch 45/50\n",
            "120/120 [==============================] - 1s 7ms/step - loss: 62.9763 - accuracy: 0.7622 - val_loss: 55951.8008 - val_accuracy: 0.3492\n",
            "Epoch 46/50\n",
            "120/120 [==============================] - 1s 7ms/step - loss: 63.1117 - accuracy: 0.7622 - val_loss: 61411.4297 - val_accuracy: 0.3492\n",
            "Epoch 47/50\n",
            "120/120 [==============================] - 1s 7ms/step - loss: 63.0593 - accuracy: 0.7622 - val_loss: 45816.1133 - val_accuracy: 0.3492\n",
            "Epoch 48/50\n",
            "120/120 [==============================] - 1s 7ms/step - loss: 62.9675 - accuracy: 0.7622 - val_loss: 102867.7344 - val_accuracy: 0.3492\n",
            "Epoch 49/50\n",
            "120/120 [==============================] - 1s 8ms/step - loss: 63.3928 - accuracy: 0.7622 - val_loss: 78598.6953 - val_accuracy: 0.3492\n",
            "Epoch 50/50\n",
            "120/120 [==============================] - 1s 7ms/step - loss: 62.9980 - accuracy: 0.7622 - val_loss: 63955.8555 - val_accuracy: 0.3492\n"
          ]
        }
      ]
    },
    {
      "cell_type": "code",
      "source": [
        "''' Results '''\n",
        "results_train = model.evaluate(x_train, y_train)\n",
        "results_test = model.evaluate(x_test, y_test)\n",
        "\n",
        "print('train loss: {}, train acc: {}'.format(results_train[0], results_train[1]))\n",
        "print('test loss: {}, test acc: {}'.format(results_test[0], results_test[1]))\n",
        "\n",
        "plt.plot(history.history['loss'])\n",
        "plt.title('Loss plot')\n",
        "plt.xlabel('Epochs')\n",
        "plt.ylabel('Loss')\n",
        "plt.show()"
      ],
      "metadata": {
        "colab": {
          "base_uri": "https://localhost:8080/",
          "height": 364
        },
        "id": "JXSJ2_Fj8L43",
        "outputId": "72d9bad3-d83b-4e4e-965c-68011cc3b6e8"
      },
      "execution_count": null,
      "outputs": [
        {
          "output_type": "stream",
          "name": "stdout",
          "text": [
            "56/56 [==============================] - 0s 3ms/step - loss: 12855.4482 - accuracy: 0.6795\n",
            "14/14 [==============================] - 0s 5ms/step - loss: 74.2399 - accuracy: 0.2640\n",
            "train loss: 12855.4482421875, train acc: 0.6795302033424377\n",
            "test loss: 74.23992156982422, test acc: 0.2639821171760559\n"
          ]
        },
        {
          "output_type": "display_data",
          "data": {
            "text/plain": [
              "<Figure size 432x288 with 1 Axes>"
            ],
            "image/png": "[encoded data removed]"
          },
          "metadata": {
            "needs_background": "light"
          }
        }
      ]
    },
    {
      "cell_type": "code",
      "source": [
        ""
      ],
      "metadata": {
        "id": "FfRE19LD_1ue"
      },
      "execution_count": null,
      "outputs": []
    },
    {
      "cell_type": "markdown",
      "source": [
        "part3"
      ],
      "metadata": {
        "id": "Tj64AlwYSQDa"
      }
    },
    {
      "cell_type": "code",
      "source": [
        "model = Sequential()\n",
        "model.add(LSTM(units=50, return_sequences=True, input_shape=(x_train.shape[1],12)))\n",
        "model.add(Dropout(0.2))\n",
        "model.add(LSTM(units = 50,return_sequences = True))\n",
        "model.add(Dropout(0.2))\n",
        "model.add(LSTM(units = 50,return_sequences = True))\n",
        "model.add(Dropout(0.2))\n",
        "model.add(LSTM(units = 50))\n",
        "model.add(Dropout(0.2))\n",
        "model.add(Dense(units = 2))\n",
        "model.compile(optimizer = 'ADAgrad',loss = 'mse',metrics = [\"accuracy\"])"
      ],
      "metadata": {
        "id": "yUZu2EwQSRdV"
      },
      "execution_count": null,
      "outputs": []
    },
    {
      "cell_type": "code",
      "source": [
        "%time\n",
        "model.fit(x_train,y_train,epochs = 50, batch_size = 32)"
      ],
      "metadata": {
        "colab": {
          "base_uri": "https://localhost:8080/"
        },
        "id": "-VM3HwBsSWgC",
        "outputId": "db8a1281-bbe6-400d-dabd-d23748a04a0e"
      },
      "execution_count": null,
      "outputs": [
        {
          "output_type": "stream",
          "name": "stdout",
          "text": [
            "CPU times: user 3 µs, sys: 1 µs, total: 4 µs\n",
            "Wall time: 5.72 µs\n",
            "Epoch 1/50\n",
            "56/56 [==============================] - 8s 43ms/step - loss: 0.0289 - accuracy: 0.6119\n",
            "Epoch 2/50\n",
            "56/56 [==============================] - 2s 43ms/step - loss: 0.0157 - accuracy: 0.6130\n",
            "Epoch 3/50\n",
            "56/56 [==============================] - 2s 43ms/step - loss: 0.0123 - accuracy: 0.6337\n",
            "Epoch 4/50\n",
            "56/56 [==============================] - 2s 42ms/step - loss: 0.0111 - accuracy: 0.6415\n",
            "Epoch 5/50\n",
            "56/56 [==============================] - 2s 43ms/step - loss: 0.0106 - accuracy: 0.6549\n",
            "Epoch 6/50\n",
            "56/56 [==============================] - 2s 43ms/step - loss: 0.0104 - accuracy: 0.6398\n",
            "Epoch 7/50\n",
            "56/56 [==============================] - 2s 42ms/step - loss: 0.0105 - accuracy: 0.6611\n",
            "Epoch 8/50\n",
            "56/56 [==============================] - 2s 43ms/step - loss: 0.0101 - accuracy: 0.6504\n",
            "Epoch 9/50\n",
            "56/56 [==============================] - 2s 43ms/step - loss: 0.0100 - accuracy: 0.6594\n",
            "Epoch 10/50\n",
            "56/56 [==============================] - 2s 43ms/step - loss: 0.0097 - accuracy: 0.6516\n",
            "Epoch 11/50\n",
            "56/56 [==============================] - 2s 43ms/step - loss: 0.0095 - accuracy: 0.6633\n",
            "Epoch 12/50\n",
            "56/56 [==============================] - 2s 43ms/step - loss: 0.0092 - accuracy: 0.6538\n",
            "Epoch 13/50\n",
            "56/56 [==============================] - 2s 43ms/step - loss: 0.0092 - accuracy: 0.6549\n",
            "Epoch 14/50\n",
            "56/56 [==============================] - 2s 43ms/step - loss: 0.0092 - accuracy: 0.6555\n",
            "Epoch 15/50\n",
            "56/56 [==============================] - 2s 43ms/step - loss: 0.0090 - accuracy: 0.6588\n",
            "Epoch 16/50\n",
            "56/56 [==============================] - 2s 43ms/step - loss: 0.0089 - accuracy: 0.6588\n",
            "Epoch 17/50\n",
            "56/56 [==============================] - 2s 42ms/step - loss: 0.0088 - accuracy: 0.6605\n",
            "Epoch 18/50\n",
            "56/56 [==============================] - 2s 42ms/step - loss: 0.0087 - accuracy: 0.6594\n",
            "Epoch 19/50\n",
            "56/56 [==============================] - 2s 43ms/step - loss: 0.0087 - accuracy: 0.6644\n",
            "Epoch 20/50\n",
            "56/56 [==============================] - 2s 43ms/step - loss: 0.0087 - accuracy: 0.6588\n",
            "Epoch 21/50\n",
            "56/56 [==============================] - 2s 42ms/step - loss: 0.0083 - accuracy: 0.6667\n",
            "Epoch 22/50\n",
            "56/56 [==============================] - 2s 44ms/step - loss: 0.0083 - accuracy: 0.6672\n",
            "Epoch 23/50\n",
            "56/56 [==============================] - 2s 42ms/step - loss: 0.0083 - accuracy: 0.6616\n",
            "Epoch 24/50\n",
            "56/56 [==============================] - 2s 42ms/step - loss: 0.0083 - accuracy: 0.6756\n",
            "Epoch 25/50\n",
            "56/56 [==============================] - 2s 43ms/step - loss: 0.0082 - accuracy: 0.6600\n",
            "Epoch 26/50\n",
            "56/56 [==============================] - 2s 43ms/step - loss: 0.0082 - accuracy: 0.6695\n",
            "Epoch 27/50\n",
            "56/56 [==============================] - 2s 43ms/step - loss: 0.0081 - accuracy: 0.6711\n",
            "Epoch 28/50\n",
            "56/56 [==============================] - 2s 44ms/step - loss: 0.0080 - accuracy: 0.6745\n",
            "Epoch 29/50\n",
            "56/56 [==============================] - 2s 43ms/step - loss: 0.0080 - accuracy: 0.6762\n",
            "Epoch 30/50\n",
            "56/56 [==============================] - 2s 43ms/step - loss: 0.0080 - accuracy: 0.6723\n",
            "Epoch 31/50\n",
            "56/56 [==============================] - 2s 42ms/step - loss: 0.0080 - accuracy: 0.6667\n",
            "Epoch 32/50\n",
            "56/56 [==============================] - 2s 42ms/step - loss: 0.0081 - accuracy: 0.6633\n",
            "Epoch 33/50\n",
            "56/56 [==============================] - 2s 43ms/step - loss: 0.0080 - accuracy: 0.6544\n",
            "Epoch 34/50\n",
            "56/56 [==============================] - 2s 42ms/step - loss: 0.0080 - accuracy: 0.6767\n",
            "Epoch 35/50\n",
            "56/56 [==============================] - 2s 43ms/step - loss: 0.0079 - accuracy: 0.6801\n",
            "Epoch 36/50\n",
            "56/56 [==============================] - 2s 43ms/step - loss: 0.0079 - accuracy: 0.6762\n",
            "Epoch 37/50\n",
            "56/56 [==============================] - 2s 43ms/step - loss: 0.0079 - accuracy: 0.6795\n",
            "Epoch 38/50\n",
            "56/56 [==============================] - 2s 43ms/step - loss: 0.0079 - accuracy: 0.6611\n",
            "Epoch 39/50\n",
            "56/56 [==============================] - 2s 43ms/step - loss: 0.0079 - accuracy: 0.6706\n",
            "Epoch 40/50\n",
            "56/56 [==============================] - 2s 42ms/step - loss: 0.0079 - accuracy: 0.6834\n",
            "Epoch 41/50\n",
            "56/56 [==============================] - 2s 43ms/step - loss: 0.0077 - accuracy: 0.6874\n",
            "Epoch 42/50\n",
            "56/56 [==============================] - 2s 43ms/step - loss: 0.0077 - accuracy: 0.6762\n",
            "Epoch 43/50\n",
            "56/56 [==============================] - 2s 44ms/step - loss: 0.0077 - accuracy: 0.6751\n",
            "Epoch 44/50\n",
            "56/56 [==============================] - 2s 43ms/step - loss: 0.0077 - accuracy: 0.6784\n",
            "Epoch 45/50\n",
            "56/56 [==============================] - 2s 42ms/step - loss: 0.0077 - accuracy: 0.6751\n",
            "Epoch 46/50\n",
            "56/56 [==============================] - 2s 43ms/step - loss: 0.0080 - accuracy: 0.6723\n",
            "Epoch 47/50\n",
            "56/56 [==============================] - 2s 43ms/step - loss: 0.0078 - accuracy: 0.6874\n",
            "Epoch 48/50\n",
            "56/56 [==============================] - 2s 43ms/step - loss: 0.0078 - accuracy: 0.6779\n",
            "Epoch 49/50\n",
            "56/56 [==============================] - 2s 43ms/step - loss: 0.0078 - accuracy: 0.6885\n",
            "Epoch 50/50\n",
            "56/56 [==============================] - 2s 44ms/step - loss: 0.0077 - accuracy: 0.6745\n"
          ]
        },
        {
          "output_type": "execute_result",
          "data": {
            "text/plain": [
              "<keras.callbacks.History at 0x7f1719a21650>"
            ]
          },
          "metadata": {},
          "execution_count": 27
        }
      ]
    },
    {
      "cell_type": "code",
      "source": [
        "predicted_price = model.predict(x_test)\n",
        "plt.plot(y_test,color = 'red', label = 'Real Price')\n",
        "plt.plot(predicted_price, color = 'blue', label = 'Predicted Price')\n",
        "plt.title('Google/apple Stock Price Prediction')\n",
        "plt.xlabel('Time')\n",
        "plt.ylabel('Google/apple Stock Price')\n",
        "plt.legend()\n",
        "plt.show()"
      ],
      "metadata": {
        "colab": {
          "base_uri": "https://localhost:8080/",
          "height": 295
        },
        "id": "5sezv8hDSe7p",
        "outputId": "0416fe8b-91e6-4ac8-dfa3-02a71a848cc7"
      },
      "execution_count": null,
      "outputs": [
        {
          "output_type": "display_data",
          "data": {
            "text/plain": [
              "<Figure size 432x288 with 1 Axes>"
            ],
            "image/png": "[encoded data removed]"
          },
          "metadata": {
            "needs_background": "light"
          }
        }
      ]
    },
    {
      "cell_type": "code",
      "source": [
        "model = Sequential()\n",
        "model.add(LSTM(units=50, return_sequences=True, input_shape=(x_train.shape[1],12)))\n",
        "model.add(Dropout(0.2))\n",
        "model.add(LSTM(units = 50,return_sequences = True))\n",
        "model.add(Dropout(0.2))\n",
        "model.add(LSTM(units = 50,return_sequences = True))\n",
        "model.add(Dropout(0.2))\n",
        "model.add(LSTM(units = 50))\n",
        "model.add(Dropout(0.2))\n",
        "model.add(Dense(units = 2))\n",
        "model.compile(optimizer = 'RMSProp',loss = 'mse',metrics = [\"accuracy\"])"
      ],
      "metadata": {
        "id": "B6XlrzUeS-us"
      },
      "execution_count": null,
      "outputs": []
    },
    {
      "cell_type": "code",
      "source": [
        "%time\n",
        "model.fit(x_train,y_train,epochs = 50, batch_size = 32)"
      ],
      "metadata": {
        "colab": {
          "base_uri": "https://localhost:8080/"
        },
        "id": "NVLaWailTusV",
        "outputId": "7b523db0-3f2a-45aa-dc10-0a6f13bfa959"
      },
      "execution_count": null,
      "outputs": [
        {
          "output_type": "stream",
          "name": "stdout",
          "text": [
            "CPU times: user 2 µs, sys: 0 ns, total: 2 µs\n",
            "Wall time: 4.77 µs\n",
            "Epoch 1/50\n",
            "56/56 [==============================] - 9s 44ms/step - loss: 0.0102 - accuracy: 0.6471\n",
            "Epoch 2/50\n",
            "56/56 [==============================] - 2s 43ms/step - loss: 0.0080 - accuracy: 0.6874\n",
            "Epoch 3/50\n",
            "56/56 [==============================] - 2s 43ms/step - loss: 0.0077 - accuracy: 0.6773\n",
            "Epoch 4/50\n",
            "56/56 [==============================] - 2s 44ms/step - loss: 0.0077 - accuracy: 0.6885\n",
            "Epoch 5/50\n",
            "56/56 [==============================] - 3s 45ms/step - loss: 0.0075 - accuracy: 0.6790\n",
            "Epoch 6/50\n",
            "56/56 [==============================] - 2s 44ms/step - loss: 0.0073 - accuracy: 0.6829\n",
            "Epoch 7/50\n",
            "56/56 [==============================] - 2s 44ms/step - loss: 0.0072 - accuracy: 0.6991\n",
            "Epoch 8/50\n",
            "56/56 [==============================] - 2s 44ms/step - loss: 0.0072 - accuracy: 0.6868\n",
            "Epoch 9/50\n",
            "56/56 [==============================] - 2s 44ms/step - loss: 0.0071 - accuracy: 0.6991\n",
            "Epoch 10/50\n",
            "56/56 [==============================] - 2s 44ms/step - loss: 0.0070 - accuracy: 0.6941\n",
            "Epoch 11/50\n",
            "56/56 [==============================] - 2s 44ms/step - loss: 0.0070 - accuracy: 0.6879\n",
            "Epoch 12/50\n",
            "56/56 [==============================] - 2s 44ms/step - loss: 0.0069 - accuracy: 0.7041\n",
            "Epoch 13/50\n",
            "56/56 [==============================] - 2s 45ms/step - loss: 0.0069 - accuracy: 0.7025\n",
            "Epoch 14/50\n",
            "56/56 [==============================] - 2s 44ms/step - loss: 0.0068 - accuracy: 0.6952\n",
            "Epoch 15/50\n",
            "56/56 [==============================] - 2s 43ms/step - loss: 0.0068 - accuracy: 0.7041\n",
            "Epoch 16/50\n",
            "56/56 [==============================] - 2s 44ms/step - loss: 0.0066 - accuracy: 0.7142\n",
            "Epoch 17/50\n",
            "56/56 [==============================] - 2s 44ms/step - loss: 0.0065 - accuracy: 0.7013\n",
            "Epoch 18/50\n",
            "56/56 [==============================] - 2s 44ms/step - loss: 0.0066 - accuracy: 0.6985\n",
            "Epoch 19/50\n",
            "56/56 [==============================] - 3s 45ms/step - loss: 0.0065 - accuracy: 0.7036\n",
            "Epoch 20/50\n",
            "56/56 [==============================] - 3s 45ms/step - loss: 0.0064 - accuracy: 0.7002\n",
            "Epoch 21/50\n",
            "56/56 [==============================] - 3s 45ms/step - loss: 0.0063 - accuracy: 0.6991\n",
            "Epoch 22/50\n",
            "56/56 [==============================] - 2s 44ms/step - loss: 0.0062 - accuracy: 0.7019\n",
            "Epoch 23/50\n",
            "56/56 [==============================] - 3s 45ms/step - loss: 0.0060 - accuracy: 0.7092\n",
            "Epoch 24/50\n",
            "56/56 [==============================] - 3s 45ms/step - loss: 0.0060 - accuracy: 0.7120\n",
            "Epoch 25/50\n",
            "56/56 [==============================] - 3s 45ms/step - loss: 0.0059 - accuracy: 0.6980\n",
            "Epoch 26/50\n",
            "56/56 [==============================] - 2s 44ms/step - loss: 0.0058 - accuracy: 0.7086\n",
            "Epoch 27/50\n",
            "56/56 [==============================] - 2s 44ms/step - loss: 0.0058 - accuracy: 0.7103\n",
            "Epoch 28/50\n",
            "56/56 [==============================] - 2s 44ms/step - loss: 0.0058 - accuracy: 0.7120\n",
            "Epoch 29/50\n",
            "56/56 [==============================] - 2s 44ms/step - loss: 0.0057 - accuracy: 0.7198\n",
            "Epoch 30/50\n",
            "56/56 [==============================] - 2s 43ms/step - loss: 0.0056 - accuracy: 0.7131\n",
            "Epoch 31/50\n",
            "56/56 [==============================] - 2s 44ms/step - loss: 0.0056 - accuracy: 0.7192\n",
            "Epoch 32/50\n",
            "56/56 [==============================] - 2s 44ms/step - loss: 0.0055 - accuracy: 0.7069\n",
            "Epoch 33/50\n",
            "56/56 [==============================] - 3s 45ms/step - loss: 0.0056 - accuracy: 0.7013\n",
            "Epoch 34/50\n",
            "56/56 [==============================] - 3s 45ms/step - loss: 0.0056 - accuracy: 0.7075\n",
            "Epoch 35/50\n",
            "56/56 [==============================] - 3s 45ms/step - loss: 0.0055 - accuracy: 0.7164\n",
            "Epoch 36/50\n",
            "56/56 [==============================] - 3s 45ms/step - loss: 0.0056 - accuracy: 0.7142\n",
            "Epoch 37/50\n",
            "56/56 [==============================] - 2s 44ms/step - loss: 0.0055 - accuracy: 0.7120\n",
            "Epoch 38/50\n",
            "56/56 [==============================] - 3s 45ms/step - loss: 0.0055 - accuracy: 0.7025\n",
            "Epoch 39/50\n",
            "56/56 [==============================] - 2s 44ms/step - loss: 0.0054 - accuracy: 0.7204\n",
            "Epoch 40/50\n",
            "56/56 [==============================] - 2s 44ms/step - loss: 0.0055 - accuracy: 0.7114\n",
            "Epoch 41/50\n",
            "56/56 [==============================] - 2s 44ms/step - loss: 0.0054 - accuracy: 0.7159\n",
            "Epoch 42/50\n",
            "56/56 [==============================] - 2s 44ms/step - loss: 0.0055 - accuracy: 0.7243\n",
            "Epoch 43/50\n",
            "56/56 [==============================] - 2s 44ms/step - loss: 0.0055 - accuracy: 0.7170\n",
            "Epoch 44/50\n",
            "56/56 [==============================] - 2s 44ms/step - loss: 0.0054 - accuracy: 0.7092\n",
            "Epoch 45/50\n",
            "56/56 [==============================] - 2s 44ms/step - loss: 0.0054 - accuracy: 0.7153\n",
            "Epoch 46/50\n",
            "56/56 [==============================] - 2s 45ms/step - loss: 0.0054 - accuracy: 0.7187\n",
            "Epoch 47/50\n",
            "56/56 [==============================] - 2s 43ms/step - loss: 0.0053 - accuracy: 0.7103\n",
            "Epoch 48/50\n",
            "56/56 [==============================] - 2s 44ms/step - loss: 0.0052 - accuracy: 0.7103\n",
            "Epoch 49/50\n",
            "56/56 [==============================] - 2s 44ms/step - loss: 0.0054 - accuracy: 0.7248\n",
            "Epoch 50/50\n",
            "56/56 [==============================] - 2s 44ms/step - loss: 0.0054 - accuracy: 0.7260\n"
          ]
        },
        {
          "output_type": "execute_result",
          "data": {
            "text/plain": [
              "<keras.callbacks.History at 0x7f1716246150>"
            ]
          },
          "metadata": {},
          "execution_count": 34
        }
      ]
    },
    {
      "cell_type": "code",
      "source": [
        "predicted_price = model.predict(x_test)\n",
        "plt.plot(y_test,color = 'red', label = 'Real Price')\n",
        "plt.plot(predicted_price, color = 'blue', label = 'Predicted Price')\n",
        "plt.title('Google/apple Stock Price Prediction')\n",
        "plt.xlabel('Time')\n",
        "plt.ylabel('Google/apple Stock Price')\n",
        "plt.legend()\n",
        "plt.show()"
      ],
      "metadata": {
        "colab": {
          "base_uri": "https://localhost:8080/",
          "height": 295
        },
        "id": "1SM1MJCoTxte",
        "outputId": "09167004-aaee-4f43-80c4-80715913d486"
      },
      "execution_count": null,
      "outputs": [
        {
          "output_type": "display_data",
          "data": {
            "text/plain": [
              "<Figure size 432x288 with 1 Axes>"
            ],
            "image/png": "[encoded data removed]"
          },
          "metadata": {
            "needs_background": "light"
          }
        }
      ]
    },
    {
      "cell_type": "code",
      "source": [
        "from keras.layers import GRU\n",
        "%time\n",
        "model = Sequential()\n",
        "model.add(GRU(50, batch_input_shape=(None, 29,12 ), recurrent_dropout=0))\n",
        "model.add(Dropout(0.2))\n",
        "model.add(Dense(2, activation='relu'))\n",
        "model.add(Dropout(0.2))\n",
        "model.compile(loss='mse', optimizer='ADAgrad', metrics=['mae'])\n",
        "model.summary()"
      ],
      "metadata": {
        "colab": {
          "base_uri": "https://localhost:8080/"
        },
        "id": "FDIWVkrPSxZ7",
        "outputId": "b0505d07-0806-4f90-b90b-3281d71bb173"
      },
      "execution_count": null,
      "outputs": [
        {
          "output_type": "stream",
          "name": "stdout",
          "text": [
            "CPU times: user 9 µs, sys: 1 µs, total: 10 µs\n",
            "Wall time: 11.9 µs\n",
            "Model: \"sequential_9\"\n",
            "_________________________________________________________________\n",
            " Layer (type)                Output Shape              Param #   \n",
            "=================================================================\n",
            " gru_6 (GRU)                 (None, 50)                9600      \n",
            "                                                                 \n",
            " dropout_24 (Dropout)        (None, 50)                0         \n",
            "                                                                 \n",
            " dense_9 (Dense)             (None, 2)                 102       \n",
            "                                                                 \n",
            " dropout_25 (Dropout)        (None, 2)                 0         \n",
            "                                                                 \n",
            "=================================================================\n",
            "Total params: 9,702\n",
            "Trainable params: 9,702\n",
            "Non-trainable params: 0\n",
            "_________________________________________________________________\n"
          ]
        }
      ]
    },
    {
      "cell_type": "code",
      "source": [
        "model.compile(optimizer = 'ADAgrad',loss = 'mse',metrics = [\"accuracy\"])"
      ],
      "metadata": {
        "id": "fQgjkf_cU6sq"
      },
      "execution_count": null,
      "outputs": []
    },
    {
      "cell_type": "code",
      "source": [
        "%time\n",
        "\n",
        "history = model.fit(x_train, y_train, epochs=50, validation_split=0.2, verbose=1, batch_size=12)"
      ],
      "metadata": {
        "colab": {
          "base_uri": "https://localhost:8080/"
        },
        "id": "9xDoRCapTs-J",
        "outputId": "55f7b4f0-54a4-462e-db8c-3e039da3a644"
      },
      "execution_count": null,
      "outputs": [
        {
          "output_type": "stream",
          "name": "stdout",
          "text": [
            "CPU times: user 2 µs, sys: 0 ns, total: 2 µs\n",
            "Wall time: 5.01 µs\n",
            "Epoch 1/50\n",
            "120/120 [==============================] - 3s 14ms/step - loss: 0.0130 - accuracy: 0.6965 - val_loss: 8.8707e-04 - val_accuracy: 0.6173\n",
            "Epoch 2/50\n",
            "120/120 [==============================] - 1s 11ms/step - loss: 0.0137 - accuracy: 0.6895 - val_loss: 9.4033e-04 - val_accuracy: 0.6732\n",
            "Epoch 3/50\n",
            "120/120 [==============================] - 1s 11ms/step - loss: 0.0138 - accuracy: 0.7014 - val_loss: 9.7036e-04 - val_accuracy: 0.6899\n",
            "Epoch 4/50\n",
            "120/120 [==============================] - 1s 11ms/step - loss: 0.0132 - accuracy: 0.6790 - val_loss: 9.7372e-04 - val_accuracy: 0.6872\n",
            "Epoch 5/50\n",
            "120/120 [==============================] - 1s 11ms/step - loss: 0.0131 - accuracy: 0.6986 - val_loss: 9.8505e-04 - val_accuracy: 0.6927\n",
            "Epoch 6/50\n",
            "120/120 [==============================] - 1s 11ms/step - loss: 0.0133 - accuracy: 0.7021 - val_loss: 9.8757e-04 - val_accuracy: 0.6899\n",
            "Epoch 7/50\n",
            "120/120 [==============================] - 1s 11ms/step - loss: 0.0140 - accuracy: 0.7021 - val_loss: 9.9382e-04 - val_accuracy: 0.6732\n",
            "Epoch 8/50\n",
            "120/120 [==============================] - 1s 11ms/step - loss: 0.0137 - accuracy: 0.6951 - val_loss: 9.9735e-04 - val_accuracy: 0.6816\n",
            "Epoch 9/50\n",
            "120/120 [==============================] - 1s 11ms/step - loss: 0.0135 - accuracy: 0.7042 - val_loss: 9.9027e-04 - val_accuracy: 0.6760\n",
            "Epoch 10/50\n",
            "120/120 [==============================] - 1s 11ms/step - loss: 0.0141 - accuracy: 0.6930 - val_loss: 9.6627e-04 - val_accuracy: 0.6816\n",
            "Epoch 11/50\n",
            "120/120 [==============================] - 1s 12ms/step - loss: 0.0136 - accuracy: 0.6860 - val_loss: 9.8508e-04 - val_accuracy: 0.6872\n",
            "Epoch 12/50\n",
            "120/120 [==============================] - 1s 11ms/step - loss: 0.0136 - accuracy: 0.6734 - val_loss: 0.0010 - val_accuracy: 0.6872\n",
            "Epoch 13/50\n",
            "120/120 [==============================] - 1s 12ms/step - loss: 0.0137 - accuracy: 0.6986 - val_loss: 0.0010 - val_accuracy: 0.6899\n",
            "Epoch 14/50\n",
            "120/120 [==============================] - 1s 11ms/step - loss: 0.0130 - accuracy: 0.6916 - val_loss: 0.0010 - val_accuracy: 0.6816\n",
            "Epoch 15/50\n",
            "120/120 [==============================] - 1s 11ms/step - loss: 0.0139 - accuracy: 0.6727 - val_loss: 0.0010 - val_accuracy: 0.6899\n",
            "Epoch 16/50\n",
            "120/120 [==============================] - 1s 11ms/step - loss: 0.0135 - accuracy: 0.6867 - val_loss: 0.0010 - val_accuracy: 0.6508\n",
            "Epoch 17/50\n",
            "120/120 [==============================] - 1s 11ms/step - loss: 0.0139 - accuracy: 0.6986 - val_loss: 0.0010 - val_accuracy: 0.6564\n",
            "Epoch 18/50\n",
            "120/120 [==============================] - 1s 11ms/step - loss: 0.0133 - accuracy: 0.6937 - val_loss: 0.0010 - val_accuracy: 0.6872\n",
            "Epoch 19/50\n",
            "120/120 [==============================] - 1s 11ms/step - loss: 0.0129 - accuracy: 0.6846 - val_loss: 0.0010 - val_accuracy: 0.6732\n",
            "Epoch 20/50\n",
            "120/120 [==============================] - 1s 11ms/step - loss: 0.0136 - accuracy: 0.6951 - val_loss: 0.0010 - val_accuracy: 0.6844\n",
            "Epoch 21/50\n",
            "120/120 [==============================] - 1s 11ms/step - loss: 0.0136 - accuracy: 0.6734 - val_loss: 0.0010 - val_accuracy: 0.6648\n",
            "Epoch 22/50\n",
            "120/120 [==============================] - 1s 11ms/step - loss: 0.0133 - accuracy: 0.7056 - val_loss: 0.0010 - val_accuracy: 0.6676\n",
            "Epoch 23/50\n",
            "120/120 [==============================] - 1s 11ms/step - loss: 0.0136 - accuracy: 0.7000 - val_loss: 0.0010 - val_accuracy: 0.6648\n",
            "Epoch 24/50\n",
            "120/120 [==============================] - 1s 11ms/step - loss: 0.0133 - accuracy: 0.7168 - val_loss: 0.0010 - val_accuracy: 0.6844\n",
            "Epoch 25/50\n",
            "120/120 [==============================] - 1s 11ms/step - loss: 0.0140 - accuracy: 0.6972 - val_loss: 0.0011 - val_accuracy: 0.6816\n",
            "Epoch 26/50\n",
            "120/120 [==============================] - 1s 11ms/step - loss: 0.0135 - accuracy: 0.7000 - val_loss: 0.0011 - val_accuracy: 0.6592\n",
            "Epoch 27/50\n",
            "120/120 [==============================] - 1s 11ms/step - loss: 0.0135 - accuracy: 0.6902 - val_loss: 0.0011 - val_accuracy: 0.6732\n",
            "Epoch 28/50\n",
            "120/120 [==============================] - 1s 11ms/step - loss: 0.0150 - accuracy: 0.6867 - val_loss: 0.0011 - val_accuracy: 0.6732\n",
            "Epoch 29/50\n",
            "120/120 [==============================] - 1s 11ms/step - loss: 0.0141 - accuracy: 0.6888 - val_loss: 0.0011 - val_accuracy: 0.6592\n",
            "Epoch 30/50\n",
            "120/120 [==============================] - 1s 11ms/step - loss: 0.0137 - accuracy: 0.6930 - val_loss: 0.0011 - val_accuracy: 0.6592\n",
            "Epoch 31/50\n",
            "120/120 [==============================] - 1s 11ms/step - loss: 0.0134 - accuracy: 0.6972 - val_loss: 0.0011 - val_accuracy: 0.6564\n",
            "Epoch 32/50\n",
            "120/120 [==============================] - 1s 11ms/step - loss: 0.0132 - accuracy: 0.7049 - val_loss: 0.0010 - val_accuracy: 0.6732\n",
            "Epoch 33/50\n",
            "120/120 [==============================] - 1s 11ms/step - loss: 0.0127 - accuracy: 0.6881 - val_loss: 0.0010 - val_accuracy: 0.6732\n",
            "Epoch 34/50\n",
            "120/120 [==============================] - 1s 11ms/step - loss: 0.0140 - accuracy: 0.6895 - val_loss: 0.0011 - val_accuracy: 0.6732\n",
            "Epoch 35/50\n",
            "120/120 [==============================] - 1s 11ms/step - loss: 0.0139 - accuracy: 0.6825 - val_loss: 0.0011 - val_accuracy: 0.6732\n",
            "Epoch 36/50\n",
            "120/120 [==============================] - 1s 12ms/step - loss: 0.0141 - accuracy: 0.7028 - val_loss: 0.0011 - val_accuracy: 0.6732\n",
            "Epoch 37/50\n",
            "120/120 [==============================] - 1s 11ms/step - loss: 0.0135 - accuracy: 0.7063 - val_loss: 0.0011 - val_accuracy: 0.6844\n",
            "Epoch 38/50\n",
            "120/120 [==============================] - 1s 11ms/step - loss: 0.0145 - accuracy: 0.6818 - val_loss: 0.0011 - val_accuracy: 0.6676\n",
            "Epoch 39/50\n",
            "120/120 [==============================] - 1s 12ms/step - loss: 0.0144 - accuracy: 0.7126 - val_loss: 0.0011 - val_accuracy: 0.6676\n",
            "Epoch 40/50\n",
            "120/120 [==============================] - 1s 11ms/step - loss: 0.0134 - accuracy: 0.7028 - val_loss: 0.0011 - val_accuracy: 0.6620\n",
            "Epoch 41/50\n",
            "120/120 [==============================] - 1s 11ms/step - loss: 0.0142 - accuracy: 0.6944 - val_loss: 0.0011 - val_accuracy: 0.6704\n",
            "Epoch 42/50\n",
            "120/120 [==============================] - 1s 11ms/step - loss: 0.0131 - accuracy: 0.6867 - val_loss: 0.0011 - val_accuracy: 0.6564\n",
            "Epoch 43/50\n",
            "120/120 [==============================] - 1s 11ms/step - loss: 0.0140 - accuracy: 0.6895 - val_loss: 0.0011 - val_accuracy: 0.6788\n",
            "Epoch 44/50\n",
            "120/120 [==============================] - 1s 11ms/step - loss: 0.0142 - accuracy: 0.7014 - val_loss: 0.0011 - val_accuracy: 0.6704\n",
            "Epoch 45/50\n",
            "120/120 [==============================] - 1s 11ms/step - loss: 0.0132 - accuracy: 0.6916 - val_loss: 0.0011 - val_accuracy: 0.6732\n",
            "Epoch 46/50\n",
            "120/120 [==============================] - 1s 11ms/step - loss: 0.0131 - accuracy: 0.7042 - val_loss: 0.0011 - val_accuracy: 0.6788\n",
            "Epoch 47/50\n",
            "120/120 [==============================] - 1s 11ms/step - loss: 0.0129 - accuracy: 0.7063 - val_loss: 0.0011 - val_accuracy: 0.6704\n",
            "Epoch 48/50\n",
            "120/120 [==============================] - 1s 11ms/step - loss: 0.0135 - accuracy: 0.6930 - val_loss: 0.0011 - val_accuracy: 0.6592\n",
            "Epoch 49/50\n",
            "120/120 [==============================] - 1s 12ms/step - loss: 0.0134 - accuracy: 0.6818 - val_loss: 0.0011 - val_accuracy: 0.6648\n",
            "Epoch 50/50\n",
            "120/120 [==============================] - 1s 11ms/step - loss: 0.0136 - accuracy: 0.6986 - val_loss: 0.0011 - val_accuracy: 0.6760\n"
          ]
        }
      ]
    },
    {
      "cell_type": "code",
      "source": [
        "''' Results '''\n",
        "results_train = model.evaluate(x_train, y_train)\n",
        "results_test = model.evaluate(x_test, y_test)\n",
        "\n",
        "print('train loss: {}, train acc: {}'.format(results_train[0], results_train[1]))\n",
        "print('test loss: {}, test acc: {}'.format(results_test[0], results_test[1]))\n",
        "\n",
        "plt.plot(history.history['loss'])\n",
        "plt.title('Loss plot')\n",
        "plt.xlabel('Epochs')\n",
        "plt.ylabel('Loss')\n",
        "plt.show()"
      ],
      "metadata": {
        "colab": {
          "base_uri": "https://localhost:8080/",
          "height": 364
        },
        "id": "GE4G-4HmU7Dx",
        "outputId": "d4066393-e8bd-4101-ae62-9e0f15f299de"
      },
      "execution_count": null,
      "outputs": [
        {
          "output_type": "stream",
          "name": "stdout",
          "text": [
            "56/56 [==============================] - 0s 4ms/step - loss: 0.0060 - accuracy: 0.7858\n",
            "14/14 [==============================] - 0s 5ms/step - loss: 0.0027 - accuracy: 0.3848\n",
            "train loss: 0.005994534119963646, train acc: 0.785794198513031\n",
            "test loss: 0.002669683424755931, test acc: 0.3847874701023102\n"
          ]
        },
        {
          "output_type": "display_data",
          "data": {
            "text/plain": [
              "<Figure size 432x288 with 1 Axes>"
            ],
            "image/png": "[encoded data removed]"
          },
          "metadata": {
            "needs_background": "light"
          }
        }
      ]
    },
    {
      "cell_type": "code",
      "source": [
        "from keras.layers import GRU\n",
        "%time\n",
        "model = Sequential()\n",
        "model.add(GRU(50, batch_input_shape=(None, 29,12 ), recurrent_dropout=0))\n",
        "model.add(Dropout(0.2))\n",
        "model.add(Dense(2, activation='relu'))\n",
        "model.add(Dropout(0.2))\n",
        "model.compile(loss='mse', optimizer='RMSProp', metrics=[\"accuracy\"])\n",
        "model.summary()"
      ],
      "metadata": {
        "colab": {
          "base_uri": "https://localhost:8080/"
        },
        "id": "2ArbL5r2U8NI",
        "outputId": "c16ad693-0f69-429a-a01e-430e66532091"
      },
      "execution_count": null,
      "outputs": [
        {
          "output_type": "stream",
          "name": "stdout",
          "text": [
            "CPU times: user 3 µs, sys: 0 ns, total: 3 µs\n",
            "Wall time: 5.96 µs\n",
            "Model: \"sequential_10\"\n",
            "_________________________________________________________________\n",
            " Layer (type)                Output Shape              Param #   \n",
            "=================================================================\n",
            " gru_7 (GRU)                 (None, 50)                9600      \n",
            "                                                                 \n",
            " dropout_26 (Dropout)        (None, 50)                0         \n",
            "                                                                 \n",
            " dense_10 (Dense)            (None, 2)                 102       \n",
            "                                                                 \n",
            " dropout_27 (Dropout)        (None, 2)                 0         \n",
            "                                                                 \n",
            "=================================================================\n",
            "Total params: 9,702\n",
            "Trainable params: 9,702\n",
            "Non-trainable params: 0\n",
            "_________________________________________________________________\n"
          ]
        }
      ]
    },
    {
      "cell_type": "code",
      "source": [
        "%time\n",
        "\n",
        "history = model.fit(x_train, y_train, epochs=50, validation_split=0.2, verbose=1, batch_size=12)"
      ],
      "metadata": {
        "colab": {
          "base_uri": "https://localhost:8080/"
        },
        "id": "kTjU1WERWbtm",
        "outputId": "4c398208-450b-4c5c-8e52-c2334c589343"
      },
      "execution_count": null,
      "outputs": [
        {
          "output_type": "stream",
          "name": "stdout",
          "text": [
            "CPU times: user 3 µs, sys: 0 ns, total: 3 µs\n",
            "Wall time: 6.44 µs\n",
            "Epoch 1/50\n",
            "120/120 [==============================] - 3s 14ms/step - loss: 0.0186 - accuracy: 0.6371 - val_loss: 0.0030 - val_accuracy: 0.3492\n",
            "Epoch 2/50\n",
            "120/120 [==============================] - 1s 11ms/step - loss: 0.0157 - accuracy: 0.6147 - val_loss: 0.0031 - val_accuracy: 0.6508\n",
            "Epoch 3/50\n",
            "120/120 [==============================] - 1s 11ms/step - loss: 0.0146 - accuracy: 0.6497 - val_loss: 0.0036 - val_accuracy: 0.3547\n",
            "Epoch 4/50\n",
            "120/120 [==============================] - 1s 11ms/step - loss: 0.0155 - accuracy: 0.6671 - val_loss: 0.0019 - val_accuracy: 0.3492\n",
            "Epoch 5/50\n",
            "120/120 [==============================] - 1s 11ms/step - loss: 0.0155 - accuracy: 0.6580 - val_loss: 0.0013 - val_accuracy: 0.7346\n",
            "Epoch 6/50\n",
            "120/120 [==============================] - 1s 11ms/step - loss: 0.0150 - accuracy: 0.6559 - val_loss: 0.0034 - val_accuracy: 0.5587\n",
            "Epoch 7/50\n",
            "120/120 [==============================] - 1s 11ms/step - loss: 0.0142 - accuracy: 0.6566 - val_loss: 0.0022 - val_accuracy: 0.5559\n",
            "Epoch 8/50\n",
            "120/120 [==============================] - 1s 11ms/step - loss: 0.0142 - accuracy: 0.7007 - val_loss: 0.0025 - val_accuracy: 0.3575\n",
            "Epoch 9/50\n",
            "120/120 [==============================] - 1s 12ms/step - loss: 0.0147 - accuracy: 0.6748 - val_loss: 9.5137e-04 - val_accuracy: 0.3743\n",
            "Epoch 10/50\n",
            "120/120 [==============================] - 1s 11ms/step - loss: 0.0141 - accuracy: 0.6804 - val_loss: 0.0035 - val_accuracy: 0.4860\n",
            "Epoch 11/50\n",
            "120/120 [==============================] - 1s 11ms/step - loss: 0.0137 - accuracy: 0.6650 - val_loss: 9.9764e-04 - val_accuracy: 0.3659\n",
            "Epoch 12/50\n",
            "120/120 [==============================] - 1s 12ms/step - loss: 0.0131 - accuracy: 0.6965 - val_loss: 0.0031 - val_accuracy: 0.6034\n",
            "Epoch 13/50\n",
            "120/120 [==============================] - 1s 11ms/step - loss: 0.0134 - accuracy: 0.6580 - val_loss: 8.9165e-04 - val_accuracy: 0.3911\n",
            "Epoch 14/50\n",
            "120/120 [==============================] - 1s 11ms/step - loss: 0.0141 - accuracy: 0.6741 - val_loss: 0.0028 - val_accuracy: 0.3575\n",
            "Epoch 15/50\n",
            "120/120 [==============================] - 1s 11ms/step - loss: 0.0137 - accuracy: 0.6594 - val_loss: 0.0022 - val_accuracy: 0.6816\n",
            "Epoch 16/50\n",
            "120/120 [==============================] - 1s 11ms/step - loss: 0.0135 - accuracy: 0.6706 - val_loss: 0.0011 - val_accuracy: 0.7207\n",
            "Epoch 17/50\n",
            "120/120 [==============================] - 1s 11ms/step - loss: 0.0132 - accuracy: 0.6867 - val_loss: 0.0028 - val_accuracy: 0.6285\n",
            "Epoch 18/50\n",
            "120/120 [==============================] - 1s 11ms/step - loss: 0.0135 - accuracy: 0.6902 - val_loss: 0.0018 - val_accuracy: 0.5056\n",
            "Epoch 19/50\n",
            "120/120 [==============================] - 1s 11ms/step - loss: 0.0139 - accuracy: 0.6797 - val_loss: 7.6702e-04 - val_accuracy: 0.5642\n",
            "Epoch 20/50\n",
            "120/120 [==============================] - 1s 11ms/step - loss: 0.0135 - accuracy: 0.6846 - val_loss: 0.0018 - val_accuracy: 0.6955\n",
            "Epoch 21/50\n",
            "120/120 [==============================] - 1s 11ms/step - loss: 0.0140 - accuracy: 0.6713 - val_loss: 0.0013 - val_accuracy: 0.3520\n",
            "Epoch 22/50\n",
            "120/120 [==============================] - 1s 12ms/step - loss: 0.0127 - accuracy: 0.6979 - val_loss: 0.0021 - val_accuracy: 0.6676\n",
            "Epoch 23/50\n",
            "120/120 [==============================] - 1s 12ms/step - loss: 0.0133 - accuracy: 0.6867 - val_loss: 7.8764e-04 - val_accuracy: 0.7346\n",
            "Epoch 24/50\n",
            "120/120 [==============================] - 1s 11ms/step - loss: 0.0137 - accuracy: 0.6874 - val_loss: 0.0016 - val_accuracy: 0.3520\n",
            "Epoch 25/50\n",
            "120/120 [==============================] - 1s 11ms/step - loss: 0.0131 - accuracy: 0.6776 - val_loss: 0.0025 - val_accuracy: 0.6788\n",
            "Epoch 26/50\n",
            "120/120 [==============================] - 1s 11ms/step - loss: 0.0127 - accuracy: 0.6923 - val_loss: 9.9877e-04 - val_accuracy: 0.7151\n",
            "Epoch 27/50\n",
            "120/120 [==============================] - 1s 11ms/step - loss: 0.0132 - accuracy: 0.6916 - val_loss: 0.0010 - val_accuracy: 0.3743\n",
            "Epoch 28/50\n",
            "120/120 [==============================] - 1s 11ms/step - loss: 0.0128 - accuracy: 0.6951 - val_loss: 0.0037 - val_accuracy: 0.4637\n",
            "Epoch 29/50\n",
            "120/120 [==============================] - 1s 11ms/step - loss: 0.0130 - accuracy: 0.7035 - val_loss: 9.2935e-04 - val_accuracy: 0.3855\n",
            "Epoch 30/50\n",
            "120/120 [==============================] - 1s 11ms/step - loss: 0.0134 - accuracy: 0.6888 - val_loss: 0.0012 - val_accuracy: 0.3855\n",
            "Epoch 31/50\n",
            "120/120 [==============================] - 1s 11ms/step - loss: 0.0128 - accuracy: 0.6951 - val_loss: 0.0019 - val_accuracy: 0.7039\n",
            "Epoch 32/50\n",
            "120/120 [==============================] - 1s 12ms/step - loss: 0.0135 - accuracy: 0.6909 - val_loss: 0.0012 - val_accuracy: 0.7067\n",
            "Epoch 33/50\n",
            "120/120 [==============================] - 1s 11ms/step - loss: 0.0142 - accuracy: 0.6769 - val_loss: 0.0020 - val_accuracy: 0.6313\n",
            "Epoch 34/50\n",
            "120/120 [==============================] - 1s 11ms/step - loss: 0.0144 - accuracy: 0.6944 - val_loss: 8.5631e-04 - val_accuracy: 0.5084\n",
            "Epoch 35/50\n",
            "120/120 [==============================] - 1s 11ms/step - loss: 0.0139 - accuracy: 0.6776 - val_loss: 0.0026 - val_accuracy: 0.6648\n",
            "Epoch 36/50\n",
            "120/120 [==============================] - 1s 11ms/step - loss: 0.0132 - accuracy: 0.6951 - val_loss: 0.0017 - val_accuracy: 0.3520\n",
            "Epoch 37/50\n",
            "120/120 [==============================] - 1s 11ms/step - loss: 0.0132 - accuracy: 0.6958 - val_loss: 0.0022 - val_accuracy: 0.4246\n",
            "Epoch 38/50\n",
            "120/120 [==============================] - 1s 12ms/step - loss: 0.0139 - accuracy: 0.6923 - val_loss: 0.0012 - val_accuracy: 0.5196\n",
            "Epoch 39/50\n",
            "120/120 [==============================] - 1s 11ms/step - loss: 0.0144 - accuracy: 0.6664 - val_loss: 0.0019 - val_accuracy: 0.6285\n",
            "Epoch 40/50\n",
            "120/120 [==============================] - 1s 11ms/step - loss: 0.0143 - accuracy: 0.6727 - val_loss: 0.0018 - val_accuracy: 0.6425\n",
            "Epoch 41/50\n",
            "120/120 [==============================] - 1s 11ms/step - loss: 0.0143 - accuracy: 0.6755 - val_loss: 0.0011 - val_accuracy: 0.6955\n",
            "Epoch 42/50\n",
            "120/120 [==============================] - 1s 11ms/step - loss: 0.0137 - accuracy: 0.6923 - val_loss: 8.0761e-04 - val_accuracy: 0.4218\n",
            "Epoch 43/50\n",
            "120/120 [==============================] - 1s 11ms/step - loss: 0.0131 - accuracy: 0.7028 - val_loss: 7.8557e-04 - val_accuracy: 0.5726\n",
            "Epoch 44/50\n",
            "120/120 [==============================] - 1s 11ms/step - loss: 0.0133 - accuracy: 0.7035 - val_loss: 0.0013 - val_accuracy: 0.3855\n",
            "Epoch 45/50\n",
            "120/120 [==============================] - 1s 11ms/step - loss: 0.0136 - accuracy: 0.6888 - val_loss: 0.0019 - val_accuracy: 0.3631\n",
            "Epoch 46/50\n",
            "120/120 [==============================] - 1s 12ms/step - loss: 0.0133 - accuracy: 0.7028 - val_loss: 0.0014 - val_accuracy: 0.3855\n",
            "Epoch 47/50\n",
            "120/120 [==============================] - 1s 11ms/step - loss: 0.0132 - accuracy: 0.6944 - val_loss: 8.9394e-04 - val_accuracy: 0.4804\n",
            "Epoch 48/50\n",
            "120/120 [==============================] - 1s 11ms/step - loss: 0.0131 - accuracy: 0.6818 - val_loss: 9.4888e-04 - val_accuracy: 0.4050\n",
            "Epoch 49/50\n",
            "120/120 [==============================] - 1s 11ms/step - loss: 0.0135 - accuracy: 0.6930 - val_loss: 0.0015 - val_accuracy: 0.4693\n",
            "Epoch 50/50\n",
            "120/120 [==============================] - 1s 11ms/step - loss: 0.0136 - accuracy: 0.6923 - val_loss: 8.5969e-04 - val_accuracy: 0.4665\n"
          ]
        }
      ]
    },
    {
      "cell_type": "code",
      "source": [
        "\n",
        "results_train = model.evaluate(x_train, y_train)\n",
        "results_test = model.evaluate(x_test, y_test)\n",
        "\n",
        "print('train loss: {}, train acc: {}'.format(results_train[0], results_train[1]))\n",
        "print('test loss: {}, test acc: {}'.format(results_test[0], results_test[1]))\n",
        "\n",
        "plt.plot(history.history['loss'])\n",
        "plt.title('Loss plot')\n",
        "plt.xlabel('Epochs')\n",
        "plt.ylabel('Loss')\n",
        "plt.show()"
      ],
      "metadata": {
        "colab": {
          "base_uri": "https://localhost:8080/",
          "height": 364
        },
        "id": "odNSDVsfVB-x",
        "outputId": "24bebadd-59ea-4b4d-a979-760028a7afa9"
      },
      "execution_count": null,
      "outputs": [
        {
          "output_type": "stream",
          "name": "stdout",
          "text": [
            "56/56 [==============================] - 0s 4ms/step - loss: 0.0059 - accuracy: 0.7355\n",
            "14/14 [==============================] - 0s 3ms/step - loss: 0.0023 - accuracy: 0.3043\n",
            "train loss: 0.00586219085380435, train acc: 0.7354586124420166\n",
            "test loss: 0.002308389637619257, test acc: 0.304250568151474\n"
          ]
        },
        {
          "output_type": "display_data",
          "data": {
            "text/plain": [
              "<Figure size 432x288 with 1 Axes>"
            ],
            "image/png": "[encoded data removed]"
          },
          "metadata": {
            "needs_background": "light"
          }
        }
      ]
    },
    {
      "cell_type": "code",
      "source": [
        "%time\n",
        "model = Sequential()\n",
        "model.add(SimpleRNN(units=50, input_shape=x_train.shape[1:], activation=\"relu\", recurrent_dropout=0.0))\n",
        "model.add(Dense(2, activation='relu'))\n",
        "model.compile(optimizer = 'ADAgrad',loss = 'mse',metrics = [\"accuracy\"])\n",
        "model.summary()"
      ],
      "metadata": {
        "colab": {
          "base_uri": "https://localhost:8080/"
        },
        "id": "VMnracRKW2dd",
        "outputId": "098c394b-0aed-470f-924d-2ed15518a497"
      },
      "execution_count": null,
      "outputs": [
        {
          "output_type": "stream",
          "name": "stdout",
          "text": [
            "CPU times: user 2 µs, sys: 0 ns, total: 2 µs\n",
            "Wall time: 6.2 µs\n",
            "Model: \"sequential_13\"\n",
            "_________________________________________________________________\n",
            " Layer (type)                Output Shape              Param #   \n",
            "=================================================================\n",
            " simple_rnn (SimpleRNN)      (None, 50)                3150      \n",
            "                                                                 \n",
            " dense_11 (Dense)            (None, 2)                 102       \n",
            "                                                                 \n",
            "=================================================================\n",
            "Total params: 3,252\n",
            "Trainable params: 3,252\n",
            "Non-trainable params: 0\n",
            "_________________________________________________________________\n"
          ]
        }
      ]
    },
    {
      "cell_type": "code",
      "source": [
        "%time\n",
        "\n",
        "history = model.fit(x_train, y_train, epochs=50, validation_split=0.2, verbose=1, batch_size=12 )"
      ],
      "metadata": {
        "colab": {
          "base_uri": "https://localhost:8080/"
        },
        "id": "CjOCn6y_XOVH",
        "outputId": "e875f24b-0126-4324-866d-8dbe2d21ab22"
      },
      "execution_count": null,
      "outputs": [
        {
          "output_type": "stream",
          "name": "stdout",
          "text": [
            "CPU times: user 2 µs, sys: 0 ns, total: 2 µs\n",
            "Wall time: 6.68 µs\n",
            "Epoch 1/50\n",
            "120/120 [==============================] - 1s 7ms/step - loss: 0.0329 - accuracy: 0.7049 - val_loss: 0.0447 - val_accuracy: 0.3492\n",
            "Epoch 2/50\n",
            "120/120 [==============================] - 1s 6ms/step - loss: 0.0203 - accuracy: 0.6559 - val_loss: 0.0267 - val_accuracy: 0.3492\n",
            "Epoch 3/50\n",
            "120/120 [==============================] - 1s 5ms/step - loss: 0.0160 - accuracy: 0.6378 - val_loss: 0.0159 - val_accuracy: 0.3492\n",
            "Epoch 4/50\n",
            "120/120 [==============================] - 1s 5ms/step - loss: 0.0135 - accuracy: 0.6399 - val_loss: 0.0108 - val_accuracy: 0.3492\n",
            "Epoch 5/50\n",
            "120/120 [==============================] - 1s 5ms/step - loss: 0.0118 - accuracy: 0.6469 - val_loss: 0.0079 - val_accuracy: 0.3492\n",
            "Epoch 6/50\n",
            "120/120 [==============================] - 1s 5ms/step - loss: 0.0107 - accuracy: 0.6503 - val_loss: 0.0064 - val_accuracy: 0.3492\n",
            "Epoch 7/50\n",
            "120/120 [==============================] - 1s 6ms/step - loss: 0.0100 - accuracy: 0.6580 - val_loss: 0.0056 - val_accuracy: 0.3492\n",
            "Epoch 8/50\n",
            "120/120 [==============================] - 1s 6ms/step - loss: 0.0095 - accuracy: 0.6629 - val_loss: 0.0046 - val_accuracy: 0.3492\n",
            "Epoch 9/50\n",
            "120/120 [==============================] - 1s 5ms/step - loss: 0.0092 - accuracy: 0.6629 - val_loss: 0.0038 - val_accuracy: 0.3492\n",
            "Epoch 10/50\n",
            "120/120 [==============================] - 1s 5ms/step - loss: 0.0089 - accuracy: 0.6678 - val_loss: 0.0036 - val_accuracy: 0.3492\n",
            "Epoch 11/50\n",
            "120/120 [==============================] - 1s 5ms/step - loss: 0.0088 - accuracy: 0.6741 - val_loss: 0.0034 - val_accuracy: 0.3464\n",
            "Epoch 12/50\n",
            "120/120 [==============================] - 1s 6ms/step - loss: 0.0086 - accuracy: 0.6818 - val_loss: 0.0031 - val_accuracy: 0.3464\n",
            "Epoch 13/50\n",
            "120/120 [==============================] - 1s 6ms/step - loss: 0.0085 - accuracy: 0.6846 - val_loss: 0.0027 - val_accuracy: 0.3464\n",
            "Epoch 14/50\n",
            "120/120 [==============================] - 1s 5ms/step - loss: 0.0084 - accuracy: 0.6909 - val_loss: 0.0026 - val_accuracy: 0.3464\n",
            "Epoch 15/50\n",
            "120/120 [==============================] - 1s 5ms/step - loss: 0.0084 - accuracy: 0.6902 - val_loss: 0.0026 - val_accuracy: 0.3492\n",
            "Epoch 16/50\n",
            "120/120 [==============================] - 1s 5ms/step - loss: 0.0083 - accuracy: 0.6902 - val_loss: 0.0025 - val_accuracy: 0.3492\n",
            "Epoch 17/50\n",
            "120/120 [==============================] - 1s 5ms/step - loss: 0.0082 - accuracy: 0.6979 - val_loss: 0.0025 - val_accuracy: 0.3520\n",
            "Epoch 18/50\n",
            "120/120 [==============================] - 1s 5ms/step - loss: 0.0081 - accuracy: 0.6937 - val_loss: 0.0024 - val_accuracy: 0.3547\n",
            "Epoch 19/50\n",
            "120/120 [==============================] - 1s 5ms/step - loss: 0.0081 - accuracy: 0.6979 - val_loss: 0.0027 - val_accuracy: 0.3575\n",
            "Epoch 20/50\n",
            "120/120 [==============================] - 1s 6ms/step - loss: 0.0081 - accuracy: 0.6965 - val_loss: 0.0023 - val_accuracy: 0.3799\n",
            "Epoch 21/50\n",
            "120/120 [==============================] - 1s 6ms/step - loss: 0.0080 - accuracy: 0.7007 - val_loss: 0.0022 - val_accuracy: 0.3771\n",
            "Epoch 22/50\n",
            "120/120 [==============================] - 1s 5ms/step - loss: 0.0080 - accuracy: 0.7070 - val_loss: 0.0019 - val_accuracy: 0.3911\n",
            "Epoch 23/50\n",
            "120/120 [==============================] - 1s 5ms/step - loss: 0.0079 - accuracy: 0.7035 - val_loss: 0.0020 - val_accuracy: 0.4078\n",
            "Epoch 24/50\n",
            "120/120 [==============================] - 1s 6ms/step - loss: 0.0079 - accuracy: 0.7084 - val_loss: 0.0019 - val_accuracy: 0.4441\n",
            "Epoch 25/50\n",
            "120/120 [==============================] - 1s 5ms/step - loss: 0.0078 - accuracy: 0.7014 - val_loss: 0.0017 - val_accuracy: 0.4581\n",
            "Epoch 26/50\n",
            "120/120 [==============================] - 1s 5ms/step - loss: 0.0078 - accuracy: 0.7091 - val_loss: 0.0017 - val_accuracy: 0.4777\n",
            "Epoch 27/50\n",
            "120/120 [==============================] - 1s 6ms/step - loss: 0.0078 - accuracy: 0.7000 - val_loss: 0.0015 - val_accuracy: 0.4916\n",
            "Epoch 28/50\n",
            "120/120 [==============================] - 1s 6ms/step - loss: 0.0077 - accuracy: 0.7091 - val_loss: 0.0016 - val_accuracy: 0.5196\n",
            "Epoch 29/50\n",
            "120/120 [==============================] - 1s 6ms/step - loss: 0.0077 - accuracy: 0.7035 - val_loss: 0.0016 - val_accuracy: 0.5223\n",
            "Epoch 30/50\n",
            "120/120 [==============================] - 1s 5ms/step - loss: 0.0077 - accuracy: 0.7084 - val_loss: 0.0016 - val_accuracy: 0.5307\n",
            "Epoch 31/50\n",
            "120/120 [==============================] - 1s 5ms/step - loss: 0.0076 - accuracy: 0.7070 - val_loss: 0.0015 - val_accuracy: 0.5447\n",
            "Epoch 32/50\n",
            "120/120 [==============================] - 1s 5ms/step - loss: 0.0076 - accuracy: 0.7091 - val_loss: 0.0015 - val_accuracy: 0.5726\n",
            "Epoch 33/50\n",
            "120/120 [==============================] - 1s 5ms/step - loss: 0.0076 - accuracy: 0.7070 - val_loss: 0.0014 - val_accuracy: 0.5866\n",
            "Epoch 34/50\n",
            "120/120 [==============================] - 1s 5ms/step - loss: 0.0076 - accuracy: 0.7063 - val_loss: 0.0014 - val_accuracy: 0.5950\n",
            "Epoch 35/50\n",
            "120/120 [==============================] - 1s 5ms/step - loss: 0.0075 - accuracy: 0.7084 - val_loss: 0.0013 - val_accuracy: 0.6006\n",
            "Epoch 36/50\n",
            "120/120 [==============================] - 1s 5ms/step - loss: 0.0075 - accuracy: 0.7126 - val_loss: 0.0013 - val_accuracy: 0.5922\n",
            "Epoch 37/50\n",
            "120/120 [==============================] - 1s 5ms/step - loss: 0.0075 - accuracy: 0.7112 - val_loss: 0.0013 - val_accuracy: 0.6061\n",
            "Epoch 38/50\n",
            "120/120 [==============================] - 1s 5ms/step - loss: 0.0075 - accuracy: 0.7105 - val_loss: 0.0013 - val_accuracy: 0.6145\n",
            "Epoch 39/50\n",
            "120/120 [==============================] - 1s 5ms/step - loss: 0.0075 - accuracy: 0.7098 - val_loss: 0.0013 - val_accuracy: 0.6145\n",
            "Epoch 40/50\n",
            "120/120 [==============================] - 1s 5ms/step - loss: 0.0074 - accuracy: 0.7147 - val_loss: 0.0013 - val_accuracy: 0.6145\n",
            "Epoch 41/50\n",
            "120/120 [==============================] - 1s 6ms/step - loss: 0.0074 - accuracy: 0.7140 - val_loss: 0.0012 - val_accuracy: 0.6145\n",
            "Epoch 42/50\n",
            "120/120 [==============================] - 1s 5ms/step - loss: 0.0074 - accuracy: 0.7168 - val_loss: 0.0013 - val_accuracy: 0.6285\n",
            "Epoch 43/50\n",
            "120/120 [==============================] - 1s 5ms/step - loss: 0.0074 - accuracy: 0.7154 - val_loss: 0.0013 - val_accuracy: 0.6341\n",
            "Epoch 44/50\n",
            "120/120 [==============================] - 1s 6ms/step - loss: 0.0074 - accuracy: 0.7175 - val_loss: 0.0013 - val_accuracy: 0.6285\n",
            "Epoch 45/50\n",
            "120/120 [==============================] - 1s 5ms/step - loss: 0.0073 - accuracy: 0.7154 - val_loss: 0.0013 - val_accuracy: 0.6369\n",
            "Epoch 46/50\n",
            "120/120 [==============================] - 1s 5ms/step - loss: 0.0073 - accuracy: 0.7210 - val_loss: 0.0013 - val_accuracy: 0.6425\n",
            "Epoch 47/50\n",
            "120/120 [==============================] - 1s 5ms/step - loss: 0.0073 - accuracy: 0.7217 - val_loss: 0.0012 - val_accuracy: 0.6341\n",
            "Epoch 48/50\n",
            "120/120 [==============================] - 1s 5ms/step - loss: 0.0073 - accuracy: 0.7196 - val_loss: 0.0012 - val_accuracy: 0.6397\n",
            "Epoch 49/50\n",
            "120/120 [==============================] - 1s 5ms/step - loss: 0.0073 - accuracy: 0.7210 - val_loss: 0.0013 - val_accuracy: 0.6425\n",
            "Epoch 50/50\n",
            "120/120 [==============================] - 1s 5ms/step - loss: 0.0073 - accuracy: 0.7245 - val_loss: 0.0012 - val_accuracy: 0.6425\n"
          ]
        }
      ]
    },
    {
      "cell_type": "code",
      "source": [
        "''' Results '''\n",
        "results_train = model.evaluate(x_train, y_train)\n",
        "results_test = model.evaluate(x_test, y_test)\n",
        "\n",
        "print('train loss: {}, train acc: {}'.format(results_train[0], results_train[1]))\n",
        "print('test loss: {}, test acc: {}'.format(results_test[0], results_test[1]))\n",
        "\n",
        "plt.plot(history.history['loss'])\n",
        "plt.title('Loss plot')\n",
        "plt.xlabel('Epochs')\n",
        "plt.ylabel('Loss')\n",
        "plt.show()"
      ],
      "metadata": {
        "colab": {
          "base_uri": "https://localhost:8080/",
          "height": 364
        },
        "id": "CI0iTFaHXe3v",
        "outputId": "196079cc-2ba9-47a1-bffe-d3d99966c889"
      },
      "execution_count": null,
      "outputs": [
        {
          "output_type": "stream",
          "name": "stdout",
          "text": [
            "56/56 [==============================] - 0s 3ms/step - loss: 0.0060 - accuracy: 0.7053\n",
            "14/14 [==============================] - 0s 2ms/step - loss: 8.8480e-04 - accuracy: 0.7226\n",
            "train loss: 0.00602754857391119, train acc: 0.7052572965621948\n",
            "test loss: 0.0008848017896525562, test acc: 0.7225950956344604\n"
          ]
        },
        {
          "output_type": "display_data",
          "data": {
            "text/plain": [
              "<Figure size 432x288 with 1 Axes>"
            ],
            "image/png": "[encoded data removed]"
          },
          "metadata": {
            "needs_background": "light"
          }
        }
      ]
    },
    {
      "cell_type": "code",
      "source": [
        "%time\n",
        "model = Sequential()\n",
        "model.add(SimpleRNN(units=50, input_shape=x_train.shape[1:], activation=\"relu\", recurrent_dropout=0.0))\n",
        "model.add(Dense(2, activation='relu'))\n",
        "model.compile(optimizer = 'RMSProp',loss = 'mse',metrics = [\"accuracy\"])\n",
        "model.summary()"
      ],
      "metadata": {
        "colab": {
          "base_uri": "https://localhost:8080/"
        },
        "id": "xt1KclpfYJCZ",
        "outputId": "b6d3061f-3256-4428-d2eb-cfe1bbb59960"
      },
      "execution_count": null,
      "outputs": [
        {
          "output_type": "stream",
          "name": "stdout",
          "text": [
            "CPU times: user 3 µs, sys: 0 ns, total: 3 µs\n",
            "Wall time: 6.91 µs\n",
            "Model: \"sequential_14\"\n",
            "_________________________________________________________________\n",
            " Layer (type)                Output Shape              Param #   \n",
            "=================================================================\n",
            " simple_rnn_1 (SimpleRNN)    (None, 50)                3150      \n",
            "                                                                 \n",
            " dense_12 (Dense)            (None, 2)                 102       \n",
            "                                                                 \n",
            "=================================================================\n",
            "Total params: 3,252\n",
            "Trainable params: 3,252\n",
            "Non-trainable params: 0\n",
            "_________________________________________________________________\n"
          ]
        }
      ]
    },
    {
      "cell_type": "code",
      "source": [
        "%time\n",
        "\n",
        "history = model.fit(x_train, y_train, epochs=50, validation_split=0.2, verbose=1, batch_size=12 )"
      ],
      "metadata": {
        "colab": {
          "base_uri": "https://localhost:8080/"
        },
        "id": "lXD73jckYSec",
        "outputId": "df36b4d6-02a9-479c-b6c7-6d9c972a9fdf"
      },
      "execution_count": null,
      "outputs": [
        {
          "output_type": "stream",
          "name": "stdout",
          "text": [
            "CPU times: user 3 µs, sys: 0 ns, total: 3 µs\n",
            "Wall time: 6.44 µs\n",
            "Epoch 1/50\n",
            "120/120 [==============================] - 2s 7ms/step - loss: 0.0316 - accuracy: 0.2378 - val_loss: 0.0026 - val_accuracy: 0.6508\n",
            "Epoch 2/50\n",
            "120/120 [==============================] - 1s 6ms/step - loss: 0.0311 - accuracy: 0.2385 - val_loss: 0.0026 - val_accuracy: 0.6508\n",
            "Epoch 3/50\n",
            "120/120 [==============================] - 1s 6ms/step - loss: 0.0310 - accuracy: 0.2378 - val_loss: 0.0035 - val_accuracy: 0.5223\n",
            "Epoch 4/50\n",
            "120/120 [==============================] - 1s 5ms/step - loss: 0.0309 - accuracy: 0.2378 - val_loss: 0.0031 - val_accuracy: 0.5922\n",
            "Epoch 5/50\n",
            "120/120 [==============================] - 1s 6ms/step - loss: 0.0119 - accuracy: 0.6266 - val_loss: 0.0011 - val_accuracy: 0.3687\n",
            "Epoch 6/50\n",
            "120/120 [==============================] - 1s 6ms/step - loss: 0.0060 - accuracy: 0.7573 - val_loss: 7.7003e-04 - val_accuracy: 0.6983\n",
            "Epoch 7/50\n",
            "120/120 [==============================] - 1s 5ms/step - loss: 0.0058 - accuracy: 0.7755 - val_loss: 0.0011 - val_accuracy: 0.3743\n",
            "Epoch 8/50\n",
            "120/120 [==============================] - 1s 5ms/step - loss: 0.0057 - accuracy: 0.7748 - val_loss: 0.0019 - val_accuracy: 0.3547\n",
            "Epoch 9/50\n",
            "120/120 [==============================] - 1s 6ms/step - loss: 0.0057 - accuracy: 0.7832 - val_loss: 0.0034 - val_accuracy: 0.3520\n",
            "Epoch 10/50\n",
            "120/120 [==============================] - 1s 5ms/step - loss: 0.0057 - accuracy: 0.7734 - val_loss: 0.0030 - val_accuracy: 0.3547\n",
            "Epoch 11/50\n",
            "120/120 [==============================] - 1s 6ms/step - loss: 0.0056 - accuracy: 0.7804 - val_loss: 0.0020 - val_accuracy: 0.6369\n",
            "Epoch 12/50\n",
            "120/120 [==============================] - 1s 6ms/step - loss: 0.0056 - accuracy: 0.7755 - val_loss: 7.9769e-04 - val_accuracy: 0.7235\n",
            "Epoch 13/50\n",
            "120/120 [==============================] - 1s 5ms/step - loss: 0.0055 - accuracy: 0.7832 - val_loss: 8.0329e-04 - val_accuracy: 0.7123\n",
            "Epoch 14/50\n",
            "120/120 [==============================] - 1s 5ms/step - loss: 0.0055 - accuracy: 0.7804 - val_loss: 7.3297e-04 - val_accuracy: 0.7067\n",
            "Epoch 15/50\n",
            "120/120 [==============================] - 1s 5ms/step - loss: 0.0055 - accuracy: 0.7713 - val_loss: 0.0059 - val_accuracy: 0.3771\n",
            "Epoch 16/50\n",
            "120/120 [==============================] - 1s 5ms/step - loss: 0.0054 - accuracy: 0.7853 - val_loss: 0.0015 - val_accuracy: 0.3547\n",
            "Epoch 17/50\n",
            "120/120 [==============================] - 1s 6ms/step - loss: 0.0054 - accuracy: 0.7909 - val_loss: 0.0011 - val_accuracy: 0.6788\n",
            "Epoch 18/50\n",
            "120/120 [==============================] - 1s 5ms/step - loss: 0.0054 - accuracy: 0.7874 - val_loss: 0.0020 - val_accuracy: 0.6648\n",
            "Epoch 19/50\n",
            "120/120 [==============================] - 1s 5ms/step - loss: 0.0054 - accuracy: 0.7804 - val_loss: 0.0013 - val_accuracy: 0.3771\n",
            "Epoch 20/50\n",
            "120/120 [==============================] - 1s 5ms/step - loss: 0.0053 - accuracy: 0.7909 - val_loss: 8.0459e-04 - val_accuracy: 0.4553\n",
            "Epoch 21/50\n",
            "120/120 [==============================] - 1s 5ms/step - loss: 0.0054 - accuracy: 0.7860 - val_loss: 0.0020 - val_accuracy: 0.3631\n",
            "Epoch 22/50\n",
            "120/120 [==============================] - 1s 6ms/step - loss: 0.0053 - accuracy: 0.7902 - val_loss: 0.0014 - val_accuracy: 0.3631\n",
            "Epoch 23/50\n",
            "120/120 [==============================] - 1s 5ms/step - loss: 0.0053 - accuracy: 0.7769 - val_loss: 0.0016 - val_accuracy: 0.3547\n",
            "Epoch 24/50\n",
            "120/120 [==============================] - 1s 6ms/step - loss: 0.0052 - accuracy: 0.7769 - val_loss: 0.0014 - val_accuracy: 0.3771\n",
            "Epoch 25/50\n",
            "120/120 [==============================] - 1s 6ms/step - loss: 0.0053 - accuracy: 0.7923 - val_loss: 0.0011 - val_accuracy: 0.6201\n",
            "Epoch 26/50\n",
            "120/120 [==============================] - 1s 6ms/step - loss: 0.0052 - accuracy: 0.7699 - val_loss: 9.6553e-04 - val_accuracy: 0.4609\n",
            "Epoch 27/50\n",
            "120/120 [==============================] - 1s 6ms/step - loss: 0.0052 - accuracy: 0.7783 - val_loss: 0.0037 - val_accuracy: 0.6704\n",
            "Epoch 28/50\n",
            "120/120 [==============================] - 1s 6ms/step - loss: 0.0052 - accuracy: 0.7853 - val_loss: 0.0012 - val_accuracy: 0.4134\n",
            "Epoch 29/50\n",
            "120/120 [==============================] - 1s 6ms/step - loss: 0.0052 - accuracy: 0.7804 - val_loss: 9.6671e-04 - val_accuracy: 0.7123\n",
            "Epoch 30/50\n",
            "120/120 [==============================] - 1s 5ms/step - loss: 0.0052 - accuracy: 0.8042 - val_loss: 0.0017 - val_accuracy: 0.3939\n",
            "Epoch 31/50\n",
            "120/120 [==============================] - 1s 5ms/step - loss: 0.0051 - accuracy: 0.7762 - val_loss: 9.4442e-04 - val_accuracy: 0.7346\n",
            "Epoch 32/50\n",
            "120/120 [==============================] - 1s 5ms/step - loss: 0.0051 - accuracy: 0.7839 - val_loss: 0.0010 - val_accuracy: 0.3911\n",
            "Epoch 33/50\n",
            "120/120 [==============================] - 1s 6ms/step - loss: 0.0050 - accuracy: 0.7930 - val_loss: 9.3268e-04 - val_accuracy: 0.4218\n",
            "Epoch 34/50\n",
            "120/120 [==============================] - 1s 6ms/step - loss: 0.0051 - accuracy: 0.7790 - val_loss: 0.0019 - val_accuracy: 0.3547\n",
            "Epoch 35/50\n",
            "120/120 [==============================] - 1s 6ms/step - loss: 0.0050 - accuracy: 0.7909 - val_loss: 8.8615e-04 - val_accuracy: 0.7039\n",
            "Epoch 36/50\n",
            "120/120 [==============================] - 1s 6ms/step - loss: 0.0049 - accuracy: 0.7874 - val_loss: 0.0012 - val_accuracy: 0.4330\n",
            "Epoch 37/50\n",
            "120/120 [==============================] - 1s 6ms/step - loss: 0.0050 - accuracy: 0.7895 - val_loss: 7.5959e-04 - val_accuracy: 0.6508\n",
            "Epoch 38/50\n",
            "120/120 [==============================] - 1s 5ms/step - loss: 0.0048 - accuracy: 0.7748 - val_loss: 7.4092e-04 - val_accuracy: 0.7374\n",
            "Epoch 39/50\n",
            "120/120 [==============================] - 1s 5ms/step - loss: 0.0049 - accuracy: 0.7727 - val_loss: 7.8912e-04 - val_accuracy: 0.7430\n",
            "Epoch 40/50\n",
            "120/120 [==============================] - 1s 6ms/step - loss: 0.0048 - accuracy: 0.7811 - val_loss: 0.0015 - val_accuracy: 0.3994\n",
            "Epoch 41/50\n",
            "120/120 [==============================] - 1s 6ms/step - loss: 0.0048 - accuracy: 0.7895 - val_loss: 0.0014 - val_accuracy: 0.4078\n",
            "Epoch 42/50\n",
            "120/120 [==============================] - 1s 6ms/step - loss: 0.0048 - accuracy: 0.7846 - val_loss: 0.0012 - val_accuracy: 0.4553\n",
            "Epoch 43/50\n",
            "120/120 [==============================] - 1s 6ms/step - loss: 0.0047 - accuracy: 0.7839 - val_loss: 0.0011 - val_accuracy: 0.6844\n",
            "Epoch 44/50\n",
            "120/120 [==============================] - 1s 6ms/step - loss: 0.0047 - accuracy: 0.7818 - val_loss: 0.0039 - val_accuracy: 0.6648\n",
            "Epoch 45/50\n",
            "120/120 [==============================] - 1s 5ms/step - loss: 0.0047 - accuracy: 0.7895 - val_loss: 0.0017 - val_accuracy: 0.6676\n",
            "Epoch 46/50\n",
            "120/120 [==============================] - 1s 5ms/step - loss: 0.0047 - accuracy: 0.7902 - val_loss: 0.0010 - val_accuracy: 0.7011\n",
            "Epoch 47/50\n",
            "120/120 [==============================] - 1s 5ms/step - loss: 0.0046 - accuracy: 0.7930 - val_loss: 0.0013 - val_accuracy: 0.7095\n",
            "Epoch 48/50\n",
            "120/120 [==============================] - 1s 5ms/step - loss: 0.0046 - accuracy: 0.7874 - val_loss: 8.7607e-04 - val_accuracy: 0.5363\n",
            "Epoch 49/50\n",
            "120/120 [==============================] - 1s 6ms/step - loss: 0.0046 - accuracy: 0.7916 - val_loss: 9.4937e-04 - val_accuracy: 0.7095\n",
            "Epoch 50/50\n",
            "120/120 [==============================] - 1s 5ms/step - loss: 0.0046 - accuracy: 0.7748 - val_loss: 0.0012 - val_accuracy: 0.7151\n"
          ]
        }
      ]
    },
    {
      "cell_type": "code",
      "source": [
        "''' Results '''\n",
        "results_train = model.evaluate(x_train, y_train)\n",
        "results_test = model.evaluate(x_test, y_test)\n",
        "\n",
        "print('train loss: {}, train acc: {}'.format(results_train[0], results_train[1]))\n",
        "print('test loss: {}, test acc: {}'.format(results_test[0], results_test[1]))\n",
        "\n",
        "plt.plot(history.history['loss'])\n",
        "plt.title('Loss plot')\n",
        "plt.xlabel('Epochs')\n",
        "plt.ylabel('Loss')\n",
        "plt.show()"
      ],
      "metadata": {
        "colab": {
          "base_uri": "https://localhost:8080/",
          "height": 364
        },
        "id": "CZlqYGknYSiJ",
        "outputId": "0d7b1143-0d28-4901-a7c4-1b96fdaa555d"
      },
      "execution_count": null,
      "outputs": [
        {
          "output_type": "stream",
          "name": "stdout",
          "text": [
            "56/56 [==============================] - 0s 2ms/step - loss: 0.0039 - accuracy: 0.7657\n",
            "14/14 [==============================] - 0s 3ms/step - loss: 0.0014 - accuracy: 0.7383\n",
            "train loss: 0.003909829072654247, train acc: 0.7656599283218384\n",
            "test loss: 0.0014193974202498794, test acc: 0.7382550239562988\n"
          ]
        },
        {
          "output_type": "display_data",
          "data": {
            "text/plain": [
              "<Figure size 432x288 with 1 Axes>"
            ],
            "image/png": "[encoded data removed]"
          },
          "metadata": {
            "needs_background": "light"
          }
        }
      ]
    },
    {
      "cell_type": "markdown",
      "source": [
        "ppart4"
      ],
      "metadata": {
        "id": "VkfxdZv25-mB"
      }
    },
    {
      "cell_type": "code",
      "source": [
        "model = Sequential()\n",
        "model.add(LSTM(units=50, return_sequences=True, input_shape=(x_train.shape[1],12)))\n",
        "\n",
        "model.add(LSTM(units = 50,return_sequences = True))\n",
        "\n",
        "model.add(LSTM(units = 50,return_sequences = True))\n",
        "\n",
        "model.add(LSTM(units = 50))\n",
        "model.add(Dense(units = 2))\n",
        "model.compile(optimizer = 'adam',loss = 'mse',metrics = [\"accuracy\"])"
      ],
      "metadata": {
        "id": "rxTN-WtTYZ52"
      },
      "execution_count": 30,
      "outputs": []
    },
    {
      "cell_type": "code",
      "source": [
        "%time\n",
        "model.fit(x_train,y_train,epochs = 50, batch_size = 32)"
      ],
      "metadata": {
        "colab": {
          "base_uri": "https://localhost:8080/"
        },
        "id": "9ZH_wyaR7cDc",
        "outputId": "7678a5fd-b90d-4eb2-b5ba-b89f451a2325"
      },
      "execution_count": 31,
      "outputs": [
        {
          "output_type": "stream",
          "name": "stdout",
          "text": [
            "CPU times: user 4 µs, sys: 0 ns, total: 4 µs\n",
            "Wall time: 8.58 µs\n",
            "Epoch 1/50\n",
            "56/56 [==============================] - 12s 61ms/step - loss: 49367.0586 - accuracy: 0.3686\n",
            "Epoch 2/50\n",
            "56/56 [==============================] - 3s 61ms/step - loss: 76929.0859 - accuracy: 0.5151\n",
            "Epoch 3/50\n",
            "56/56 [==============================] - 5s 83ms/step - loss: 87473.9062 - accuracy: 0.5503\n",
            "Epoch 4/50\n",
            "56/56 [==============================] - 3s 60ms/step - loss: 98391.1016 - accuracy: 0.5822\n",
            "Epoch 5/50\n",
            "56/56 [==============================] - 3s 60ms/step - loss: 44165.4062 - accuracy: 0.4525\n",
            "Epoch 6/50\n",
            "56/56 [==============================] - 3s 60ms/step - loss: 150497.6719 - accuracy: 0.6376\n",
            "Epoch 7/50\n",
            "56/56 [==============================] - 3s 60ms/step - loss: 17571.7539 - accuracy: 0.4457\n",
            "Epoch 8/50\n",
            "56/56 [==============================] - 3s 61ms/step - loss: 41312.7422 - accuracy: 0.5358\n",
            "Epoch 9/50\n",
            "56/56 [==============================] - 4s 74ms/step - loss: 24463.4453 - accuracy: 0.3205\n",
            "Epoch 10/50\n",
            "56/56 [==============================] - 3s 62ms/step - loss: 6693.8081 - accuracy: 0.3747\n",
            "Epoch 11/50\n",
            "56/56 [==============================] - 3s 60ms/step - loss: 22686.6250 - accuracy: 0.5615\n",
            "Epoch 12/50\n",
            "56/56 [==============================] - 3s 60ms/step - loss: 8875.9717 - accuracy: 0.3205\n",
            "Epoch 13/50\n",
            "56/56 [==============================] - 3s 61ms/step - loss: 15922.2998 - accuracy: 0.3686\n",
            "Epoch 14/50\n",
            "56/56 [==============================] - 3s 61ms/step - loss: 8919.3076 - accuracy: 0.3205\n",
            "Epoch 15/50\n",
            "56/56 [==============================] - 3s 60ms/step - loss: 13576.2510 - accuracy: 0.3205\n",
            "Epoch 16/50\n",
            "56/56 [==============================] - 3s 61ms/step - loss: 9697.2100 - accuracy: 0.3205\n",
            "Epoch 17/50\n",
            "56/56 [==============================] - 3s 61ms/step - loss: 10601.5752 - accuracy: 0.3205\n",
            "Epoch 18/50\n",
            "56/56 [==============================] - 3s 62ms/step - loss: 9003.7168 - accuracy: 0.3205\n",
            "Epoch 19/50\n",
            "56/56 [==============================] - 3s 61ms/step - loss: 10840.8438 - accuracy: 0.3205\n",
            "Epoch 20/50\n",
            "56/56 [==============================] - 3s 60ms/step - loss: 8644.8828 - accuracy: 0.6560\n",
            "Epoch 21/50\n",
            "56/56 [==============================] - 3s 60ms/step - loss: 10595.7441 - accuracy: 0.3423\n",
            "Epoch 22/50\n",
            "56/56 [==============================] - 3s 59ms/step - loss: 8279.6084 - accuracy: 0.3317\n",
            "Epoch 23/50\n",
            "56/56 [==============================] - 3s 61ms/step - loss: 10426.2490 - accuracy: 0.3205\n",
            "Epoch 24/50\n",
            "56/56 [==============================] - 3s 61ms/step - loss: 8501.0010 - accuracy: 0.3205\n",
            "Epoch 25/50\n",
            "56/56 [==============================] - 3s 60ms/step - loss: 6341.0757 - accuracy: 0.6202\n",
            "Epoch 26/50\n",
            "56/56 [==============================] - 3s 60ms/step - loss: 16648.1582 - accuracy: 0.6795\n",
            "Epoch 27/50\n",
            "56/56 [==============================] - 5s 83ms/step - loss: 9281.1133 - accuracy: 0.4178\n",
            "Epoch 28/50\n",
            "56/56 [==============================] - 4s 72ms/step - loss: 7807.7686 - accuracy: 0.3205\n",
            "Epoch 29/50\n",
            "56/56 [==============================] - 3s 61ms/step - loss: 8054.3350 - accuracy: 0.3205\n",
            "Epoch 30/50\n",
            "56/56 [==============================] - 3s 61ms/step - loss: 7866.0054 - accuracy: 0.3205\n",
            "Epoch 31/50\n",
            "56/56 [==============================] - 3s 59ms/step - loss: 9518.2607 - accuracy: 0.5067\n",
            "Epoch 32/50\n",
            "56/56 [==============================] - 3s 61ms/step - loss: 6993.2451 - accuracy: 0.5341\n",
            "Epoch 33/50\n",
            "56/56 [==============================] - 5s 98ms/step - loss: 10763.0537 - accuracy: 0.3205\n",
            "Epoch 34/50\n",
            "56/56 [==============================] - 6s 107ms/step - loss: 6077.7852 - accuracy: 0.6225\n",
            "Epoch 35/50\n",
            "56/56 [==============================] - 5s 89ms/step - loss: 14663.6094 - accuracy: 0.3619\n",
            "Epoch 36/50\n",
            "56/56 [==============================] - 3s 61ms/step - loss: 11533.9219 - accuracy: 0.6745\n",
            "Epoch 37/50\n",
            "56/56 [==============================] - 3s 61ms/step - loss: 8770.2822 - accuracy: 0.3160\n",
            "Epoch 38/50\n",
            "56/56 [==============================] - 3s 60ms/step - loss: 8570.7217 - accuracy: 0.3205\n",
            "Epoch 39/50\n",
            "56/56 [==============================] - 3s 61ms/step - loss: 6839.2881 - accuracy: 0.3205\n",
            "Epoch 40/50\n",
            "56/56 [==============================] - 3s 61ms/step - loss: 6949.6992 - accuracy: 0.3205\n",
            "Epoch 41/50\n",
            "56/56 [==============================] - 3s 61ms/step - loss: 10544.0303 - accuracy: 0.5201\n",
            "Epoch 42/50\n",
            "56/56 [==============================] - 3s 60ms/step - loss: 5237.5625 - accuracy: 0.6320\n",
            "Epoch 43/50\n",
            "56/56 [==============================] - 3s 61ms/step - loss: 10172.4854 - accuracy: 0.5263\n",
            "Epoch 44/50\n",
            "56/56 [==============================] - 3s 61ms/step - loss: 5427.4370 - accuracy: 0.6795\n",
            "Epoch 45/50\n",
            "56/56 [==============================] - 3s 60ms/step - loss: 8368.2168 - accuracy: 0.5705\n",
            "Epoch 46/50\n",
            "56/56 [==============================] - 3s 59ms/step - loss: 6206.3296 - accuracy: 0.6353\n",
            "Epoch 47/50\n",
            "56/56 [==============================] - 3s 59ms/step - loss: 9277.1699 - accuracy: 0.3400\n",
            "Epoch 48/50\n",
            "56/56 [==============================] - 3s 59ms/step - loss: 4361.2832 - accuracy: 0.4189\n",
            "Epoch 49/50\n",
            "56/56 [==============================] - 3s 61ms/step - loss: 11090.1475 - accuracy: 0.3708\n",
            "Epoch 50/50\n",
            "56/56 [==============================] - 3s 61ms/step - loss: 3539.0784 - accuracy: 0.6292\n"
          ]
        },
        {
          "output_type": "execute_result",
          "data": {
            "text/plain": [
              "<keras.callbacks.History at 0x7fca3587b650>"
            ]
          },
          "metadata": {},
          "execution_count": 31
        }
      ]
    },
    {
      "cell_type": "code",
      "source": [
        "from keras.layers import GRU\n",
        "%time\n",
        "model = Sequential()\n",
        "model.add(GRU(50, batch_input_shape=(None, 29,12 ), recurrent_dropout=0.2))\n",
        "model.add(Dropout(0.3))\n",
        "model.add(Dense(2, activation='relu'))\n",
        "model.compile(loss='mse', optimizer='adam', metrics=[\"accuracy\"])\n",
        "model.summary()"
      ],
      "metadata": {
        "colab": {
          "base_uri": "https://localhost:8080/"
        },
        "id": "Qtkhdxfy7_Qj",
        "outputId": "adc3ebc1-ee1f-4bc8-d9ba-b78b594afbb4"
      },
      "execution_count": 45,
      "outputs": [
        {
          "output_type": "stream",
          "name": "stdout",
          "text": [
            "CPU times: user 3 µs, sys: 0 ns, total: 3 µs\n",
            "Wall time: 6.2 µs\n",
            "Model: \"sequential_6\"\n",
            "_________________________________________________________________\n",
            " Layer (type)                Output Shape              Param #   \n",
            "=================================================================\n",
            " gru_2 (GRU)                 (None, 50)                9600      \n",
            "                                                                 \n",
            " dropout_4 (Dropout)         (None, 50)                0         \n",
            "                                                                 \n",
            " dense_5 (Dense)             (None, 2)                 102       \n",
            "                                                                 \n",
            "=================================================================\n",
            "Total params: 9,702\n",
            "Trainable params: 9,702\n",
            "Non-trainable params: 0\n",
            "_________________________________________________________________\n"
          ]
        }
      ]
    },
    {
      "cell_type": "code",
      "source": [
        "%time\n",
        "\n",
        "history = model.fit(x_train, y_train, epochs=50, validation_split=0.2, verbose=1, batch_size=12)\n"
      ],
      "metadata": {
        "colab": {
          "base_uri": "https://localhost:8080/"
        },
        "id": "JB0KeFZ79iXl",
        "outputId": "cfc6db21-370e-4c5a-ead3-42009552cbe9"
      },
      "execution_count": 46,
      "outputs": [
        {
          "output_type": "stream",
          "name": "stdout",
          "text": [
            "CPU times: user 3 µs, sys: 0 ns, total: 3 µs\n",
            "Wall time: 7.39 µs\n",
            "Epoch 1/50\n",
            "120/120 [==============================] - 6s 28ms/step - loss: 0.0098 - accuracy: 0.6462 - val_loss: 0.0012 - val_accuracy: 0.3492\n",
            "Epoch 2/50\n",
            "120/120 [==============================] - 3s 25ms/step - loss: 0.0079 - accuracy: 0.7035 - val_loss: 0.0015 - val_accuracy: 0.6788\n",
            "Epoch 3/50\n",
            "120/120 [==============================] - 3s 25ms/step - loss: 0.0069 - accuracy: 0.7182 - val_loss: 0.0021 - val_accuracy: 0.3492\n",
            "Epoch 4/50\n",
            "120/120 [==============================] - 3s 26ms/step - loss: 0.0069 - accuracy: 0.7441 - val_loss: 0.0012 - val_accuracy: 0.7486\n",
            "Epoch 5/50\n",
            "120/120 [==============================] - 3s 25ms/step - loss: 0.0067 - accuracy: 0.7448 - val_loss: 0.0016 - val_accuracy: 0.3547\n",
            "Epoch 6/50\n",
            "120/120 [==============================] - 3s 25ms/step - loss: 0.0067 - accuracy: 0.7524 - val_loss: 8.5762e-04 - val_accuracy: 0.3939\n",
            "Epoch 7/50\n",
            "120/120 [==============================] - 3s 25ms/step - loss: 0.0065 - accuracy: 0.7406 - val_loss: 0.0027 - val_accuracy: 0.3547\n",
            "Epoch 8/50\n",
            "120/120 [==============================] - 3s 25ms/step - loss: 0.0066 - accuracy: 0.7720 - val_loss: 0.0014 - val_accuracy: 0.3631\n",
            "Epoch 9/50\n",
            "120/120 [==============================] - 3s 25ms/step - loss: 0.0063 - accuracy: 0.7664 - val_loss: 7.6731e-04 - val_accuracy: 0.6034\n",
            "Epoch 10/50\n",
            "120/120 [==============================] - 3s 25ms/step - loss: 0.0063 - accuracy: 0.7741 - val_loss: 0.0011 - val_accuracy: 0.4581\n",
            "Epoch 11/50\n",
            "120/120 [==============================] - 3s 24ms/step - loss: 0.0062 - accuracy: 0.7811 - val_loss: 0.0014 - val_accuracy: 0.3575\n",
            "Epoch 12/50\n",
            "120/120 [==============================] - 3s 24ms/step - loss: 0.0062 - accuracy: 0.7818 - val_loss: 0.0021 - val_accuracy: 0.6536\n",
            "Epoch 13/50\n",
            "120/120 [==============================] - 3s 24ms/step - loss: 0.0062 - accuracy: 0.7608 - val_loss: 7.9598e-04 - val_accuracy: 0.4358\n",
            "Epoch 14/50\n",
            "120/120 [==============================] - 3s 25ms/step - loss: 0.0061 - accuracy: 0.7685 - val_loss: 8.6883e-04 - val_accuracy: 0.5615\n",
            "Epoch 15/50\n",
            "120/120 [==============================] - 3s 25ms/step - loss: 0.0061 - accuracy: 0.7734 - val_loss: 0.0014 - val_accuracy: 0.5922\n",
            "Epoch 16/50\n",
            "120/120 [==============================] - 3s 25ms/step - loss: 0.0060 - accuracy: 0.7636 - val_loss: 7.1878e-04 - val_accuracy: 0.6425\n",
            "Epoch 17/50\n",
            "120/120 [==============================] - 3s 25ms/step - loss: 0.0061 - accuracy: 0.7713 - val_loss: 0.0010 - val_accuracy: 0.7374\n",
            "Epoch 18/50\n",
            "120/120 [==============================] - 3s 25ms/step - loss: 0.0061 - accuracy: 0.7769 - val_loss: 9.6508e-04 - val_accuracy: 0.4525\n",
            "Epoch 19/50\n",
            "120/120 [==============================] - 3s 25ms/step - loss: 0.0059 - accuracy: 0.7811 - val_loss: 9.2285e-04 - val_accuracy: 0.3827\n",
            "Epoch 20/50\n",
            "120/120 [==============================] - 3s 25ms/step - loss: 0.0060 - accuracy: 0.7671 - val_loss: 0.0024 - val_accuracy: 0.6369\n",
            "Epoch 21/50\n",
            "120/120 [==============================] - 3s 25ms/step - loss: 0.0060 - accuracy: 0.7790 - val_loss: 9.2928e-04 - val_accuracy: 0.7123\n",
            "Epoch 22/50\n",
            "120/120 [==============================] - 3s 25ms/step - loss: 0.0061 - accuracy: 0.7825 - val_loss: 7.2040e-04 - val_accuracy: 0.6257\n",
            "Epoch 23/50\n",
            "120/120 [==============================] - 3s 24ms/step - loss: 0.0059 - accuracy: 0.7790 - val_loss: 0.0021 - val_accuracy: 0.6648\n",
            "Epoch 24/50\n",
            "120/120 [==============================] - 3s 25ms/step - loss: 0.0059 - accuracy: 0.7741 - val_loss: 0.0012 - val_accuracy: 0.6927\n",
            "Epoch 25/50\n",
            "120/120 [==============================] - 3s 25ms/step - loss: 0.0059 - accuracy: 0.7881 - val_loss: 0.0010 - val_accuracy: 0.4525\n",
            "Epoch 26/50\n",
            "120/120 [==============================] - 3s 25ms/step - loss: 0.0058 - accuracy: 0.7713 - val_loss: 0.0012 - val_accuracy: 0.4916\n",
            "Epoch 27/50\n",
            "120/120 [==============================] - 3s 25ms/step - loss: 0.0059 - accuracy: 0.7818 - val_loss: 0.0017 - val_accuracy: 0.7011\n",
            "Epoch 28/50\n",
            "120/120 [==============================] - 3s 26ms/step - loss: 0.0059 - accuracy: 0.7874 - val_loss: 0.0011 - val_accuracy: 0.3771\n",
            "Epoch 29/50\n",
            "120/120 [==============================] - 3s 25ms/step - loss: 0.0060 - accuracy: 0.7720 - val_loss: 9.2370e-04 - val_accuracy: 0.7374\n",
            "Epoch 30/50\n",
            "120/120 [==============================] - 3s 25ms/step - loss: 0.0058 - accuracy: 0.7853 - val_loss: 9.7520e-04 - val_accuracy: 0.3966\n",
            "Epoch 31/50\n",
            "120/120 [==============================] - 3s 25ms/step - loss: 0.0058 - accuracy: 0.7909 - val_loss: 0.0012 - val_accuracy: 0.7374\n",
            "Epoch 32/50\n",
            "120/120 [==============================] - 3s 25ms/step - loss: 0.0059 - accuracy: 0.7860 - val_loss: 0.0010 - val_accuracy: 0.3827\n",
            "Epoch 33/50\n",
            "120/120 [==============================] - 3s 24ms/step - loss: 0.0059 - accuracy: 0.7720 - val_loss: 0.0013 - val_accuracy: 0.6899\n",
            "Epoch 34/50\n",
            "120/120 [==============================] - 3s 25ms/step - loss: 0.0058 - accuracy: 0.7797 - val_loss: 9.3719e-04 - val_accuracy: 0.5000\n",
            "Epoch 35/50\n",
            "120/120 [==============================] - 3s 25ms/step - loss: 0.0058 - accuracy: 0.7825 - val_loss: 7.0342e-04 - val_accuracy: 0.7402\n",
            "Epoch 36/50\n",
            "120/120 [==============================] - 3s 26ms/step - loss: 0.0058 - accuracy: 0.7839 - val_loss: 0.0010 - val_accuracy: 0.5391\n",
            "Epoch 37/50\n",
            "120/120 [==============================] - 3s 25ms/step - loss: 0.0059 - accuracy: 0.7860 - val_loss: 8.6501e-04 - val_accuracy: 0.5112\n",
            "Epoch 38/50\n",
            "120/120 [==============================] - 3s 25ms/step - loss: 0.0059 - accuracy: 0.7951 - val_loss: 9.3903e-04 - val_accuracy: 0.6872\n",
            "Epoch 39/50\n",
            "120/120 [==============================] - 3s 24ms/step - loss: 0.0058 - accuracy: 0.7860 - val_loss: 9.7734e-04 - val_accuracy: 0.3994\n",
            "Epoch 40/50\n",
            "120/120 [==============================] - 3s 25ms/step - loss: 0.0058 - accuracy: 0.8000 - val_loss: 0.0011 - val_accuracy: 0.3659\n",
            "Epoch 41/50\n",
            "120/120 [==============================] - 3s 24ms/step - loss: 0.0057 - accuracy: 0.7818 - val_loss: 0.0011 - val_accuracy: 0.7291\n",
            "Epoch 42/50\n",
            "120/120 [==============================] - 3s 25ms/step - loss: 0.0059 - accuracy: 0.7916 - val_loss: 7.3861e-04 - val_accuracy: 0.4972\n",
            "Epoch 43/50\n",
            "120/120 [==============================] - 3s 25ms/step - loss: 0.0057 - accuracy: 0.7853 - val_loss: 0.0010 - val_accuracy: 0.4050\n",
            "Epoch 44/50\n",
            "120/120 [==============================] - 3s 25ms/step - loss: 0.0057 - accuracy: 0.7860 - val_loss: 8.1015e-04 - val_accuracy: 0.4637\n",
            "Epoch 45/50\n",
            "120/120 [==============================] - 3s 25ms/step - loss: 0.0058 - accuracy: 0.7762 - val_loss: 9.3041e-04 - val_accuracy: 0.3994\n",
            "Epoch 46/50\n",
            "120/120 [==============================] - 3s 25ms/step - loss: 0.0058 - accuracy: 0.7734 - val_loss: 0.0011 - val_accuracy: 0.7374\n",
            "Epoch 47/50\n",
            "120/120 [==============================] - 5s 38ms/step - loss: 0.0059 - accuracy: 0.7776 - val_loss: 7.2452e-04 - val_accuracy: 0.5894\n",
            "Epoch 48/50\n",
            "120/120 [==============================] - 6s 51ms/step - loss: 0.0057 - accuracy: 0.7790 - val_loss: 7.7574e-04 - val_accuracy: 0.5223\n",
            "Epoch 49/50\n",
            "120/120 [==============================] - 3s 25ms/step - loss: 0.0058 - accuracy: 0.7937 - val_loss: 9.8274e-04 - val_accuracy: 0.4441\n",
            "Epoch 50/50\n",
            "120/120 [==============================] - 3s 25ms/step - loss: 0.0057 - accuracy: 0.7776 - val_loss: 9.7412e-04 - val_accuracy: 0.3799\n"
          ]
        }
      ]
    },
    {
      "cell_type": "code",
      "source": [
        "''' Results '''\n",
        "results_train = model.evaluate(x_train, y_train)\n",
        "results_test = model.evaluate(x_test, y_test)\n",
        "\n",
        "print('train loss: {}, train acc: {}'.format(results_train[0], results_train[1]))\n",
        "print('test loss: {}, test acc: {}'.format(results_test[0], results_test[1]))\n",
        "\n",
        "plt.plot(history.history['loss'])\n",
        "plt.title('Loss plot')\n",
        "plt.xlabel('Epochs')\n",
        "plt.ylabel('Loss')\n",
        "plt.show()"
      ],
      "metadata": {
        "colab": {
          "base_uri": "https://localhost:8080/",
          "height": 364
        },
        "id": "N2InkSTw96o2",
        "outputId": "fb9c8ab3-0588-4b27-c1c8-d93622e8e31b"
      },
      "execution_count": 47,
      "outputs": [
        {
          "output_type": "stream",
          "name": "stdout",
          "text": [
            "56/56 [==============================] - 0s 5ms/step - loss: 0.0045 - accuracy: 0.7176\n",
            "14/14 [==============================] - 0s 7ms/step - loss: 0.0020 - accuracy: 0.2685\n",
            "train loss: 0.0045380862429738045, train acc: 0.7175615429878235\n",
            "test loss: 0.0020421051885932684, test acc: 0.268456369638443\n"
          ]
        },
        {
          "output_type": "display_data",
          "data": {
            "text/plain": [
              "<Figure size 432x288 with 1 Axes>"
            ],
            "image/png": "[encoded data removed]"
          },
          "metadata": {
            "needs_background": "light"
          }
        }
      ]
    },
    {
      "cell_type": "code",
      "source": [
        "%time\n",
        "model = Sequential()\n",
        "model.add(SimpleRNN(units=50, input_shape=x_train.shape[1:], activation=\"relu\", recurrent_dropout=0.2))\n",
        "model.add(Dense(2, activation='relu'))\n",
        "model.compile(optimizer = 'adam',loss = 'mse',metrics = [\"accuracy\"])\n",
        "model.summary()"
      ],
      "metadata": {
        "colab": {
          "base_uri": "https://localhost:8080/"
        },
        "id": "_vezBdCu-aeM",
        "outputId": "1f1c18e2-254d-42b2-bb12-41aab146b067"
      },
      "execution_count": 48,
      "outputs": [
        {
          "output_type": "stream",
          "name": "stdout",
          "text": [
            "CPU times: user 4 µs, sys: 0 ns, total: 4 µs\n",
            "Wall time: 8.34 µs\n",
            "Model: \"sequential_7\"\n",
            "_________________________________________________________________\n",
            " Layer (type)                Output Shape              Param #   \n",
            "=================================================================\n",
            " simple_rnn_2 (SimpleRNN)    (None, 50)                3150      \n",
            "                                                                 \n",
            " dense_6 (Dense)             (None, 2)                 102       \n",
            "                                                                 \n",
            "=================================================================\n",
            "Total params: 3,252\n",
            "Trainable params: 3,252\n",
            "Non-trainable params: 0\n",
            "_________________________________________________________________\n"
          ]
        }
      ]
    },
    {
      "cell_type": "code",
      "source": [
        "%time\n",
        "\n",
        "history = model.fit(x_train, y_train, epochs=50, validation_split=0.2, verbose=1, batch_size=12 )"
      ],
      "metadata": {
        "colab": {
          "base_uri": "https://localhost:8080/"
        },
        "id": "VBLuB_G9_KXd",
        "outputId": "d589832b-e809-480f-9b10-e8665e621d3f"
      },
      "execution_count": 49,
      "outputs": [
        {
          "output_type": "stream",
          "name": "stdout",
          "text": [
            "CPU times: user 4 µs, sys: 0 ns, total: 4 µs\n",
            "Wall time: 7.87 µs\n",
            "Epoch 1/50\n",
            "120/120 [==============================] - 2s 11ms/step - loss: 0.0143 - accuracy: 0.6818 - val_loss: 0.0013 - val_accuracy: 0.3492\n",
            "Epoch 2/50\n",
            "120/120 [==============================] - 1s 10ms/step - loss: 0.0074 - accuracy: 0.7392 - val_loss: 0.0015 - val_accuracy: 0.4274\n",
            "Epoch 3/50\n",
            "120/120 [==============================] - 1s 9ms/step - loss: 0.0068 - accuracy: 0.7308 - val_loss: 0.0012 - val_accuracy: 0.5615\n",
            "Epoch 4/50\n",
            "120/120 [==============================] - 1s 10ms/step - loss: 0.0064 - accuracy: 0.7462 - val_loss: 9.2442e-04 - val_accuracy: 0.4497\n",
            "Epoch 5/50\n",
            "120/120 [==============================] - 1s 9ms/step - loss: 0.0062 - accuracy: 0.7469 - val_loss: 8.7431e-04 - val_accuracy: 0.6201\n",
            "Epoch 6/50\n",
            "120/120 [==============================] - 1s 10ms/step - loss: 0.0062 - accuracy: 0.7615 - val_loss: 9.4643e-04 - val_accuracy: 0.3520\n",
            "Epoch 7/50\n",
            "120/120 [==============================] - 2s 15ms/step - loss: 0.0061 - accuracy: 0.7727 - val_loss: 9.7282e-04 - val_accuracy: 0.7374\n",
            "Epoch 8/50\n",
            "120/120 [==============================] - 2s 13ms/step - loss: 0.0059 - accuracy: 0.7517 - val_loss: 0.0019 - val_accuracy: 0.3492\n",
            "Epoch 9/50\n",
            "120/120 [==============================] - 1s 9ms/step - loss: 0.0060 - accuracy: 0.7615 - val_loss: 0.0018 - val_accuracy: 0.3687\n",
            "Epoch 10/50\n",
            "120/120 [==============================] - 1s 9ms/step - loss: 0.0059 - accuracy: 0.7776 - val_loss: 0.0012 - val_accuracy: 0.7179\n",
            "Epoch 11/50\n",
            "120/120 [==============================] - 1s 9ms/step - loss: 0.0059 - accuracy: 0.7839 - val_loss: 8.3020e-04 - val_accuracy: 0.7095\n",
            "Epoch 12/50\n",
            "120/120 [==============================] - 1s 10ms/step - loss: 0.0058 - accuracy: 0.7804 - val_loss: 0.0011 - val_accuracy: 0.3911\n",
            "Epoch 13/50\n",
            "120/120 [==============================] - 1s 9ms/step - loss: 0.0058 - accuracy: 0.7818 - val_loss: 0.0019 - val_accuracy: 0.7318\n",
            "Epoch 14/50\n",
            "120/120 [==============================] - 1s 9ms/step - loss: 0.0059 - accuracy: 0.7741 - val_loss: 8.4334e-04 - val_accuracy: 0.4078\n",
            "Epoch 15/50\n",
            "120/120 [==============================] - 1s 10ms/step - loss: 0.0058 - accuracy: 0.7860 - val_loss: 0.0020 - val_accuracy: 0.3939\n",
            "Epoch 16/50\n",
            "120/120 [==============================] - 1s 10ms/step - loss: 0.0059 - accuracy: 0.7909 - val_loss: 0.0022 - val_accuracy: 0.7318\n",
            "Epoch 17/50\n",
            "120/120 [==============================] - 1s 9ms/step - loss: 0.0058 - accuracy: 0.7762 - val_loss: 0.0011 - val_accuracy: 0.5894\n",
            "Epoch 18/50\n",
            "120/120 [==============================] - 1s 9ms/step - loss: 0.0057 - accuracy: 0.7762 - val_loss: 0.0016 - val_accuracy: 0.6508\n",
            "Epoch 19/50\n",
            "120/120 [==============================] - 1s 9ms/step - loss: 0.0058 - accuracy: 0.7923 - val_loss: 0.0010 - val_accuracy: 0.7346\n",
            "Epoch 20/50\n",
            "120/120 [==============================] - 1s 9ms/step - loss: 0.0056 - accuracy: 0.7993 - val_loss: 7.2887e-04 - val_accuracy: 0.5615\n",
            "Epoch 21/50\n",
            "120/120 [==============================] - 1s 9ms/step - loss: 0.0057 - accuracy: 0.7853 - val_loss: 0.0014 - val_accuracy: 0.6564\n",
            "Epoch 22/50\n",
            "120/120 [==============================] - 1s 10ms/step - loss: 0.0057 - accuracy: 0.7867 - val_loss: 0.0018 - val_accuracy: 0.4693\n",
            "Epoch 23/50\n",
            "120/120 [==============================] - 1s 9ms/step - loss: 0.0057 - accuracy: 0.7755 - val_loss: 0.0015 - val_accuracy: 0.7458\n",
            "Epoch 24/50\n",
            "120/120 [==============================] - 1s 10ms/step - loss: 0.0057 - accuracy: 0.7783 - val_loss: 0.0011 - val_accuracy: 0.6788\n",
            "Epoch 25/50\n",
            "120/120 [==============================] - 1s 10ms/step - loss: 0.0057 - accuracy: 0.7818 - val_loss: 0.0013 - val_accuracy: 0.6872\n",
            "Epoch 26/50\n",
            "120/120 [==============================] - 1s 9ms/step - loss: 0.0057 - accuracy: 0.7832 - val_loss: 0.0013 - val_accuracy: 0.6508\n",
            "Epoch 27/50\n",
            "120/120 [==============================] - 1s 10ms/step - loss: 0.0057 - accuracy: 0.7818 - val_loss: 0.0011 - val_accuracy: 0.3855\n",
            "Epoch 28/50\n",
            "120/120 [==============================] - 2s 14ms/step - loss: 0.0056 - accuracy: 0.7951 - val_loss: 0.0019 - val_accuracy: 0.4190\n",
            "Epoch 29/50\n",
            "120/120 [==============================] - 2s 16ms/step - loss: 0.0057 - accuracy: 0.7916 - val_loss: 0.0013 - val_accuracy: 0.6676\n",
            "Epoch 30/50\n",
            "120/120 [==============================] - 2s 15ms/step - loss: 0.0056 - accuracy: 0.7965 - val_loss: 0.0016 - val_accuracy: 0.5950\n",
            "Epoch 31/50\n",
            "120/120 [==============================] - 2s 14ms/step - loss: 0.0056 - accuracy: 0.7944 - val_loss: 0.0013 - val_accuracy: 0.4022\n",
            "Epoch 32/50\n",
            "120/120 [==============================] - 2s 15ms/step - loss: 0.0056 - accuracy: 0.7937 - val_loss: 0.0017 - val_accuracy: 0.3855\n",
            "Epoch 33/50\n",
            "120/120 [==============================] - 1s 11ms/step - loss: 0.0056 - accuracy: 0.7895 - val_loss: 0.0010 - val_accuracy: 0.6872\n",
            "Epoch 34/50\n",
            "120/120 [==============================] - 1s 10ms/step - loss: 0.0056 - accuracy: 0.7867 - val_loss: 0.0019 - val_accuracy: 0.6369\n",
            "Epoch 35/50\n",
            "120/120 [==============================] - 2s 16ms/step - loss: 0.0055 - accuracy: 0.7895 - val_loss: 0.0012 - val_accuracy: 0.3855\n",
            "Epoch 36/50\n",
            "120/120 [==============================] - 1s 11ms/step - loss: 0.0055 - accuracy: 0.7685 - val_loss: 0.0019 - val_accuracy: 0.7179\n",
            "Epoch 37/50\n",
            "120/120 [==============================] - 1s 9ms/step - loss: 0.0055 - accuracy: 0.7923 - val_loss: 0.0010 - val_accuracy: 0.4218\n",
            "Epoch 38/50\n",
            "120/120 [==============================] - 2s 16ms/step - loss: 0.0055 - accuracy: 0.7916 - val_loss: 0.0011 - val_accuracy: 0.7123\n",
            "Epoch 39/50\n",
            "120/120 [==============================] - 2s 15ms/step - loss: 0.0055 - accuracy: 0.7783 - val_loss: 0.0011 - val_accuracy: 0.5335\n",
            "Epoch 40/50\n",
            "120/120 [==============================] - 2s 14ms/step - loss: 0.0055 - accuracy: 0.7986 - val_loss: 9.8286e-04 - val_accuracy: 0.5363\n",
            "Epoch 41/50\n",
            "120/120 [==============================] - 2s 15ms/step - loss: 0.0055 - accuracy: 0.7811 - val_loss: 7.8703e-04 - val_accuracy: 0.7207\n",
            "Epoch 42/50\n",
            "120/120 [==============================] - 1s 11ms/step - loss: 0.0055 - accuracy: 0.7902 - val_loss: 7.9120e-04 - val_accuracy: 0.7514\n",
            "Epoch 43/50\n",
            "120/120 [==============================] - 1s 9ms/step - loss: 0.0056 - accuracy: 0.8028 - val_loss: 0.0012 - val_accuracy: 0.4022\n",
            "Epoch 44/50\n",
            "120/120 [==============================] - 1s 8ms/step - loss: 0.0054 - accuracy: 0.7916 - val_loss: 0.0013 - val_accuracy: 0.4749\n",
            "Epoch 45/50\n",
            "120/120 [==============================] - 1s 9ms/step - loss: 0.0055 - accuracy: 0.7944 - val_loss: 8.3910e-04 - val_accuracy: 0.4050\n",
            "Epoch 46/50\n",
            "120/120 [==============================] - 1s 9ms/step - loss: 0.0054 - accuracy: 0.7916 - val_loss: 0.0011 - val_accuracy: 0.3883\n",
            "Epoch 47/50\n",
            "120/120 [==============================] - 1s 9ms/step - loss: 0.0054 - accuracy: 0.7930 - val_loss: 0.0011 - val_accuracy: 0.3827\n",
            "Epoch 48/50\n",
            "120/120 [==============================] - 1s 9ms/step - loss: 0.0054 - accuracy: 0.8119 - val_loss: 7.2457e-04 - val_accuracy: 0.5084\n",
            "Epoch 49/50\n",
            "120/120 [==============================] - 1s 9ms/step - loss: 0.0053 - accuracy: 0.7853 - val_loss: 9.4473e-04 - val_accuracy: 0.4078\n",
            "Epoch 50/50\n",
            "120/120 [==============================] - 1s 9ms/step - loss: 0.0054 - accuracy: 0.7916 - val_loss: 0.0011 - val_accuracy: 0.3966\n"
          ]
        }
      ]
    },
    {
      "cell_type": "code",
      "source": [
        "''' Results '''\n",
        "results_train = model.evaluate(x_train, y_train)\n",
        "results_test = model.evaluate(x_test, y_test)\n",
        "\n",
        "print('train loss: {}, train acc: {}'.format(results_train[0], results_train[1]))\n",
        "print('test loss: {}, test acc: {}'.format(results_test[0], results_test[1]))\n",
        "\n",
        "plt.plot(history.history['loss'])\n",
        "plt.title('Loss plot')\n",
        "plt.xlabel('Epochs')\n",
        "plt.ylabel('Loss')\n",
        "plt.show()"
      ],
      "metadata": {
        "colab": {
          "base_uri": "https://localhost:8080/",
          "height": 364
        },
        "id": "tJf9TxRG_h5D",
        "outputId": "1a85fefe-a800-4bdf-b505-1d3620233377"
      },
      "execution_count": 50,
      "outputs": [
        {
          "output_type": "stream",
          "name": "stdout",
          "text": [
            "56/56 [==============================] - 0s 3ms/step - loss: 0.0043 - accuracy: 0.7215\n",
            "14/14 [==============================] - 0s 3ms/step - loss: 0.0010 - accuracy: 0.3154\n",
            "train loss: 0.0043263789266347885, train acc: 0.7214764952659607\n",
            "test loss: 0.0010466387029737234, test acc: 0.3154362440109253\n"
          ]
        },
        {
          "output_type": "display_data",
          "data": {
            "text/plain": [
              "<Figure size 432x288 with 1 Axes>"
            ],
            "image/png": "[encoded data removed]"
          },
          "metadata": {
            "needs_background": "light"
          }
        }
      ]
    },
    {
      "cell_type": "code",
      "source": [
        "%time\n",
        "model = Sequential()\n",
        "model.add(SimpleRNN(units=50, input_shape=x_train.shape[1:], activation=\"relu\", recurrent_dropout=0.0))\n",
        "model.add(Dense(2, activation='relu'))\n",
        "model.compile(optimizer = 'adam',loss = 'mse',metrics = [\"accuracy\"])\n",
        "model.summary()"
      ],
      "metadata": {
        "colab": {
          "base_uri": "https://localhost:8080/"
        },
        "id": "RizTXxl3Bd6y",
        "outputId": "b8579369-d45b-4252-a56f-67a8fa40bf19"
      },
      "execution_count": 51,
      "outputs": [
        {
          "output_type": "stream",
          "name": "stdout",
          "text": [
            "CPU times: user 0 ns, sys: 5 µs, total: 5 µs\n",
            "Wall time: 9.78 µs\n",
            "Model: \"sequential_8\"\n",
            "_________________________________________________________________\n",
            " Layer (type)                Output Shape              Param #   \n",
            "=================================================================\n",
            " simple_rnn_3 (SimpleRNN)    (None, 50)                3150      \n",
            "                                                                 \n",
            " dense_7 (Dense)             (None, 2)                 102       \n",
            "                                                                 \n",
            "=================================================================\n",
            "Total params: 3,252\n",
            "Trainable params: 3,252\n",
            "Non-trainable params: 0\n",
            "_________________________________________________________________\n"
          ]
        }
      ]
    },
    {
      "cell_type": "code",
      "source": [
        "%time\n",
        "\n",
        "history = model.fit(x_train, y_train, epochs=50, validation_split=0.2, verbose=1, batch_size=12 )"
      ],
      "metadata": {
        "colab": {
          "base_uri": "https://localhost:8080/"
        },
        "id": "7ZvpiZShBgxz",
        "outputId": "861492d1-c880-4083-9541-ea8b83025cb8"
      },
      "execution_count": 52,
      "outputs": [
        {
          "output_type": "stream",
          "name": "stdout",
          "text": [
            "CPU times: user 4 µs, sys: 0 ns, total: 4 µs\n",
            "Wall time: 8.58 µs\n",
            "Epoch 1/50\n",
            "120/120 [==============================] - 2s 9ms/step - loss: 0.0096 - accuracy: 0.6517 - val_loss: 0.0019 - val_accuracy: 0.3492\n",
            "Epoch 2/50\n",
            "120/120 [==============================] - 1s 7ms/step - loss: 0.0063 - accuracy: 0.7434 - val_loss: 0.0019 - val_accuracy: 0.3492\n",
            "Epoch 3/50\n",
            "120/120 [==============================] - 1s 8ms/step - loss: 0.0060 - accuracy: 0.7664 - val_loss: 0.0020 - val_accuracy: 0.3492\n",
            "Epoch 4/50\n",
            "120/120 [==============================] - 1s 7ms/step - loss: 0.0058 - accuracy: 0.7762 - val_loss: 0.0031 - val_accuracy: 0.3492\n",
            "Epoch 5/50\n",
            "120/120 [==============================] - 1s 7ms/step - loss: 0.0058 - accuracy: 0.7671 - val_loss: 0.0026 - val_accuracy: 0.3492\n",
            "Epoch 6/50\n",
            "120/120 [==============================] - 1s 7ms/step - loss: 0.0057 - accuracy: 0.7825 - val_loss: 0.0048 - val_accuracy: 0.3492\n",
            "Epoch 7/50\n",
            "120/120 [==============================] - 1s 7ms/step - loss: 0.0057 - accuracy: 0.7762 - val_loss: 0.0013 - val_accuracy: 0.3687\n",
            "Epoch 8/50\n",
            "120/120 [==============================] - 1s 7ms/step - loss: 0.0056 - accuracy: 0.7965 - val_loss: 0.0013 - val_accuracy: 0.3715\n",
            "Epoch 9/50\n",
            "120/120 [==============================] - 1s 7ms/step - loss: 0.0055 - accuracy: 0.7853 - val_loss: 0.0017 - val_accuracy: 0.3575\n",
            "Epoch 10/50\n",
            "120/120 [==============================] - 1s 7ms/step - loss: 0.0055 - accuracy: 0.7874 - val_loss: 0.0024 - val_accuracy: 0.3547\n",
            "Epoch 11/50\n",
            "120/120 [==============================] - 1s 7ms/step - loss: 0.0055 - accuracy: 0.7713 - val_loss: 0.0039 - val_accuracy: 0.3492\n",
            "Epoch 12/50\n",
            "120/120 [==============================] - 1s 7ms/step - loss: 0.0055 - accuracy: 0.7874 - val_loss: 0.0016 - val_accuracy: 0.3575\n",
            "Epoch 13/50\n",
            "120/120 [==============================] - 1s 7ms/step - loss: 0.0055 - accuracy: 0.7685 - val_loss: 0.0040 - val_accuracy: 0.3520\n",
            "Epoch 14/50\n",
            "120/120 [==============================] - 1s 7ms/step - loss: 0.0054 - accuracy: 0.7776 - val_loss: 0.0030 - val_accuracy: 0.3520\n",
            "Epoch 15/50\n",
            "120/120 [==============================] - 1s 7ms/step - loss: 0.0055 - accuracy: 0.7762 - val_loss: 0.0024 - val_accuracy: 0.4246\n",
            "Epoch 16/50\n",
            "120/120 [==============================] - 1s 7ms/step - loss: 0.0054 - accuracy: 0.7874 - val_loss: 0.0051 - val_accuracy: 0.3520\n",
            "Epoch 17/50\n",
            "120/120 [==============================] - 1s 8ms/step - loss: 0.0054 - accuracy: 0.7839 - val_loss: 8.2997e-04 - val_accuracy: 0.4860\n",
            "Epoch 18/50\n",
            "120/120 [==============================] - 1s 8ms/step - loss: 0.0054 - accuracy: 0.7671 - val_loss: 0.0018 - val_accuracy: 0.3575\n",
            "Epoch 19/50\n",
            "120/120 [==============================] - 1s 7ms/step - loss: 0.0053 - accuracy: 0.7776 - val_loss: 0.0018 - val_accuracy: 0.3799\n",
            "Epoch 20/50\n",
            "120/120 [==============================] - 1s 8ms/step - loss: 0.0054 - accuracy: 0.7783 - val_loss: 0.0014 - val_accuracy: 0.3715\n",
            "Epoch 21/50\n",
            "120/120 [==============================] - 1s 7ms/step - loss: 0.0052 - accuracy: 0.7818 - val_loss: 8.4972e-04 - val_accuracy: 0.4190\n",
            "Epoch 22/50\n",
            "120/120 [==============================] - 1s 7ms/step - loss: 0.0053 - accuracy: 0.7797 - val_loss: 0.0010 - val_accuracy: 0.3911\n",
            "Epoch 23/50\n",
            "120/120 [==============================] - 1s 8ms/step - loss: 0.0052 - accuracy: 0.7811 - val_loss: 8.1232e-04 - val_accuracy: 0.4274\n",
            "Epoch 24/50\n",
            "120/120 [==============================] - 1s 7ms/step - loss: 0.0053 - accuracy: 0.7874 - val_loss: 0.0017 - val_accuracy: 0.3631\n",
            "Epoch 25/50\n",
            "120/120 [==============================] - 1s 7ms/step - loss: 0.0053 - accuracy: 0.7930 - val_loss: 0.0015 - val_accuracy: 0.3659\n",
            "Epoch 26/50\n",
            "120/120 [==============================] - 1s 7ms/step - loss: 0.0052 - accuracy: 0.7860 - val_loss: 0.0025 - val_accuracy: 0.3575\n",
            "Epoch 27/50\n",
            "120/120 [==============================] - 1s 8ms/step - loss: 0.0052 - accuracy: 0.7825 - val_loss: 0.0023 - val_accuracy: 0.3631\n",
            "Epoch 28/50\n",
            "120/120 [==============================] - 1s 8ms/step - loss: 0.0052 - accuracy: 0.7755 - val_loss: 0.0013 - val_accuracy: 0.3799\n",
            "Epoch 29/50\n",
            "120/120 [==============================] - 1s 7ms/step - loss: 0.0051 - accuracy: 0.7727 - val_loss: 0.0014 - val_accuracy: 0.3799\n",
            "Epoch 30/50\n",
            "120/120 [==============================] - 1s 8ms/step - loss: 0.0051 - accuracy: 0.7713 - val_loss: 0.0019 - val_accuracy: 0.3855\n",
            "Epoch 31/50\n",
            "120/120 [==============================] - 1s 7ms/step - loss: 0.0051 - accuracy: 0.7930 - val_loss: 0.0021 - val_accuracy: 0.3799\n",
            "Epoch 32/50\n",
            "120/120 [==============================] - 1s 7ms/step - loss: 0.0050 - accuracy: 0.7916 - val_loss: 9.1480e-04 - val_accuracy: 0.4860\n",
            "Epoch 33/50\n",
            "120/120 [==============================] - 1s 8ms/step - loss: 0.0051 - accuracy: 0.7881 - val_loss: 8.2823e-04 - val_accuracy: 0.5112\n",
            "Epoch 34/50\n",
            "120/120 [==============================] - 1s 7ms/step - loss: 0.0049 - accuracy: 0.7881 - val_loss: 0.0010 - val_accuracy: 0.3966\n",
            "Epoch 35/50\n",
            "120/120 [==============================] - 1s 8ms/step - loss: 0.0049 - accuracy: 0.7755 - val_loss: 8.8331e-04 - val_accuracy: 0.3994\n",
            "Epoch 36/50\n",
            "120/120 [==============================] - 1s 7ms/step - loss: 0.0050 - accuracy: 0.7846 - val_loss: 0.0027 - val_accuracy: 0.3547\n",
            "Epoch 37/50\n",
            "120/120 [==============================] - 1s 7ms/step - loss: 0.0050 - accuracy: 0.7804 - val_loss: 8.4209e-04 - val_accuracy: 0.4637\n",
            "Epoch 38/50\n",
            "120/120 [==============================] - 1s 7ms/step - loss: 0.0049 - accuracy: 0.7888 - val_loss: 0.0016 - val_accuracy: 0.3771\n",
            "Epoch 39/50\n",
            "120/120 [==============================] - 1s 7ms/step - loss: 0.0052 - accuracy: 0.7664 - val_loss: 0.0019 - val_accuracy: 0.3939\n",
            "Epoch 40/50\n",
            "120/120 [==============================] - 1s 8ms/step - loss: 0.0049 - accuracy: 0.7811 - val_loss: 9.0177e-04 - val_accuracy: 0.4190\n",
            "Epoch 41/50\n",
            "120/120 [==============================] - 1s 8ms/step - loss: 0.0048 - accuracy: 0.7797 - val_loss: 0.0013 - val_accuracy: 0.3827\n",
            "Epoch 42/50\n",
            "120/120 [==============================] - 1s 8ms/step - loss: 0.0048 - accuracy: 0.7776 - val_loss: 9.7563e-04 - val_accuracy: 0.7179\n",
            "Epoch 43/50\n",
            "120/120 [==============================] - 1s 8ms/step - loss: 0.0048 - accuracy: 0.7804 - val_loss: 8.5957e-04 - val_accuracy: 0.4553\n",
            "Epoch 44/50\n",
            "120/120 [==============================] - 1s 7ms/step - loss: 0.0048 - accuracy: 0.7748 - val_loss: 8.9705e-04 - val_accuracy: 0.4609\n",
            "Epoch 45/50\n",
            "120/120 [==============================] - 1s 7ms/step - loss: 0.0047 - accuracy: 0.7762 - val_loss: 9.7893e-04 - val_accuracy: 0.4749\n",
            "Epoch 46/50\n",
            "120/120 [==============================] - 1s 8ms/step - loss: 0.0046 - accuracy: 0.7839 - val_loss: 0.0012 - val_accuracy: 0.5223\n",
            "Epoch 47/50\n",
            "120/120 [==============================] - 1s 7ms/step - loss: 0.0047 - accuracy: 0.7895 - val_loss: 0.0012 - val_accuracy: 0.7235\n",
            "Epoch 48/50\n",
            "120/120 [==============================] - 1s 7ms/step - loss: 0.0048 - accuracy: 0.7748 - val_loss: 0.0019 - val_accuracy: 0.3771\n",
            "Epoch 49/50\n",
            "120/120 [==============================] - 1s 8ms/step - loss: 0.0047 - accuracy: 0.7853 - val_loss: 8.1989e-04 - val_accuracy: 0.6313\n",
            "Epoch 50/50\n",
            "120/120 [==============================] - 1s 7ms/step - loss: 0.0046 - accuracy: 0.7825 - val_loss: 0.0011 - val_accuracy: 0.5670\n"
          ]
        }
      ]
    },
    {
      "cell_type": "code",
      "source": [
        "''' Results '''\n",
        "results_train = model.evaluate(x_train, y_train)\n",
        "results_test = model.evaluate(x_test, y_test)\n",
        "\n",
        "print('train loss: {}, train acc: {}'.format(results_train[0], results_train[1]))\n",
        "print('test loss: {}, test acc: {}'.format(results_test[0], results_test[1]))\n",
        "\n",
        "plt.plot(history.history['loss'])\n",
        "plt.title('Loss plot')\n",
        "plt.xlabel('Epochs')\n",
        "plt.ylabel('Loss')\n",
        "plt.show()"
      ],
      "metadata": {
        "colab": {
          "base_uri": "https://localhost:8080/",
          "height": 364
        },
        "id": "fxaGvy4RCgAL",
        "outputId": "27ebf954-d971-4b90-c1e0-a11353a6a334"
      },
      "execution_count": 53,
      "outputs": [
        {
          "output_type": "stream",
          "name": "stdout",
          "text": [
            "56/56 [==============================] - 0s 4ms/step - loss: 0.0037 - accuracy: 0.7466\n",
            "14/14 [==============================] - 0s 5ms/step - loss: 7.4621e-04 - accuracy: 0.5996\n",
            "train loss: 0.0036834562197327614, train acc: 0.7466443181037903\n",
            "test loss: 0.0007462065550498664, test acc: 0.599552571773529\n"
          ]
        },
        {
          "output_type": "display_data",
          "data": {
            "text/plain": [
              "<Figure size 432x288 with 1 Axes>"
            ],
            "image/png": "[encoded data removed]"
          },
          "metadata": {
            "needs_background": "light"
          }
        }
      ]
    },
    {
      "cell_type": "markdown",
      "source": [
        ""
      ],
      "metadata": {
        "id": "8pGvZHNkBfHb"
      }
    }
  ]
}